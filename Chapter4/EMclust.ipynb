{
  "nbformat": 4,
  "nbformat_minor": 0,
  "metadata": {
    "colab": {
      "name": "EMclust.ipynb",
      "provenance": [],
      "collapsed_sections": [],
      "authorship_tag": "ABX9TyMk8hQUKTwYycGWdOXBOJJ4",
      "include_colab_link": true
    },
    "kernelspec": {
      "name": "python3",
      "display_name": "Python 3"
    },
    "language_info": {
      "name": "python"
    }
  },
  "cells": [
    {
      "cell_type": "markdown",
      "metadata": {
        "id": "view-in-github",
        "colab_type": "text"
      },
      "source": [
        "<a href=\"https://colab.research.google.com/github/gnitnaw/Programs/blob/master/Chapter4/EMclust.ipynb\" target=\"_parent\"><img src=\"https://colab.research.google.com/assets/colab-badge.svg\" alt=\"Open In Colab\"/></a>"
      ]
    },
    {
      "cell_type": "code",
      "metadata": {
        "colab": {
          "base_uri": "https://localhost:8080/"
        },
        "id": "NaWHJhVsAblT",
        "outputId": "695ff913-2c1a-40d3-f865-92cf95b0ddce"
      },
      "source": [
        "!python --version\n",
        "!rm clusterdata.*\n",
        "!wget https://raw.github.com/gnitnaw/Programs/master/Chapter4/clusterdata.csv"
      ],
      "execution_count": 1,
      "outputs": [
        {
          "output_type": "stream",
          "name": "stdout",
          "text": [
            "Python 3.7.12\n",
            "--2021-11-03 12:38:43--  https://raw.github.com/gnitnaw/Programs/master/Chapter4/clusterdata.csv\n",
            "Resolving raw.github.com (raw.github.com)... 185.199.108.133, 185.199.109.133, 185.199.110.133, ...\n",
            "Connecting to raw.github.com (raw.github.com)|185.199.108.133|:443... connected.\n",
            "HTTP request sent, awaiting response... 301 Moved Permanently\n",
            "Location: https://raw.githubusercontent.com/gnitnaw/Programs/master/Chapter4/clusterdata.csv [following]\n",
            "--2021-11-03 12:38:43--  https://raw.githubusercontent.com/gnitnaw/Programs/master/Chapter4/clusterdata.csv\n",
            "Resolving raw.githubusercontent.com (raw.githubusercontent.com)... 185.199.108.133, 185.199.109.133, 185.199.110.133, ...\n",
            "Connecting to raw.githubusercontent.com (raw.githubusercontent.com)|185.199.108.133|:443... connected.\n",
            "HTTP request sent, awaiting response... 200 OK\n",
            "Length: 4832 (4.7K) [text/plain]\n",
            "Saving to: ‘clusterdata.csv’\n",
            "\n",
            "clusterdata.csv     100%[===================>]   4.72K  --.-KB/s    in 0s      \n",
            "\n",
            "2021-11-03 12:38:43 (55.0 MB/s) - ‘clusterdata.csv’ saved [4832/4832]\n",
            "\n"
          ]
        }
      ]
    },
    {
      "cell_type": "markdown",
      "metadata": {
        "id": "LetQC4wyAgKh"
      },
      "source": [
        "# Example 4.5\n",
        "## Import modules"
      ]
    },
    {
      "cell_type": "code",
      "metadata": {
        "colab": {
          "base_uri": "https://localhost:8080/"
        },
        "id": "-bXKlDOvAoW5",
        "outputId": "b947915a-450a-46a2-c828-d8106f8c5d18"
      },
      "source": [
        "import numpy as np\n",
        "from scipy.stats import multivariate_normal\n",
        "import matplotlib.pyplot as plt\n",
        "from matplotlib.patches import Ellipse\n",
        "import matplotlib.transforms as transforms\n",
        "print(np.__version__)"
      ],
      "execution_count": 2,
      "outputs": [
        {
          "output_type": "stream",
          "name": "stdout",
          "text": [
            "1.19.5\n"
          ]
        }
      ]
    },
    {
      "cell_type": "markdown",
      "metadata": {
        "id": "WmrPRrN05iIF"
      },
      "source": [
        "## Set random seed"
      ]
    },
    {
      "cell_type": "code",
      "metadata": {
        "id": "DdzVvsn_5lIf"
      },
      "source": [
        "np.random.seed(120)"
      ],
      "execution_count": 3,
      "outputs": []
    },
    {
      "cell_type": "markdown",
      "metadata": {
        "id": "Ac0W1PHLKrBu"
      },
      "source": [
        "## Additional Function"
      ]
    },
    {
      "cell_type": "code",
      "metadata": {
        "id": "PsrqEi1_L_cm"
      },
      "source": [
        "def confidence_ellipse_pure(mu, cov, ax, n_std=1.96, facecolor='none', **kwargs):\n",
        "    pearson = cov[0, 1]/np.sqrt(cov[0, 0] * cov[1, 1])\n",
        "    # Using a special case to obtain the eigenvalues of this\n",
        "    # two-dimensionl dataset.\n",
        "    ell_radius_x = np.sqrt(1 + pearson)\n",
        "    ell_radius_y = np.sqrt(1 - pearson)\n",
        "    ellipse = Ellipse((0, 0), width=ell_radius_x * 2, height=ell_radius_y * 2,\n",
        "                      facecolor=facecolor, **kwargs)\n",
        "\n",
        "    # Calculating the stdandard deviation of x from\n",
        "    # the squareroot of the variance and multiplying\n",
        "    # with the given number of standard deviations.\n",
        "    scale_x = np.sqrt(cov[0, 0]) * n_std\n",
        "    mean_x = np.mean(x)\n",
        "\n",
        "    # calculating the stdandard deviation of y ...\n",
        "    scale_y = np.sqrt(cov[1, 1]) * n_std\n",
        "    mean_y = np.mean(y)\n",
        "\n",
        "    transf = transforms.Affine2D() \\\n",
        "        .rotate_deg(45) \\\n",
        "        .scale(scale_x, scale_y) \\\n",
        "        .translate(mu[0], mu[1])\n",
        "\n",
        "    ellipse.set_transform(transf + ax.transData)\n",
        "    return ax.add_patch(ellipse)\n",
        "\n",
        "def confidence_ellipse(x, y, ax, n_std=1.96, facecolor='none', **kwargs):\n",
        "    \"\"\"\n",
        "    Create a plot of the covariance confidence ellipse of *x* and *y*.\n",
        "\n",
        "    Parameters\n",
        "    ----------\n",
        "    x, y : array-like, shape (n, )\n",
        "        Input data.\n",
        "\n",
        "    ax : matplotlib.axes.Axes\n",
        "        The axes object to draw the ellipse into.\n",
        "\n",
        "    n_std : float\n",
        "        The number of standard deviations to determine the ellipse's radiuses.\n",
        "\n",
        "    **kwargs\n",
        "        Forwarded to `~matplotlib.patches.Ellipse`\n",
        "\n",
        "    Returns\n",
        "    -------\n",
        "    matplotlib.patches.Ellipse\n",
        "    \"\"\"\n",
        "    if x.size != y.size:\n",
        "        raise ValueError(\"x and y must be the same size\")\n",
        "\n",
        "    cov = np.cov(x, y)\n",
        "    pearson = cov[0, 1]/np.sqrt(cov[0, 0] * cov[1, 1])\n",
        "    # Using a special case to obtain the eigenvalues of this\n",
        "    # two-dimensionl dataset.\n",
        "    ell_radius_x = np.sqrt(1 + pearson)\n",
        "    ell_radius_y = np.sqrt(1 - pearson)\n",
        "    ellipse = Ellipse((0, 0), width=ell_radius_x * 2, height=ell_radius_y * 2,\n",
        "                      facecolor=facecolor, **kwargs)\n",
        "\n",
        "    # Calculating the stdandard deviation of x from\n",
        "    # the squareroot of the variance and multiplying\n",
        "    # with the given number of standard deviations.\n",
        "    scale_x = np.sqrt(cov[0, 0]) * n_std\n",
        "    mean_x = np.mean(x)\n",
        "\n",
        "    # calculating the stdandard deviation of y ...\n",
        "    scale_y = np.sqrt(cov[1, 1]) * n_std\n",
        "    mean_y = np.mean(y)\n",
        "\n",
        "    transf = transforms.Affine2D() \\\n",
        "        .rotate_deg(45) \\\n",
        "        .scale(scale_x, scale_y) \\\n",
        "        .translate(mean_x, mean_y)\n",
        "\n",
        "    ellipse.set_transform(transf + ax.transData)\n",
        "    return ax.add_patch(ellipse)\n",
        "\n",
        "def get_correlated_dataset(n, dependency, mu, scale):\n",
        "    latent = np.random.randn(n, 2)\n",
        "    dependent = latent.dot(dependency)\n",
        "    scaled = dependent * scale\n",
        "    scaled_with_offset = scaled + mu\n",
        "    # return x and y of the new, correlated dataset\n",
        "    return scaled_with_offset[:, 0], scaled_with_offset[:, 1]"
      ],
      "execution_count": 4,
      "outputs": []
    },
    {
      "cell_type": "markdown",
      "metadata": {
        "id": "KYGyiNcLBI8j"
      },
      "source": [
        "## Original Program"
      ]
    },
    {
      "cell_type": "code",
      "metadata": {
        "colab": {
          "base_uri": "https://localhost:8080/"
        },
        "id": "9OGRmXk9BLh2",
        "outputId": "b7b2a225-0309-4767-b11c-a180d6a9dbbe"
      },
      "source": [
        "Xmat = np.genfromtxt('clusterdata.csv', delimiter=',')\n",
        "K = 3\n",
        "n, D = Xmat.shape\n",
        "\n",
        "W = np.array([[1/3,1/3,1/3]])\n",
        "M  = np.array([[-2.0,-4,0],[-3,1,-1]])  #stores the mu's as columns\n",
        "C = np.zeros((3,2,2))\n",
        "\n",
        "C[:,0,0] = 1\n",
        "C[:,1,1] = 1\n",
        "\n",
        "p = np.zeros((3,300))\n",
        "\n",
        "for i in range(0,100): \n",
        "\n",
        "    for k in range(0,K):    #E-step\n",
        "        mvn = multivariate_normal( M[:,k].T, C[k,:,:] )\n",
        "        p[k,:] = W[0,k]*mvn.pdf(Xmat)\n",
        "\n",
        "    p = p/sum(p,0)   #normalize\n",
        "\n",
        "    W = np.mean(p,1).reshape(1,3)\n",
        "    for k in range(0,K):\n",
        "        M[:,k] = (Xmat.T @ p[k,:].T)/sum(p[k,:])\n",
        "        xm = Xmat.T - M[:,k].reshape(2,1)\n",
        "        C[k,:,:] = xm @ (xm*p[k,:]).T/sum(p[k,:])\n",
        "\n",
        "print(W)"
      ],
      "execution_count": 5,
      "outputs": [
        {
          "output_type": "stream",
          "name": "stdout",
          "text": [
            "[[0.33033004 0.32063338 0.34903658]]\n"
          ]
        }
      ]
    },
    {
      "cell_type": "code",
      "metadata": {
        "colab": {
          "base_uri": "https://localhost:8080/",
          "height": 489
        },
        "id": "Bp72_Iz3frAq",
        "outputId": "1c459a36-03c3-4201-e23c-998e60224af0"
      },
      "source": [
        "Mr  = np.array([[-1.51, -4.08, 0.36],[-3.01, -0.033, -0.88]])  \n",
        "Cr = [[[1.75, 0.03],[0.03, 0.095]],\n",
        "      [[1.37, 0.92],[0.92, 1.03]],\n",
        "      [[1.93, -1.20],[-1.20, 1.44]]]\n",
        "print(Mr)\n",
        "print(M)\n",
        "print(Cr)\n",
        "print(C)\n",
        "plt.plot(Xmat[:100, 0],Xmat[:100, 1], 'go')\n",
        "plt.plot(Xmat[100:200, 0],Xmat[100:200, 1], 'ro')\n",
        "plt.plot(Xmat[200:300, 0],Xmat[200:300, 1], 'bo')\n",
        "plt.show()"
      ],
      "execution_count": 6,
      "outputs": [
        {
          "output_type": "stream",
          "name": "stdout",
          "text": [
            "[[-1.51  -4.08   0.36 ]\n",
            " [-3.01  -0.033 -0.88 ]]\n",
            "[[-1.51278007 -4.07760396  0.36199726]\n",
            " [-3.00507166 -0.03345979 -0.87813491]]\n",
            "[[[1.75, 0.03], [0.03, 0.095]], [[1.37, 0.92], [0.92, 1.03]], [[1.93, -1.2], [-1.2, 1.44]]]\n",
            "[[[ 1.74763402  0.03378977]\n",
            "  [ 0.03378977  0.09495477]]\n",
            "\n",
            " [[ 1.37270033  0.91725907]\n",
            "  [ 0.91725907  1.02833702]]\n",
            "\n",
            " [[ 1.92708464 -1.19656408]\n",
            "  [-1.19656408  1.43788275]]]\n"
          ]
        },
        {
          "output_type": "display_data",
          "data": {
            "image/png": "[encoded data removed]",
            "text/plain": [
              "<Figure size 432x288 with 1 Axes>"
            ]
          },
          "metadata": {
            "needs_background": "light"
          }
        }
      ]
    },
    {
      "cell_type": "code",
      "metadata": {
        "colab": {
          "base_uri": "https://localhost:8080/",
          "height": 336
        },
        "id": "DuLW28BiMS1X",
        "outputId": "edbf582f-8c5d-481d-a4a0-4daded67e022"
      },
      "source": [
        "Mu = np.array([[-4, 0], [0.5, -1], [-1.5, -3]])\n",
        "Cov = np.array([[[2.0, 1.4],\n",
        "                [1.4, 1.5]],\n",
        "               [[2.0, -0.95],\n",
        "                [-0.95, 1]],\n",
        "               [[2.0, 0.1],\n",
        "                [0.1, 0.1]]] )\n",
        "\n",
        "scale = 1, 1\n",
        "fig = plt.figure()\n",
        "ax = fig.add_axes([0,0,1,1])\n",
        "for i in range(3):\n",
        "    x = Xmat[100*i:100*(i+1), 0]\n",
        "    y = Xmat[100*i:100*(i+1), 1]\n",
        "    ax.scatter(x, y, s=5)\n",
        "    confidence_ellipse_pure(Mu[i], Cov[i], ax, edgecolor='grey')\n",
        "    ax.scatter(Mu[i][0], Mu[i][1], c='red', s=10)\n",
        "\n",
        "plt.show()"
      ],
      "execution_count": 7,
      "outputs": [
        {
          "output_type": "display_data",
          "data": {
            "image/png": "[encoded data removed]",
            "text/plain": [
              "<Figure size 432x288 with 1 Axes>"
            ]
          },
          "metadata": {
            "needs_background": "light"
          }
        }
      ]
    }
  ]
}
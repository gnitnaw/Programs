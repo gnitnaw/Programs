{
  "nbformat": 4,
  "nbformat_minor": 0,
  "metadata": {
    "colab": {
      "name": "EMclust.ipynb",
      "provenance": [],
      "collapsed_sections": [],
      "authorship_tag": "ABX9TyPcwD5J78sfVUeAu82a0htE",
      "include_colab_link": true
    },
    "kernelspec": {
      "name": "python3",
      "display_name": "Python 3"
    },
    "language_info": {
      "name": "python"
    }
  },
  "cells": [
    {
      "cell_type": "markdown",
      "metadata": {
        "id": "view-in-github",
        "colab_type": "text"
      },
      "source": [
        "<a href=\"https://colab.research.google.com/github/gnitnaw/Programs/blob/master/Chapter4/EMclust.ipynb\" target=\"_parent\"><img src=\"https://colab.research.google.com/assets/colab-badge.svg\" alt=\"Open In Colab\"/></a>"
      ]
    },
    {
      "cell_type": "code",
      "metadata": {
        "colab": {
          "base_uri": "https://localhost:8080/"
        },
        "id": "NaWHJhVsAblT",
        "outputId": "f7d6bbb4-bd7d-4ef4-cc05-ee95dbc316c1"
      },
      "source": [
        "!python --version\n",
        "!rm clusterdata.*\n",
        "!wget https://raw.github.com/gnitnaw/Programs/master/Chapter4/clusterdata.csv"
      ],
      "execution_count": 13,
      "outputs": [
        {
          "output_type": "stream",
          "name": "stdout",
          "text": [
            "Python 3.7.12\n",
            "--2021-10-24 08:51:05--  https://raw.github.com/gnitnaw/Programs/master/Chapter4/clusterdata.csv\n",
            "Resolving raw.github.com (raw.github.com)... 185.199.110.133, 185.199.109.133, 185.199.108.133, ...\n",
            "Connecting to raw.github.com (raw.github.com)|185.199.110.133|:443... connected.\n",
            "HTTP request sent, awaiting response... 301 Moved Permanently\n",
            "Location: https://raw.githubusercontent.com/gnitnaw/Programs/master/Chapter4/clusterdata.csv [following]\n",
            "--2021-10-24 08:51:06--  https://raw.githubusercontent.com/gnitnaw/Programs/master/Chapter4/clusterdata.csv\n",
            "Resolving raw.githubusercontent.com (raw.githubusercontent.com)... 185.199.108.133, 185.199.109.133, 185.199.111.133, ...\n",
            "Connecting to raw.githubusercontent.com (raw.githubusercontent.com)|185.199.108.133|:443... connected.\n",
            "HTTP request sent, awaiting response... 200 OK\n",
            "Length: 4832 (4.7K) [text/plain]\n",
            "Saving to: ‘clusterdata.csv’\n",
            "\n",
            "clusterdata.csv     100%[===================>]   4.72K  --.-KB/s    in 0s      \n",
            "\n",
            "2021-10-24 08:51:06 (52.8 MB/s) - ‘clusterdata.csv’ saved [4832/4832]\n",
            "\n"
          ]
        }
      ]
    },
    {
      "cell_type": "markdown",
      "metadata": {
        "id": "LetQC4wyAgKh"
      },
      "source": [
        "# Example 3.5\n",
        "## Import modules"
      ]
    },
    {
      "cell_type": "code",
      "metadata": {
        "colab": {
          "base_uri": "https://localhost:8080/"
        },
        "id": "-bXKlDOvAoW5",
        "outputId": "ee708502-ae5a-4eb7-d50d-a68180cce71c"
      },
      "source": [
        "import numpy as np\n",
        "from scipy.stats import multivariate_normal\n",
        "print(np.__version__)"
      ],
      "execution_count": 14,
      "outputs": [
        {
          "output_type": "stream",
          "name": "stdout",
          "text": [
            "1.19.5\n"
          ]
        }
      ]
    },
    {
      "cell_type": "markdown",
      "metadata": {
        "id": "WmrPRrN05iIF"
      },
      "source": [
        "## Set random seed"
      ]
    },
    {
      "cell_type": "code",
      "metadata": {
        "id": "DdzVvsn_5lIf"
      },
      "source": [
        "np.random.seed(120)"
      ],
      "execution_count": 15,
      "outputs": []
    },
    {
      "cell_type": "markdown",
      "metadata": {
        "id": "KYGyiNcLBI8j"
      },
      "source": [
        "## Original Program"
      ]
    },
    {
      "cell_type": "code",
      "metadata": {
        "colab": {
          "base_uri": "https://localhost:8080/"
        },
        "id": "9OGRmXk9BLh2",
        "outputId": "0239fe4a-ce02-4fe4-c414-2c4a8d8dad00"
      },
      "source": [
        "Xmat = np.genfromtxt('clusterdata.csv', delimiter=',')\n",
        "K = 3\n",
        "n, D = Xmat.shape\n",
        "\n",
        "W = np.array([[1/3,1/3,1/3]])\n",
        "M  = np.array([[-2.0,-4,0],[-3,1,-1]])  #stores the mu's as columns\n",
        "C = np.zeros((3,2,2))\n",
        "\n",
        "C[:,0,0] = 1\n",
        "C[:,1,1] = 1\n",
        "\n",
        "p = np.zeros((3,300))\n",
        "\n",
        "for i in range(0,100): \n",
        "\n",
        "    for k in range(0,K):    #E-step\n",
        "        mvn = multivariate_normal( M[:,k].T, C[k,:,:] )\n",
        "        p[k,:] = W[0,k]*mvn.pdf(Xmat)\n",
        "\n",
        "    p = p/sum(p,0)   #normalize\n",
        "\n",
        "    W = np.mean(p,1).reshape(1,3)\n",
        "    for k in range(0,K):\n",
        "        M[:,k] = (Xmat.T @ p[k,:].T)/sum(p[k,:])\n",
        "        xm = Xmat.T - M[:,k].reshape(2,1)\n",
        "        C[k,:,:] = xm @ (xm*p[k,:]).T/sum(p[k,:])\n",
        "\n",
        "print(W)"
      ],
      "execution_count": 16,
      "outputs": [
        {
          "output_type": "stream",
          "name": "stdout",
          "text": [
            "[[0.33033004 0.32063338 0.34903658]]\n"
          ]
        }
      ]
    }
  ]
}
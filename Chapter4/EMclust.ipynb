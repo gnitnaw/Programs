{
  "nbformat": 4,
  "nbformat_minor": 0,
  "metadata": {
    "colab": {
      "name": "EMclust.ipynb",
      "provenance": [],
      "collapsed_sections": [],
      "authorship_tag": "ABX9TyOgDc/22qvM/JZdEF5Gncfy",
      "include_colab_link": true
    },
    "kernelspec": {
      "name": "python3",
      "display_name": "Python 3"
    },
    "language_info": {
      "name": "python"
    }
  },
  "cells": [
    {
      "cell_type": "markdown",
      "metadata": {
        "id": "view-in-github",
        "colab_type": "text"
      },
      "source": [
        "<a href=\"https://colab.research.google.com/github/gnitnaw/Programs/blob/master/Chapter4/EMclust.ipynb\" target=\"_parent\"><img src=\"https://colab.research.google.com/assets/colab-badge.svg\" alt=\"Open In Colab\"/></a>"
      ]
    },
    {
      "cell_type": "code",
      "metadata": {
        "colab": {
          "base_uri": "https://localhost:8080/"
        },
        "id": "NaWHJhVsAblT",
        "outputId": "643eccb2-6002-4daa-baf9-9ffaf333c369"
      },
      "source": [
        "!python --version\n",
        "!rm clusterdata.*\n",
        "!wget https://raw.github.com/gnitnaw/Programs/master/Chapter4/clusterdata.csv"
      ],
      "execution_count": 1,
      "outputs": [
        {
          "output_type": "stream",
          "name": "stdout",
          "text": [
            "Python 3.7.12\n",
            "--2021-10-24 15:06:42--  https://raw.github.com/gnitnaw/Programs/master/Chapter4/clusterdata.csv\n",
            "Resolving raw.github.com (raw.github.com)... 185.199.108.133, 185.199.109.133, 185.199.110.133, ...\n",
            "Connecting to raw.github.com (raw.github.com)|185.199.108.133|:443... connected.\n",
            "HTTP request sent, awaiting response... 301 Moved Permanently\n",
            "Location: https://raw.githubusercontent.com/gnitnaw/Programs/master/Chapter4/clusterdata.csv [following]\n",
            "--2021-10-24 15:06:42--  https://raw.githubusercontent.com/gnitnaw/Programs/master/Chapter4/clusterdata.csv\n",
            "Resolving raw.githubusercontent.com (raw.githubusercontent.com)... 185.199.108.133, 185.199.109.133, 185.199.110.133, ...\n",
            "Connecting to raw.githubusercontent.com (raw.githubusercontent.com)|185.199.108.133|:443... connected.\n",
            "HTTP request sent, awaiting response... 200 OK\n",
            "Length: 4832 (4.7K) [text/plain]\n",
            "Saving to: ‘clusterdata.csv’\n",
            "\n",
            "clusterdata.csv     100%[===================>]   4.72K  --.-KB/s    in 0s      \n",
            "\n",
            "2021-10-24 15:06:42 (47.8 MB/s) - ‘clusterdata.csv’ saved [4832/4832]\n",
            "\n"
          ]
        }
      ]
    },
    {
      "cell_type": "markdown",
      "metadata": {
        "id": "LetQC4wyAgKh"
      },
      "source": [
        "# Example 3.5\n",
        "## Import modules"
      ]
    },
    {
      "cell_type": "code",
      "metadata": {
        "colab": {
          "base_uri": "https://localhost:8080/"
        },
        "id": "-bXKlDOvAoW5",
        "outputId": "01059d7c-643a-4dde-eafb-bfd6eab43b8f"
      },
      "source": [
        "import numpy as np\n",
        "from scipy.stats import multivariate_normal\n",
        "import matplotlib.pyplot as plt\n",
        "print(np.__version__)"
      ],
      "execution_count": 2,
      "outputs": [
        {
          "output_type": "stream",
          "name": "stdout",
          "text": [
            "1.19.5\n"
          ]
        }
      ]
    },
    {
      "cell_type": "markdown",
      "metadata": {
        "id": "WmrPRrN05iIF"
      },
      "source": [
        "## Set random seed"
      ]
    },
    {
      "cell_type": "code",
      "metadata": {
        "id": "DdzVvsn_5lIf"
      },
      "source": [
        "np.random.seed(120)"
      ],
      "execution_count": 3,
      "outputs": []
    },
    {
      "cell_type": "markdown",
      "metadata": {
        "id": "KYGyiNcLBI8j"
      },
      "source": [
        "## Original Program"
      ]
    },
    {
      "cell_type": "code",
      "metadata": {
        "colab": {
          "base_uri": "https://localhost:8080/"
        },
        "id": "9OGRmXk9BLh2",
        "outputId": "8fdd0ad5-e70f-4345-e986-8b435cc94190"
      },
      "source": [
        "Xmat = np.genfromtxt('clusterdata.csv', delimiter=',')\n",
        "K = 3\n",
        "n, D = Xmat.shape\n",
        "\n",
        "W = np.array([[1/3,1/3,1/3]])\n",
        "M  = np.array([[-2.0,-4,0],[-3,1,-1]])  #stores the mu's as columns\n",
        "C = np.zeros((3,2,2))\n",
        "\n",
        "C[:,0,0] = 1\n",
        "C[:,1,1] = 1\n",
        "\n",
        "p = np.zeros((3,300))\n",
        "\n",
        "for i in range(0,100): \n",
        "\n",
        "    for k in range(0,K):    #E-step\n",
        "        mvn = multivariate_normal( M[:,k].T, C[k,:,:] )\n",
        "        p[k,:] = W[0,k]*mvn.pdf(Xmat)\n",
        "\n",
        "    p = p/sum(p,0)   #normalize\n",
        "\n",
        "    W = np.mean(p,1).reshape(1,3)\n",
        "    for k in range(0,K):\n",
        "        M[:,k] = (Xmat.T @ p[k,:].T)/sum(p[k,:])\n",
        "        xm = Xmat.T - M[:,k].reshape(2,1)\n",
        "        C[k,:,:] = xm @ (xm*p[k,:]).T/sum(p[k,:])\n",
        "\n",
        "print(W)"
      ],
      "execution_count": 4,
      "outputs": [
        {
          "output_type": "stream",
          "name": "stdout",
          "text": [
            "[[0.33033004 0.32063338 0.34903658]]\n"
          ]
        }
      ]
    },
    {
      "cell_type": "code",
      "metadata": {
        "colab": {
          "base_uri": "https://localhost:8080/",
          "height": 510
        },
        "id": "Bp72_Iz3frAq",
        "outputId": "faba4e61-80cb-46db-9b31-9f5dfa18fc98"
      },
      "source": [
        "Mr  = np.array([[-1.51, -4.08, 0.36],[-3.01, -0.033, -0.88]])  \n",
        "Cr = [[[1.75, 0.03],[0.03, 0.095]],\n",
        "      [[1.37, 0.92],[0.92, 1.03]],\n",
        "      [[1.93, -1.20],[-1.20, 1.44]]]\n",
        "print(Mr)\n",
        "print(M)\n",
        "print(Cr)\n",
        "print(C)\n",
        "plt.plot(Xmat[:100, 0],Xmat[:100, 1], 'go')\n",
        "plt.plot(Xmat[100:200, 0],Xmat[100:200, 1], 'ro')\n",
        "plt.plot(Xmat[200:300, 0],Xmat[200:300, 1], 'bo')\n",
        "plt.contourf(Xmat[:100, 0],Xmat[:100, 1],zi,6,cmap=cm.Greys_r)\n",
        "plt.show()"
      ],
      "execution_count": 5,
      "outputs": [
        {
          "output_type": "stream",
          "name": "stdout",
          "text": [
            "[[-1.51  -4.08   0.36 ]\n",
            " [-3.01  -0.033 -0.88 ]]\n",
            "[[-1.51278007 -4.07760396  0.36199726]\n",
            " [-3.00507166 -0.03345979 -0.87813491]]\n",
            "[[[1.75, 0.03], [0.03, 0.095]], [[1.37, 0.92], [0.92, 1.03]], [[1.93, -1.2], [-1.2, 1.44]]]\n",
            "[[[ 1.74763402  0.03378977]\n",
            "  [ 0.03378977  0.09495477]]\n",
            "\n",
            " [[ 1.37270033  0.91725907]\n",
            "  [ 0.91725907  1.02833702]]\n",
            "\n",
            " [[ 1.92708464 -1.19656408]\n",
            "  [-1.19656408  1.43788275]]]\n"
          ]
        },
        {
          "output_type": "display_data",
          "data": {
            "image/png": "[encoded data removed]",
            "text/plain": [
              "<Figure size 432x288 with 1 Axes>"
            ]
          },
          "metadata": {
            "needs_background": "light"
          }
        }
      ]
    }
  ]
}
{
  "nbformat": 4,
  "nbformat_minor": 0,
  "metadata": {
    "colab": {
      "name": "EMclust.ipynb",
      "provenance": [],
      "collapsed_sections": [],
      "authorship_tag": "ABX9TyM2dQsf1CWXl9meRrdjsV7L",
      "include_colab_link": true
    },
    "kernelspec": {
      "name": "python3",
      "display_name": "Python 3"
    },
    "language_info": {
      "name": "python"
    }
  },
  "cells": [
    {
      "cell_type": "markdown",
      "metadata": {
        "id": "view-in-github",
        "colab_type": "text"
      },
      "source": [
        "<a href=\"https://colab.research.google.com/github/gnitnaw/Programs/blob/master/Chapter4/EMclust.ipynb\" target=\"_parent\"><img src=\"https://colab.research.google.com/assets/colab-badge.svg\" alt=\"Open In Colab\"/></a>"
      ]
    },
    {
      "cell_type": "code",
      "metadata": {
        "colab": {
          "base_uri": "https://localhost:8080/"
        },
        "id": "NaWHJhVsAblT",
        "outputId": "b127df8a-0b69-4aa2-cef1-3e73ca279d9b"
      },
      "source": [
        "!python --version\n",
        "!rm clusterdata.*\n",
        "!wget https://raw.github.com/gnitnaw/Programs/master/Chapter4/clusterdata.csv"
      ],
      "execution_count": 1,
      "outputs": [
        {
          "output_type": "stream",
          "name": "stdout",
          "text": [
            "Python 3.7.12\n",
            "--2021-11-03 14:43:42--  https://raw.github.com/gnitnaw/Programs/master/Chapter4/clusterdata.csv\n",
            "Resolving raw.github.com (raw.github.com)... 185.199.110.133, 185.199.108.133, 185.199.111.133, ...\n",
            "Connecting to raw.github.com (raw.github.com)|185.199.110.133|:443... connected.\n",
            "HTTP request sent, awaiting response... 301 Moved Permanently\n",
            "Location: https://raw.githubusercontent.com/gnitnaw/Programs/master/Chapter4/clusterdata.csv [following]\n",
            "--2021-11-03 14:43:42--  https://raw.githubusercontent.com/gnitnaw/Programs/master/Chapter4/clusterdata.csv\n",
            "Resolving raw.githubusercontent.com (raw.githubusercontent.com)... 185.199.108.133, 185.199.109.133, 185.199.110.133, ...\n",
            "Connecting to raw.githubusercontent.com (raw.githubusercontent.com)|185.199.108.133|:443... connected.\n",
            "HTTP request sent, awaiting response... 200 OK\n",
            "Length: 4832 (4.7K) [text/plain]\n",
            "Saving to: ‘clusterdata.csv’\n",
            "\n",
            "clusterdata.csv     100%[===================>]   4.72K  --.-KB/s    in 0s      \n",
            "\n",
            "2021-11-03 14:43:42 (46.1 MB/s) - ‘clusterdata.csv’ saved [4832/4832]\n",
            "\n"
          ]
        }
      ]
    },
    {
      "cell_type": "markdown",
      "metadata": {
        "id": "LetQC4wyAgKh"
      },
      "source": [
        "# Example 4.5\n",
        "## Import modules"
      ]
    },
    {
      "cell_type": "code",
      "metadata": {
        "colab": {
          "base_uri": "https://localhost:8080/"
        },
        "id": "-bXKlDOvAoW5",
        "outputId": "a8e9fcee-bd0f-4a2f-89ce-4bb2ddd6f638"
      },
      "source": [
        "import numpy as np\n",
        "from scipy.stats import multivariate_normal\n",
        "import matplotlib.pyplot as plt\n",
        "from matplotlib.patches import Ellipse\n",
        "import matplotlib.transforms as transforms\n",
        "print(np.__version__)"
      ],
      "execution_count": 2,
      "outputs": [
        {
          "output_type": "stream",
          "name": "stdout",
          "text": [
            "1.19.5\n"
          ]
        }
      ]
    },
    {
      "cell_type": "markdown",
      "metadata": {
        "id": "WmrPRrN05iIF"
      },
      "source": [
        "## Set random seed"
      ]
    },
    {
      "cell_type": "code",
      "metadata": {
        "id": "DdzVvsn_5lIf"
      },
      "source": [
        "np.random.seed(120)"
      ],
      "execution_count": 3,
      "outputs": []
    },
    {
      "cell_type": "markdown",
      "metadata": {
        "id": "Ac0W1PHLKrBu"
      },
      "source": [
        "## Additional Function"
      ]
    },
    {
      "cell_type": "code",
      "metadata": {
        "id": "PsrqEi1_L_cm"
      },
      "source": [
        "def confidence_ellipse_pure(mu, cov, ax, n_std=1.96, facecolor='none', **kwargs):\n",
        "    pearson = cov[0, 1]/np.sqrt(cov[0, 0] * cov[1, 1])\n",
        "    # Using a special case to obtain the eigenvalues of this\n",
        "    # two-dimensionl dataset.\n",
        "    ell_radius_x = np.sqrt(1 + pearson)\n",
        "    ell_radius_y = np.sqrt(1 - pearson)\n",
        "    ellipse = Ellipse((0, 0), width=ell_radius_x * 2, height=ell_radius_y * 2,\n",
        "                      facecolor=facecolor, **kwargs)\n",
        "\n",
        "    # Calculating the stdandard deviation of x from\n",
        "    # the squareroot of the variance and multiplying\n",
        "    # with the given number of standard deviations.\n",
        "    scale_x = np.sqrt(cov[0, 0]) * n_std\n",
        "    mean_x = np.mean(x)\n",
        "\n",
        "    # calculating the stdandard deviation of y ...\n",
        "    scale_y = np.sqrt(cov[1, 1]) * n_std\n",
        "    mean_y = np.mean(y)\n",
        "\n",
        "    transf = transforms.Affine2D() \\\n",
        "        .rotate_deg(45) \\\n",
        "        .scale(scale_x, scale_y) \\\n",
        "        .translate(mu[0], mu[1])\n",
        "\n",
        "    ellipse.set_transform(transf + ax.transData)\n",
        "    return ax.add_patch(ellipse)\n",
        "\n",
        "def confidence_ellipse(x, y, ax, n_std=1.96, facecolor='none', **kwargs):\n",
        "    \"\"\"\n",
        "    Create a plot of the covariance confidence ellipse of *x* and *y*.\n",
        "\n",
        "    Parameters\n",
        "    ----------\n",
        "    x, y : array-like, shape (n, )\n",
        "        Input data.\n",
        "\n",
        "    ax : matplotlib.axes.Axes\n",
        "        The axes object to draw the ellipse into.\n",
        "\n",
        "    n_std : float\n",
        "        The number of standard deviations to determine the ellipse's radiuses.\n",
        "\n",
        "    **kwargs\n",
        "        Forwarded to `~matplotlib.patches.Ellipse`\n",
        "\n",
        "    Returns\n",
        "    -------\n",
        "    matplotlib.patches.Ellipse\n",
        "    \"\"\"\n",
        "    if x.size != y.size:\n",
        "        raise ValueError(\"x and y must be the same size\")\n",
        "\n",
        "    cov = np.cov(x, y)\n",
        "    pearson = cov[0, 1]/np.sqrt(cov[0, 0] * cov[1, 1])\n",
        "    # Using a special case to obtain the eigenvalues of this\n",
        "    # two-dimensionl dataset.\n",
        "    ell_radius_x = np.sqrt(1 + pearson)\n",
        "    ell_radius_y = np.sqrt(1 - pearson)\n",
        "    ellipse = Ellipse((0, 0), width=ell_radius_x * 2, height=ell_radius_y * 2,\n",
        "                      facecolor=facecolor, **kwargs)\n",
        "\n",
        "    # Calculating the stdandard deviation of x from\n",
        "    # the squareroot of the variance and multiplying\n",
        "    # with the given number of standard deviations.\n",
        "    scale_x = np.sqrt(cov[0, 0]) * n_std\n",
        "    mean_x = np.mean(x)\n",
        "\n",
        "    # calculating the stdandard deviation of y ...\n",
        "    scale_y = np.sqrt(cov[1, 1]) * n_std\n",
        "    mean_y = np.mean(y)\n",
        "\n",
        "    transf = transforms.Affine2D() \\\n",
        "        .rotate_deg(45) \\\n",
        "        .scale(scale_x, scale_y) \\\n",
        "        .translate(mean_x, mean_y)\n",
        "\n",
        "    ellipse.set_transform(transf + ax.transData)\n",
        "    return ax.add_patch(ellipse)\n",
        "\n",
        "def get_correlated_dataset(n, dependency, mu, scale):\n",
        "    latent = np.random.randn(n, 2)\n",
        "    dependent = latent.dot(dependency)\n",
        "    scaled = dependent * scale\n",
        "    scaled_with_offset = scaled + mu\n",
        "    # return x and y of the new, correlated dataset\n",
        "    return scaled_with_offset[:, 0], scaled_with_offset[:, 1]"
      ],
      "execution_count": 4,
      "outputs": []
    },
    {
      "cell_type": "markdown",
      "metadata": {
        "id": "KYGyiNcLBI8j"
      },
      "source": [
        "## Original Program"
      ]
    },
    {
      "cell_type": "code",
      "metadata": {
        "colab": {
          "base_uri": "https://localhost:8080/"
        },
        "id": "9OGRmXk9BLh2",
        "outputId": "c6c1102a-6d7a-47e6-a5a4-073869f95177"
      },
      "source": [
        "Xmat = np.genfromtxt('clusterdata.csv', delimiter=',')\n",
        "K = 3\n",
        "n, D = Xmat.shape\n",
        "\n",
        "W = np.array([[1/3,1/3,1/3]])\n",
        "M  = np.array([[-2.0,-4,0],[-3,1,-1]])  #stores the mu's as columns\n",
        "C = np.zeros((3,2,2))\n",
        "\n",
        "C[:,0,0] = 1\n",
        "C[:,1,1] = 1\n",
        "\n",
        "p = np.zeros((3,300))\n",
        "\n",
        "labels = np.zeros(300, dtype=int)\n",
        "for i in range(0,100): \n",
        "\n",
        "    for k in range(0,K):    #E-step\n",
        "        mvn = multivariate_normal( M[:,k].T, C[k,:,:] )\n",
        "        p[k,:] = W[0,k]*mvn.pdf(Xmat)\n",
        "\n",
        "    # M-step\n",
        "    p = p/sum(p,0)   #normalize\n",
        "    W = np.mean(p,1).reshape(1,3)\n",
        "    for k in range(0,K):\n",
        "        M[:,k] = (Xmat.T @ p[k,:].T)/sum(p[k,:])\n",
        "        xm = Xmat.T - M[:,k].reshape(2,1)\n",
        "        C[k,:,:] = xm @ (xm*p[k,:]).T/sum(p[k,:])\n",
        "\n",
        "for i in range(300):\n",
        "    if p[0][i]>p[1][i] : #0>1\n",
        "        if p[0][i]>p[2][i] : #0>1,2\n",
        "            labels[i] = 0\n",
        "        else : #0>1, 2>0\n",
        "            labels[i] = 2\n",
        "    else : # 1>0\n",
        "        if p[1][i]>p[2][i] : #1>0,2\n",
        "            labels[i] = 1\n",
        "        else : # 1>0, 2>1\n",
        "            labels[i] = 2\n",
        "\n",
        "WW = np.zeros(3)\n",
        "\n",
        "for i in range(300):\n",
        "    WW[labels[i]] = WW[labels[i]]+1\n",
        "print(W)\n",
        "#print(labels)\n",
        "print(mvn.pdf(Xmat).shape)\n",
        "print(WW/300.0)\n",
        "print(np.mean(p,1))"
      ],
      "execution_count": 5,
      "outputs": [
        {
          "output_type": "stream",
          "name": "stdout",
          "text": [
            "[[0.33033004 0.32063338 0.34903658]]\n",
            "(300,)\n",
            "[0.33 0.33 0.34]\n",
            "[0.33033004 0.32063338 0.34903658]\n"
          ]
        }
      ]
    },
    {
      "cell_type": "code",
      "metadata": {
        "colab": {
          "base_uri": "https://localhost:8080/",
          "height": 265
        },
        "id": "Bp72_Iz3frAq",
        "outputId": "5869e4dd-7b64-463a-d2c7-889667df98f6"
      },
      "source": [
        "plt.plot(Xmat[:100, 0],Xmat[:100, 1], 'go')\n",
        "plt.plot(Xmat[100:200, 0],Xmat[100:200, 1], 'ro')\n",
        "plt.plot(Xmat[200:300, 0],Xmat[200:300, 1], 'bo')\n",
        "plt.show()"
      ],
      "execution_count": 6,
      "outputs": [
        {
          "output_type": "display_data",
          "data": {
            "image/png": "[encoded data removed]",
            "text/plain": [
              "<Figure size 432x288 with 1 Axes>"
            ]
          },
          "metadata": {
            "needs_background": "light"
          }
        }
      ]
    },
    {
      "cell_type": "code",
      "metadata": {
        "colab": {
          "base_uri": "https://localhost:8080/",
          "height": 336
        },
        "id": "DuLW28BiMS1X",
        "outputId": "90feb175-3714-42ac-b823-0e3508f065a8"
      },
      "source": [
        "Mu = np.array([[-4, 0], [0.5, -1], [-1.5, -3]])\n",
        "Cov = np.array([[[2.0, 1.4],\n",
        "                [1.4, 1.5]],\n",
        "               [[2.0, -0.95],\n",
        "                [-0.95, 1]],\n",
        "               [[2.0, 0.1],\n",
        "                [0.1, 0.1]]] )\n",
        "\n",
        "scale = 1, 1\n",
        "fig = plt.figure()\n",
        "ax = fig.add_axes([0,0,1,1])\n",
        "for i in range(3):\n",
        "    x = Xmat[100*i:100*(i+1), 0]\n",
        "    y = Xmat[100*i:100*(i+1), 1]\n",
        "    ax.scatter(x, y, s=5)\n",
        "    confidence_ellipse_pure(Mu[i], Cov[i], ax, edgecolor='grey')\n",
        "    confidence_ellipse_pure(M.T[i], C[i], ax, edgecolor='green')\n",
        "    ax.scatter(Mu[i][0], Mu[i][1], c='red', s=10)\n",
        "\n",
        "plt.show()"
      ],
      "execution_count": 7,
      "outputs": [
        {
          "output_type": "display_data",
          "data": {
            "image/png": "[encoded data removed]",
            "text/plain": [
              "<Figure size 432x288 with 1 Axes>"
            ]
          },
          "metadata": {
            "needs_background": "light"
          }
        }
      ]
    }
  ]
}
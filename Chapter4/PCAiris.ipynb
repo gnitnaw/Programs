{
  "nbformat": 4,
  "nbformat_minor": 0,
  "metadata": {
    "colab": {
      "name": "PCAiris.ipynb",
      "provenance": [],
      "collapsed_sections": [],
      "authorship_tag": "ABX9TyMv1kgMXyMks6tbiqSBHYEQ",
      "include_colab_link": true
    },
    "kernelspec": {
      "name": "python3",
      "display_name": "Python 3"
    },
    "language_info": {
      "name": "python"
    }
  },
  "cells": [
    {
      "cell_type": "markdown",
      "metadata": {
        "id": "view-in-github",
        "colab_type": "text"
      },
      "source": [
        "<a href=\"https://colab.research.google.com/github/gnitnaw/Programs/blob/master/Chapter4/PCAiris.ipynb\" target=\"_parent\"><img src=\"https://colab.research.google.com/assets/colab-badge.svg\" alt=\"Open In Colab\"/></a>"
      ]
    },
    {
      "cell_type": "code",
      "metadata": {
        "colab": {
          "base_uri": "https://localhost:8080/"
        },
        "id": "NaWHJhVsAblT",
        "outputId": "4a105d0d-88c7-4099-c75a-e0244c8b0923"
      },
      "source": [
        "!python --version\n",
        "!rm irisX.*\n",
        "!wget https://raw.github.com/gnitnaw/Programs/master/Chapter4/irisX.csv"
      ],
      "execution_count": 1,
      "outputs": [
        {
          "output_type": "stream",
          "name": "stdout",
          "text": [
            "Python 3.7.12\n",
            "rm: cannot remove 'irisX.*': No such file or directory\n",
            "--2021-10-27 18:50:16--  https://raw.github.com/gnitnaw/Programs/master/Chapter4/irisX.csv\n",
            "Resolving raw.github.com (raw.github.com)... 185.199.108.133, 185.199.110.133, 185.199.111.133, ...\n",
            "Connecting to raw.github.com (raw.github.com)|185.199.108.133|:443... connected.\n",
            "HTTP request sent, awaiting response... 301 Moved Permanently\n",
            "Location: https://raw.githubusercontent.com/gnitnaw/Programs/master/Chapter4/irisX.csv [following]\n",
            "--2021-10-27 18:50:16--  https://raw.githubusercontent.com/gnitnaw/Programs/master/Chapter4/irisX.csv\n",
            "Resolving raw.githubusercontent.com (raw.githubusercontent.com)... 185.199.108.133, 185.199.109.133, 185.199.110.133, ...\n",
            "Connecting to raw.githubusercontent.com (raw.githubusercontent.com)|185.199.108.133|:443... connected.\n",
            "HTTP request sent, awaiting response... 200 OK\n",
            "Length: 2408 (2.4K) [text/plain]\n",
            "Saving to: ‘irisX.csv’\n",
            "\n",
            "irisX.csv           100%[===================>]   2.35K  --.-KB/s    in 0s      \n",
            "\n",
            "2021-10-27 18:50:16 (49.3 MB/s) - ‘irisX.csv’ saved [2408/2408]\n",
            "\n"
          ]
        }
      ]
    },
    {
      "cell_type": "markdown",
      "metadata": {
        "id": "LetQC4wyAgKh"
      },
      "source": [
        "# Example 4.11\n",
        "## Import modules"
      ]
    },
    {
      "cell_type": "code",
      "metadata": {
        "colab": {
          "base_uri": "https://localhost:8080/"
        },
        "id": "-bXKlDOvAoW5",
        "outputId": "4461c241-9fa1-46b8-f544-f328e1bf2ff3"
      },
      "source": [
        "import seaborn as sns, numpy as np\n",
        "print(np.__version__)"
      ],
      "execution_count": 2,
      "outputs": [
        {
          "output_type": "stream",
          "name": "stdout",
          "text": [
            "1.19.5\n"
          ]
        }
      ]
    },
    {
      "cell_type": "markdown",
      "metadata": {
        "id": "WmrPRrN05iIF"
      },
      "source": [
        "## Set random seed"
      ]
    },
    {
      "cell_type": "code",
      "metadata": {
        "id": "DdzVvsn_5lIf"
      },
      "source": [
        "np.random.seed(120)"
      ],
      "execution_count": 3,
      "outputs": []
    },
    {
      "cell_type": "markdown",
      "metadata": {
        "id": "KYGyiNcLBI8j"
      },
      "source": [
        "## Original Program"
      ]
    },
    {
      "cell_type": "code",
      "metadata": {
        "colab": {
          "base_uri": "https://localhost:8080/",
          "height": 474
        },
        "id": "9OGRmXk9BLh2",
        "outputId": "19f6d7f7-1aeb-44ad-f7b6-3cdcf18f6b5e"
      },
      "source": [
        "X = np.genfromtxt('irisX.csv',delimiter=',')\n",
        "n = X.shape[0]\n",
        "X = X - np.mean(X, axis=0)\n",
        "\n",
        "U, D2, UT = np.linalg.svd((X.T @ X)/n)\n",
        "print('U = \\n', U); print('\\n diag(D^2) = ', D2)\n",
        "\n",
        "z =  U[:,0].T @ X.T\n",
        "    \n",
        "sns.kdeplot(z, bw=0.15)"
      ],
      "execution_count": 4,
      "outputs": [
        {
          "output_type": "stream",
          "name": "stdout",
          "text": [
            "U = \n",
            " [[-0.36138659 -0.65658877  0.58202985  0.31548719]\n",
            " [ 0.08452251 -0.73016143 -0.59791083 -0.3197231 ]\n",
            " [-0.85667061  0.17337266 -0.07623608 -0.47983899]\n",
            " [-0.3582892   0.07548102 -0.54583143  0.75365743]]\n",
            "\n",
            " diag(D^2) =  [4.20005343 0.24105294 0.0776881  0.02367619]\n"
          ]
        },
        {
          "output_type": "stream",
          "name": "stderr",
          "text": [
            "/usr/local/lib/python3.7/dist-packages/seaborn/distributions.py:1699: FutureWarning: The `bw` parameter is deprecated in favor of `bw_method` and `bw_adjust`. Using 0.15 for `bw_method`, but please see the docs for the new parameters and update your code.\n",
            "  warnings.warn(msg, FutureWarning)\n"
          ]
        },
        {
          "output_type": "execute_result",
          "data": {
            "text/plain": [
              "<matplotlib.axes._subplots.AxesSubplot at 0x7f110d6f3790>"
            ]
          },
          "metadata": {},
          "execution_count": 4
        },
        {
          "output_type": "display_data",
          "data": {
            "image/png": "[encoded data removed]",
            "text/plain": [
              "<Figure size 432x288 with 1 Axes>"
            ]
          },
          "metadata": {
            "needs_background": "light"
          }
        }
      ]
    }
  ]
}
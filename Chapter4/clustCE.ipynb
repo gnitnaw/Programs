{
  "nbformat": 4,
  "nbformat_minor": 0,
  "metadata": {
    "colab": {
      "name": "clustCE.ipynb",
      "provenance": [],
      "collapsed_sections": [],
      "authorship_tag": "ABX9TyMFDGFZ29mlTadVexMEHgPK",
      "include_colab_link": true
    },
    "kernelspec": {
      "name": "python3",
      "display_name": "Python 3"
    },
    "language_info": {
      "name": "python"
    }
  },
  "cells": [
    {
      "cell_type": "markdown",
      "metadata": {
        "id": "view-in-github",
        "colab_type": "text"
      },
      "source": [
        "<a href=\"https://colab.research.google.com/github/gnitnaw/Programs/blob/master/Chapter4/clustCE.ipynb\" target=\"_parent\"><img src=\"https://colab.research.google.com/assets/colab-badge.svg\" alt=\"Open In Colab\"/></a>"
      ]
    },
    {
      "cell_type": "code",
      "metadata": {
        "colab": {
          "base_uri": "https://localhost:8080/"
        },
        "id": "NaWHJhVsAblT",
        "outputId": "00b375ee-316f-479c-9a17-acce4aa74d75"
      },
      "source": [
        "!python --version\n",
        "!rm clusterdata.*\n",
        "!wget https://raw.github.com/gnitnaw/Programs/master/Chapter4/clusterdata.csv"
      ],
      "execution_count": 1,
      "outputs": [
        {
          "output_type": "stream",
          "name": "stdout",
          "text": [
            "Python 3.7.12\n",
            "rm: cannot remove 'clusterdata.*': No such file or directory\n",
            "--2021-10-25 13:51:17--  https://raw.github.com/gnitnaw/Programs/master/Chapter4/clusterdata.csv\n",
            "Resolving raw.github.com (raw.github.com)... 185.199.111.133, 185.199.110.133, 185.199.108.133, ...\n",
            "Connecting to raw.github.com (raw.github.com)|185.199.111.133|:443... connected.\n",
            "HTTP request sent, awaiting response... 301 Moved Permanently\n",
            "Location: https://raw.githubusercontent.com/gnitnaw/Programs/master/Chapter4/clusterdata.csv [following]\n",
            "--2021-10-25 13:51:17--  https://raw.githubusercontent.com/gnitnaw/Programs/master/Chapter4/clusterdata.csv\n",
            "Resolving raw.githubusercontent.com (raw.githubusercontent.com)... 185.199.110.133, 185.199.108.133, 185.199.109.133, ...\n",
            "Connecting to raw.githubusercontent.com (raw.githubusercontent.com)|185.199.110.133|:443... connected.\n",
            "HTTP request sent, awaiting response... 200 OK\n",
            "Length: 4832 (4.7K) [text/plain]\n",
            "Saving to: ‘clusterdata.csv’\n",
            "\n",
            "clusterdata.csv     100%[===================>]   4.72K  --.-KB/s    in 0s      \n",
            "\n",
            "2021-10-25 13:51:17 (45.8 MB/s) - ‘clusterdata.csv’ saved [4832/4832]\n",
            "\n"
          ]
        }
      ]
    },
    {
      "cell_type": "markdown",
      "metadata": {
        "id": "LetQC4wyAgKh"
      },
      "source": [
        "# Example 3.5\n",
        "## Import modules"
      ]
    },
    {
      "cell_type": "code",
      "metadata": {
        "colab": {
          "base_uri": "https://localhost:8080/"
        },
        "id": "-bXKlDOvAoW5",
        "outputId": "174be220-4ce6-4139-a391-d604a271e57a"
      },
      "source": [
        "import numpy as np\n",
        "from scipy.stats import multivariate_normal\n",
        "import matplotlib.pyplot as plt\n",
        "print(np.__version__)"
      ],
      "execution_count": 2,
      "outputs": [
        {
          "output_type": "stream",
          "name": "stdout",
          "text": [
            "1.19.5\n"
          ]
        }
      ]
    },
    {
      "cell_type": "markdown",
      "metadata": {
        "id": "WmrPRrN05iIF"
      },
      "source": [
        "## Set random seed"
      ]
    },
    {
      "cell_type": "code",
      "metadata": {
        "id": "DdzVvsn_5lIf"
      },
      "source": [
        "np.random.seed(120)"
      ],
      "execution_count": 3,
      "outputs": []
    },
    {
      "cell_type": "markdown",
      "metadata": {
        "id": "KYGyiNcLBI8j"
      },
      "source": [
        "## Original Program"
      ]
    },
    {
      "cell_type": "code",
      "metadata": {
        "colab": {
          "base_uri": "https://localhost:8080/"
        },
        "id": "9OGRmXk9BLh2",
        "outputId": "b90f0ffb-2162-4065-ffa7-5021fb1aae11"
      },
      "source": [
        "np.set_printoptions(precision=4)\n",
        "\n",
        "Xmat = np.genfromtxt('clusterdata.csv', delimiter=',')\n",
        "K = 3\n",
        "n, D = Xmat.shape\n",
        "\n",
        "def Scluster(c):\n",
        "    n, D = Xmat.shape\n",
        "    dist2 = np.zeros((K,n))\n",
        "    cc = c.reshape(D,K)\n",
        "    for i in range(0,K):\n",
        "        dist2[i,:] = np.sum((Xmat - cc[:,i].T)**2, 1)\n",
        "    minvals = np.amin(dist2,0)\n",
        "    return minvals.mean()\n",
        "\n",
        "numvar = K*D\n",
        "mu = np.zeros(numvar)  #initialize centers\n",
        "sigma = np.ones(numvar)*2\n",
        "rho = 0.1\n",
        "N = 500; Nel = int(N*rho); eps = 0.001\n",
        "\n",
        "func = Scluster\n",
        "best_trj = np.array(numvar)\n",
        "best_perf = np.Inf\n",
        "trj = np.zeros(shape=(N,numvar))\n",
        "\n",
        "while(np.max(sigma)>eps): \n",
        "        for i in range(0,numvar):\n",
        "            trj[:,i] = (np.random.randn(N,1)*sigma[i]+ mu[i]).reshape(N,)\n",
        "        S = np.zeros(N)\n",
        "        for i in range(0,N):\n",
        "            S[i] = func(trj[i])\n",
        "            \n",
        "        sortedids = np.argsort(S) # from smallest to largest   \n",
        "        S_sorted = S[sortedids]  \n",
        "        best_trj = np.array(n)\n",
        "        best_perf = np.Inf\n",
        "        eliteids = sortedids[range(0,Nel)]           \n",
        "        eliteTrj = trj[eliteids,:]\n",
        "        mu = np.mean(eliteTrj,axis=0)\n",
        "        sigma = np.std(eliteTrj,axis=0)\n",
        "        \n",
        "        if(best_perf>S_sorted[0]):\n",
        "            best_perf = S_sorted[0]\n",
        "            best_trj = trj[sortedids[0]]\n",
        "            \n",
        "print(best_perf)\n",
        "print(best_trj.reshape(2,3))"
      ],
      "execution_count": 4,
      "outputs": [
        {
          "output_type": "stream",
          "name": "stdout",
          "text": [
            "2.2871307568545203\n",
            "[[ 0.5881 -1.9288 -3.8679]\n",
            " [-1.3523 -3.0415  0.0459]]\n"
          ]
        }
      ]
    }
  ]
}
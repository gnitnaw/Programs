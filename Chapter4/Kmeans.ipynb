{
  "nbformat": 4,
  "nbformat_minor": 0,
  "metadata": {
    "colab": {
      "name": "Kmeans.ipynb",
      "provenance": [],
      "collapsed_sections": [],
      "authorship_tag": "ABX9TyPwzgK5oNV0wC9kd2bZgkAl",
      "include_colab_link": true
    },
    "kernelspec": {
      "name": "python3",
      "display_name": "Python 3"
    },
    "language_info": {
      "name": "python"
    }
  },
  "cells": [
    {
      "cell_type": "markdown",
      "metadata": {
        "id": "view-in-github",
        "colab_type": "text"
      },
      "source": [
        "<a href=\"https://colab.research.google.com/github/gnitnaw/Programs/blob/master/Chapter4/Kmeans.ipynb\" target=\"_parent\"><img src=\"https://colab.research.google.com/assets/colab-badge.svg\" alt=\"Open In Colab\"/></a>"
      ]
    },
    {
      "cell_type": "code",
      "metadata": {
        "colab": {
          "base_uri": "https://localhost:8080/"
        },
        "id": "NaWHJhVsAblT",
        "outputId": "7bc27817-ed27-41c7-b938-8ce9ec43e182"
      },
      "source": [
        "!python --version\n",
        "!rm clusterdata.*\n",
        "!wget https://raw.github.com/gnitnaw/Programs/master/Chapter4/clusterdata.csv"
      ],
      "execution_count": 1,
      "outputs": [
        {
          "output_type": "stream",
          "name": "stdout",
          "text": [
            "Python 3.7.12\n",
            "--2021-11-05 09:23:20--  https://raw.github.com/gnitnaw/Programs/master/Chapter4/clusterdata.csv\n",
            "Resolving raw.github.com (raw.github.com)... 185.199.108.133, 185.199.109.133, 185.199.110.133, ...\n",
            "Connecting to raw.github.com (raw.github.com)|185.199.108.133|:443... connected.\n",
            "HTTP request sent, awaiting response... 301 Moved Permanently\n",
            "Location: https://raw.githubusercontent.com/gnitnaw/Programs/master/Chapter4/clusterdata.csv [following]\n",
            "--2021-11-05 09:23:20--  https://raw.githubusercontent.com/gnitnaw/Programs/master/Chapter4/clusterdata.csv\n",
            "Resolving raw.githubusercontent.com (raw.githubusercontent.com)... 185.199.108.133, 185.199.109.133, 185.199.110.133, ...\n",
            "Connecting to raw.githubusercontent.com (raw.githubusercontent.com)|185.199.108.133|:443... connected.\n",
            "HTTP request sent, awaiting response... 200 OK\n",
            "Length: 4832 (4.7K) [text/plain]\n",
            "Saving to: ‘clusterdata.csv’\n",
            "\n",
            "clusterdata.csv     100%[===================>]   4.72K  --.-KB/s    in 0s      \n",
            "\n",
            "2021-11-05 09:23:20 (41.3 MB/s) - ‘clusterdata.csv’ saved [4832/4832]\n",
            "\n"
          ]
        }
      ]
    },
    {
      "cell_type": "markdown",
      "metadata": {
        "id": "LetQC4wyAgKh"
      },
      "source": [
        "# Example 4.6\n",
        "## Import modules"
      ]
    },
    {
      "cell_type": "code",
      "metadata": {
        "colab": {
          "base_uri": "https://localhost:8080/"
        },
        "id": "-bXKlDOvAoW5",
        "outputId": "b96998f1-afab-4306-b415-1e1e4b695b6a"
      },
      "source": [
        "import numpy as np\n",
        "from scipy.stats import multivariate_normal\n",
        "import matplotlib.pyplot as plt\n",
        "from scipy.spatial import Voronoi, voronoi_plot_2d\n",
        "print(np.__version__)"
      ],
      "execution_count": 2,
      "outputs": [
        {
          "output_type": "stream",
          "name": "stdout",
          "text": [
            "1.19.5\n"
          ]
        }
      ]
    },
    {
      "cell_type": "markdown",
      "metadata": {
        "id": "WmrPRrN05iIF"
      },
      "source": [
        "## Set random seed"
      ]
    },
    {
      "cell_type": "code",
      "metadata": {
        "id": "DdzVvsn_5lIf"
      },
      "source": [
        "np.random.seed(120)"
      ],
      "execution_count": 3,
      "outputs": []
    },
    {
      "cell_type": "markdown",
      "metadata": {
        "id": "KYGyiNcLBI8j"
      },
      "source": [
        "## Original Program"
      ]
    },
    {
      "cell_type": "code",
      "metadata": {
        "colab": {
          "base_uri": "https://localhost:8080/",
          "height": 286
        },
        "id": "9OGRmXk9BLh2",
        "outputId": "3745b392-1729-4ace-c9af-744f6b98470a"
      },
      "source": [
        "Xmat = np.genfromtxt('clusterdata.csv', delimiter=',')\n",
        "K = 3\n",
        "n, D = Xmat.shape\n",
        "c  = np.array([[-2.0,-4,0],[-3,1,-1]])  #initialize centers\n",
        "cold = np.zeros(c.shape)\n",
        "dist2 = np.zeros((K,n))\n",
        "#for h in range(0,100):\n",
        "while np.abs(c - cold).sum() > 0.001:\n",
        "   cold = c.copy()\n",
        "   for i in range(0,K): #compute the squared distances\n",
        "        dist2[i,:] = np.sum((Xmat - c[:,i].T)**2, 1)\n",
        "        \n",
        "   label = np.argmin(dist2,0) #assign the points to nearest centroid\n",
        "   minvals = np.amin(dist2,0)\n",
        "   for i in range(0,K): # recompute the centroids\n",
        "       c[:,i] = np.mean(Xmat[np.where(label == i),:], 1).reshape(1,2)\n",
        "\n",
        "print('Loss = {:3.3f}'.format(minvals.mean()))\n",
        "\n",
        "\n",
        "\n",
        "CT = c.T\n",
        "vor = Voronoi(CT)\n",
        "fig = voronoi_plot_2d(vor, show_vertices=False, line_colors='black',\n",
        "                line_width=2, line_alpha=0.6, point_size=2)\n",
        "\n",
        "for i in range(300):\n",
        "    if label[i] == 0 :\n",
        "        plt.plot(Xmat[i,0], Xmat[i,1], 'ro')\n",
        "    if label[i] == 1 :\n",
        "        plt.plot(Xmat[i,0], Xmat[i,1], 'bo')\n",
        "    if label[i] == 2 :\n",
        "        plt.plot(Xmat[i,0], Xmat[i,1], 'go')\n",
        "\n",
        "for i in range(3):\n",
        "    plt.scatter(CT[i][0], CT[i][1], c='black', s=100)\n",
        "\n",
        "plt.xlim([-7, 4])\n",
        "plt.ylim([-5, 4])\n",
        "plt.show()\n"
      ],
      "execution_count": 4,
      "outputs": [
        {
          "output_type": "stream",
          "name": "stdout",
          "text": [
            "Loss = 2.288\n"
          ]
        },
        {
          "output_type": "display_data",
          "data": {
            "image/png": "[encoded data removed]",
            "text/plain": [
              "<Figure size 432x288 with 1 Axes>"
            ]
          },
          "metadata": {
            "needs_background": "light"
          }
        }
      ]
    }
  ]
}
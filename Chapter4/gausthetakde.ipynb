{
  "nbformat": 4,
  "nbformat_minor": 0,
  "metadata": {
    "colab": {
      "name": "gausthetakde.ipynb",
      "provenance": [],
      "collapsed_sections": [],
      "authorship_tag": "ABX9TyO3vF06FWt3ir2mBHzM5Sdn",
      "include_colab_link": true
    },
    "kernelspec": {
      "name": "python3",
      "display_name": "Python 3"
    },
    "language_info": {
      "name": "python"
    }
  },
  "cells": [
    {
      "cell_type": "markdown",
      "metadata": {
        "id": "view-in-github",
        "colab_type": "text"
      },
      "source": [
        "<a href=\"https://colab.research.google.com/github/gnitnaw/Programs/blob/master/Chapter4/gausthetakde.ipynb\" target=\"_parent\"><img src=\"https://colab.research.google.com/assets/colab-badge.svg\" alt=\"Open In Colab\"/></a>"
      ]
    },
    {
      "cell_type": "code",
      "metadata": {
        "colab": {
          "base_uri": "https://localhost:8080/"
        },
        "id": "NaWHJhVsAblT",
        "outputId": "21bf8218-8f79-4e21-dec8-73fd509f0002"
      },
      "source": [
        "!python --version"
      ],
      "execution_count": 3,
      "outputs": [
        {
          "output_type": "stream",
          "name": "stdout",
          "text": [
            "Python 3.7.12\n"
          ]
        }
      ]
    },
    {
      "cell_type": "markdown",
      "metadata": {
        "id": "LetQC4wyAgKh"
      },
      "source": [
        "# Example 4.3\n",
        "## Import modules"
      ]
    },
    {
      "cell_type": "code",
      "metadata": {
        "colab": {
          "base_uri": "https://localhost:8080/"
        },
        "id": "-bXKlDOvAoW5",
        "outputId": "b0f6670f-adaa-4f51-bb43-696726c46078"
      },
      "source": [
        "import matplotlib.pyplot as plt\n",
        "import numpy as np\n",
        "print(np.__version__)"
      ],
      "execution_count": 4,
      "outputs": [
        {
          "output_type": "stream",
          "name": "stdout",
          "text": [
            "1.19.5\n"
          ]
        }
      ]
    },
    {
      "cell_type": "markdown",
      "metadata": {
        "id": "WmrPRrN05iIF"
      },
      "source": [
        "## Set random seed"
      ]
    },
    {
      "cell_type": "code",
      "metadata": {
        "id": "DdzVvsn_5lIf"
      },
      "source": [
        "np.random.seed(1234)"
      ],
      "execution_count": 5,
      "outputs": []
    },
    {
      "cell_type": "markdown",
      "metadata": {
        "id": "NWKaLHfl3eKS"
      },
      "source": [
        "## kde function"
      ]
    },
    {
      "cell_type": "code",
      "metadata": {
        "id": "Ec9hyYeC3jAb"
      },
      "source": [
        "def kde(data, n=2**14, MIN=None, MAX=None, plot=False, label = []):\n",
        "#==============================================================================\n",
        "# Reliable and extremely fast kernel density estimator for one-dimensional data;\n",
        "#        Gaussian kernel is assumed and the bandwidth is chosen automatically;\n",
        "#        Unlike many other implementations, this one is immune to problems\n",
        "#        caused by multimodal densities with widely separated modes (see example). The\n",
        "#        estimation does not deteriorate for multimodal densities, because we never assume\n",
        "#        a parametric model for the data.\n",
        "# INPUTS:\n",
        "#     data    - a vector of data from which the density estimate is constructed;\n",
        "#          n  - the number of mesh points used in the uniform discretization of the\n",
        "#               interval [MIN, MAX]; n has to be a power of two; if n is not a power of two, then\n",
        "#               n is rounded up to the next power of two, i.e., n is set to n=2^ceil(log2(n));\n",
        "#               the default value of n is n=2^12;\n",
        "#   MIN, MAX  - defines the interval [MIN,MAX] on which the density estimate is constructed;\n",
        "#               the default values of MIN and MAX are:\n",
        "#               MIN=min(data)-Range/10 and MAX=max(data)+Range/10, where Range=max(data)-min(data);\n",
        "#    plot     -  (True/False) whether or not to produce a plot \n",
        "#    label    -  (string) label to apply to kde plot \n",
        "    \n",
        "# OUTPUTS:\n",
        "#   bandwidth - the optimal bandwidth (Gaussian kernel assumed);\n",
        "#     density - column vector of length 'n' with the values of the density\n",
        "#               estimate at the grid points;\n",
        "#     xmesh   - the grid over which the density estimate is computed;\n",
        "#             - If no output is requested, then the code automatically plots a graph of\n",
        "#               the density estimate.\n",
        "#        cdf  - column vector of length 'n' with the values of the cdf\n",
        "#  Reference: \n",
        "# Kernel density estimation via diffusion\n",
        "# Z. I. Botev, J. F. Grotowski, and D. P. Kroese (2010)\n",
        "# Annals of Statistics, Volume 38, Number 5, pages 2916-2957. \n",
        "\n",
        "#\n",
        "#  Example:\n",
        "#              kde(data,2**14,min(data)-5,max(data)+5);\n",
        "#\n",
        "#  Notes:   If you have a more reliable and accurate one-dimensional kernel density\n",
        "#           estimation software, please email me at botev@maths.uq.edu.au\n",
        "\n",
        "#==============================================================================\n",
        "    import numpy as np\n",
        "    from scipy import optimize\n",
        "\t\n",
        "\t# Auxiliary Functions \n",
        "    #==========================================================================  \n",
        "    def fixed_point(t,N,I,a2):\n",
        "        # This implements the function t-zeta*gamma^[l](t)\n",
        "        l=7\n",
        "        f=2*np.pi**(2*l) * sum(I**l*a2*np.exp(-I*np.pi**2*t))\n",
        "        \n",
        "        for s in range(l-1,1,-1):\n",
        "            K0    = np.prod(range(1,2*s,2))/np.sqrt(2*np.pi)\n",
        "            const = (1+(1/2)**(s+1/2))/3\n",
        "            time  = (2*const*K0/N/f)**(2/(3+2*s))\n",
        "            f     = 2*np.pi**(2*s)*sum(I**s*a2*np.exp(-I*np.pi**2*time)) \n",
        "        \n",
        "        return t-(2*N*np.sqrt(np.pi)*f)**(-2/5)\n",
        "    #==========================================================================  \n",
        "    def dct1d(data):\n",
        "        # computes the discrete cosine transform of the column vector data\n",
        "        nrows = len(data)\n",
        "        # Compute weights to multiply DFT coefficients\n",
        "        weight = 2*(np.exp(-1j*np.array(range(1,nrows))*np.pi/(2*nrows)))\n",
        "        weight = np.append(1,weight)\n",
        "        # Re-order the elements of the columns of x\n",
        "        data = np.append(data[::2],data[:0:-2])\n",
        "        # Multiply FFT by weights:\n",
        "        data = (weight*np.fft.fft(data)).real\n",
        "\t\t\n",
        "        return data\n",
        "    #==========================================================================  \n",
        "    def idct1d(data):\n",
        "\t\t# computes the discrete cosine transform of the column vector data\n",
        "        nrows = len(data) \n",
        "\t\t# Compute weights to multiply DFT coefficients\n",
        "        weights = nrows*np.exp(1j*(np.arange(nrows))*np.pi/(2*nrows))\n",
        "\t\t# Multiply FFT by weights:\n",
        "        data = np.real(np.fft.ifft(weights * data))\n",
        "        # Re-order the elements of the columns of x\n",
        "        output = np.arange(nrows, dtype = 'd')\n",
        "        output[::2] = data[0:int(nrows/2)]\n",
        "        output[1::2] = data[:int(nrows/2)-1:-1]\n",
        "\t\t\n",
        "\t\t#   Reference:\n",
        "\t\t#     A. K. Jain, \"Fundamentals of Digital Image\n",
        "\t\t#     Processing\", pp. 150-153.\n",
        "\t\t\n",
        "        return output\n",
        "\t\t\n",
        "   # Main Function\n",
        "   #===========================================================================  \n",
        "    data = np.array(data)   #Make data a numpy array \n",
        "    \n",
        "    n=int(2**np.ceil(np.log2(n))) #round up n to the next power of 2;\n",
        "    \n",
        "\t#define the default  interval [MIN,MAX]\n",
        "    \n",
        "    if MAX == None or MIN == None:\n",
        "        minimum = min(data)\n",
        "        maximum = max(data)\n",
        "        Range   = maximum - minimum\n",
        "    \n",
        "        if MAX == None:\n",
        "            MAX=maximum+Range/10\n",
        "        \n",
        "        if MIN == None:\n",
        "            MIN=minimum-Range/10\n",
        "       \n",
        "\n",
        "\t# set up the grid over which the density estimate is computed;\n",
        "    R=MAX-MIN; dx=R/(n-1)\n",
        "    xmesh=np.arange(MIN,MAX+dx,dx, dtype = 'd')\n",
        "    bins = np.append(xmesh, xmesh[-1])\n",
        "    N=len(np.unique(data))\n",
        "\t# bin the data uniformly using the grid defined above;\n",
        "    initial_data= np.histogram(data, bins = bins)[0]/N\n",
        "    initial_data=initial_data/sum(initial_data)\n",
        "\n",
        "\t# discrete cosine transform of initial data\n",
        "    a=dct1d(initial_data)\n",
        "\n",
        "\t# now compute the optimal bandwidth^2 using the referenced method\n",
        "    I=np.arange(1,n,dtype = \"d\")**2; a2=(a[1:]/2)**2\n",
        "\n",
        "\t# solve the equation t=zeta*gamma^[5](t)\n",
        "    t_star = optimize.root(lambda t: fixed_point(t,N,I,a2), 0.05)\n",
        "    if t_star.success == False:\n",
        "        t_star = 0.28*N**(-2/5)\n",
        "    else: \n",
        "        t_star = t_star.x\n",
        "\t# smooth the discrete cosine transform of initial data using t_star\n",
        "    a_t=a*np.exp(-np.arange(0,n, dtype = \"d\")**2*np.pi**2*t_star/2)\n",
        "    \n",
        "\t# now apply the inverse discrete cosine transform\n",
        "    density=idct1d(a_t)/R\n",
        "\t# take the rescaling of the data into account\n",
        "    bandwidth=np.sqrt(t_star)*R\n",
        "    \n",
        "    # for cdf estimation\n",
        "    f=2*np.pi**2*sum(I*a2*np.exp(-I*np.pi**2*t_star))\n",
        "    t_cdf=(np.sqrt(np.pi)*f*N)**(-2/3)\n",
        "\t# now get values of cdf on grid points using IDCT and cumsum function\n",
        "    a_cdf=a*np.exp(-np.arange(0,n,dtype=\"d\")**2*np.pi**2*t_cdf/2)\n",
        "    cdf=np.cumsum(idct1d(a_cdf))*(dx/R)\n",
        "\t#take the rescaling into account if the bandwidth value is required\n",
        "    bandwidth_cdf=np.sqrt(t_cdf)*R\n",
        "\n",
        "    if plot==True:\n",
        "        if label: \n",
        "            plt.plot(xmesh, density, label = label)\n",
        "            plt.legend()\n",
        "        else: \n",
        "             plt.plot(xmesh, density)\n",
        "        plt.ylim(bottom=0)  \n",
        "      \n",
        "\n",
        "    return [bandwidth,density,xmesh,cdf]\n",
        "\t#==========================================================================  \n",
        "\n"
      ],
      "execution_count": 6,
      "outputs": []
    },
    {
      "cell_type": "markdown",
      "metadata": {
        "id": "KYGyiNcLBI8j"
      },
      "source": [
        "## Original program"
      ]
    },
    {
      "cell_type": "code",
      "metadata": {
        "id": "9OGRmXk9BLh2",
        "colab": {
          "base_uri": "https://localhost:8080/",
          "height": 211
        },
        "outputId": "3cfce970-05a9-4e16-e9ae-4c91a1f5b195"
      },
      "source": [
        "h   = 0.1; h2 = h**2; c=1/np.sqrt(2*np.pi)/h #Constants\n",
        "phi = lambda x,x0: np.exp(-(x-x0)**2/(2*h2)) #Unscaled Kernel\n",
        "f   = lambda x: np.exp(-x)*(x >= 0) # True PDF \n",
        "n = 10**4 # Sample Size\n",
        "x = -np.log(np.random.uniform(size=n))# Generate Data via IT method\n",
        "xx = np.arange(-0.5,6,0.01, dtype = \"d\")# Plot Range\n",
        "phis = np.zeros(len(xx))\n",
        "for i in range(0,n):\n",
        "    phis = phis + phi(xx,x[i])\n",
        "phis = c*phis/n\n",
        "\n",
        "plt.figure(figsize=[6,3])\n",
        "\n",
        "plt.plot(xx,phis,'r')# Plot Gaussian KDE\n",
        "\n",
        "[bandwidth,density,xmesh,cdf] = kde(x,2**12,0,max(x))\n",
        "\n",
        "# %%%%%%%%%%%%%%%%%%%%%%%%%%%%%%%%%%%%%%%%%%%%%%%%%%%%%%%%%%%%\n",
        "idx = (xmesh <= 6)\n",
        "plt.plot(xmesh[idx],density[idx],'b')# Plot Theta KDE\n",
        "plt.plot(xx,f(xx),'k--')# Plot True PDF\n",
        "plt.legend(['Gaussian KDE','Theta KDE', 'True density'])\n",
        "plt.savefig('gausthetakde.pdf',format='pdf')\n",
        "# %%%%%%%%%%%%%%%%%%%%%%%%%%%%%%%%%%%%%%%%%%%%%%%%%%%%%%%%%%%%"
      ],
      "execution_count": 7,
      "outputs": [
        {
          "output_type": "display_data",
          "data": {
            "image/png": "[encoded data removed]",
            "text/plain": [
              "<Figure size 432x216 with 1 Axes>"
            ]
          },
          "metadata": {
            "needs_background": "light"
          }
        }
      ]
    }
  ]
}
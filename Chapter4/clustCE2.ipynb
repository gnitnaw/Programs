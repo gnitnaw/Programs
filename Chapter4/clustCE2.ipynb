{
  "nbformat": 4,
  "nbformat_minor": 0,
  "metadata": {
    "colab": {
      "name": "clustCE2.ipynb",
      "provenance": [],
      "collapsed_sections": [],
      "authorship_tag": "ABX9TyML4iVW5s3c/GwOtQo4/Yv/",
      "include_colab_link": true
    },
    "kernelspec": {
      "name": "python3",
      "display_name": "Python 3"
    },
    "language_info": {
      "name": "python"
    }
  },
  "cells": [
    {
      "cell_type": "markdown",
      "metadata": {
        "id": "view-in-github",
        "colab_type": "text"
      },
      "source": [
        "<a href=\"https://colab.research.google.com/github/gnitnaw/Programs/blob/master/Chapter4/clustCE2.ipynb\" target=\"_parent\"><img src=\"https://colab.research.google.com/assets/colab-badge.svg\" alt=\"Open In Colab\"/></a>"
      ]
    },
    {
      "cell_type": "code",
      "metadata": {
        "colab": {
          "base_uri": "https://localhost:8080/"
        },
        "id": "NaWHJhVsAblT",
        "outputId": "3bb9fc68-dbac-48a4-99fe-0536b8db779d"
      },
      "source": [
        "!python --version\n",
        "!rm clusterdata.*\n",
        "!wget https://raw.github.com/gnitnaw/Programs/master/Chapter4/clusterdata.csv"
      ],
      "execution_count": 1,
      "outputs": [
        {
          "output_type": "stream",
          "name": "stdout",
          "text": [
            "Python 3.7.12\n",
            "--2021-11-08 08:44:24--  https://raw.github.com/gnitnaw/Programs/master/Chapter4/clusterdata.csv\n",
            "Resolving raw.github.com (raw.github.com)... 185.199.111.133, 185.199.109.133, 185.199.108.133, ...\n",
            "Connecting to raw.github.com (raw.github.com)|185.199.111.133|:443... connected.\n",
            "HTTP request sent, awaiting response... 301 Moved Permanently\n",
            "Location: https://raw.githubusercontent.com/gnitnaw/Programs/master/Chapter4/clusterdata.csv [following]\n",
            "--2021-11-08 08:44:24--  https://raw.githubusercontent.com/gnitnaw/Programs/master/Chapter4/clusterdata.csv\n",
            "Resolving raw.githubusercontent.com (raw.githubusercontent.com)... 185.199.109.133, 185.199.108.133, 185.199.111.133, ...\n",
            "Connecting to raw.githubusercontent.com (raw.githubusercontent.com)|185.199.109.133|:443... connected.\n",
            "HTTP request sent, awaiting response... 200 OK\n",
            "Length: 4832 (4.7K) [text/plain]\n",
            "Saving to: ‘clusterdata.csv’\n",
            "\n",
            "clusterdata.csv     100%[===================>]   4.72K  --.-KB/s    in 0s      \n",
            "\n",
            "2021-11-08 08:44:25 (58.5 MB/s) - ‘clusterdata.csv’ saved [4832/4832]\n",
            "\n"
          ]
        }
      ]
    },
    {
      "cell_type": "markdown",
      "metadata": {
        "id": "LetQC4wyAgKh"
      },
      "source": [
        "# Example 4.9\n",
        "## Import modules"
      ]
    },
    {
      "cell_type": "code",
      "metadata": {
        "colab": {
          "base_uri": "https://localhost:8080/"
        },
        "id": "-bXKlDOvAoW5",
        "outputId": "39cf6cd9-5c78-467e-f233-b426e86cf89f"
      },
      "source": [
        "import numpy as np\n",
        "from numpy import genfromtxt\n",
        "from scipy.spatial.distance import squareform\n",
        "from scipy.spatial.distance import pdist\n",
        "import matplotlib.pyplot as plt\n",
        "print(np.__version__)"
      ],
      "execution_count": 2,
      "outputs": [
        {
          "output_type": "stream",
          "name": "stdout",
          "text": [
            "1.19.5\n"
          ]
        }
      ]
    },
    {
      "cell_type": "markdown",
      "metadata": {
        "id": "WmrPRrN05iIF"
      },
      "source": [
        "## Set random seed"
      ]
    },
    {
      "cell_type": "code",
      "metadata": {
        "id": "DdzVvsn_5lIf"
      },
      "source": [
        "np.random.seed(120)"
      ],
      "execution_count": 3,
      "outputs": []
    },
    {
      "cell_type": "markdown",
      "metadata": {
        "id": "KYGyiNcLBI8j"
      },
      "source": [
        "## Original Program"
      ]
    },
    {
      "cell_type": "code",
      "metadata": {
        "colab": {
          "base_uri": "https://localhost:8080/",
          "height": 299
        },
        "id": "9OGRmXk9BLh2",
        "outputId": "867cfc18-87bc-4a26-c460-d05ae1748c7c"
      },
      "source": [
        "def S(x,D):\n",
        "    V1 = np.where(x==0)[0] # {V1,V2} is the partition \n",
        "    V2 = np.where(x==1)[0]\n",
        "    tmp = D[V1]\n",
        "    tmp = tmp[:,V2]\n",
        "    return np.mean(tmp) # the size of the cut\n",
        "\n",
        "def maxcut(D,N,eps,rho,alpha):\n",
        "    n = D.shape[1]\n",
        "    Ne = int(rho*N)\n",
        "    p = 1/2*np.ones(n) \n",
        "    p[0] = 1.0\n",
        "    while (np.max(np.minimum(p,np.subtract(1,p))) > eps):\n",
        "        x = np.array(np.random.uniform(0,1, (N,n))<=p, dtype=np.int64)\n",
        "        sx = np.zeros(N)\n",
        "        for i in range(N):\n",
        "            sx[i] = S(x[i],D)\n",
        "        \n",
        "        sortSX = np.flip(np.argsort(sx))\n",
        "        elIds = sortSX[0:Ne]\n",
        "        elites = x[elIds]\n",
        "        pnew = np.mean(elites, axis=0)\n",
        "        p = alpha*pnew + (1.0-alpha)*p\n",
        "\n",
        "    return np.round(p)\n",
        "\n",
        "Xmat = genfromtxt('clusterdata.csv', delimiter=',')\n",
        "n = Xmat.shape[0]\n",
        "\n",
        "D = squareform(pdist(Xmat))\n",
        "N = 1000\n",
        "eps = 10**-2\n",
        "rho = 0.1\n",
        "alpha = 0.9\n",
        "\n",
        "# CE\n",
        "pout = maxcut(D,N,eps,rho, alpha);\n",
        "\n",
        "cutval = S(pout,D)\n",
        "print(\"cutvalue \",cutval)\n",
        "#plot\n",
        "V1 = np.where(pout==0)[0]\n",
        "xblue = Xmat[V1]\n",
        "V2 = np.where(pout==1)[0]\n",
        "xred = Xmat[V2]\n",
        "plt.scatter(xblue[:,0],xblue[:,1], c=\"blue\")\n",
        "plt.scatter(xred[:,0],xred[:,1], c=\"red\")"
      ],
      "execution_count": 4,
      "outputs": [
        {
          "output_type": "stream",
          "name": "stdout",
          "text": [
            "cutvalue  4.615660630025081\n"
          ]
        },
        {
          "output_type": "execute_result",
          "data": {
            "text/plain": [
              "<matplotlib.collections.PathCollection at 0x7f0917f8eed0>"
            ]
          },
          "metadata": {},
          "execution_count": 4
        },
        {
          "output_type": "display_data",
          "data": {
            "image/png": "[encoded data removed]",
            "text/plain": [
              "<Figure size 432x288 with 1 Axes>"
            ]
          },
          "metadata": {
            "needs_background": "light"
          }
        }
      ]
    }
  ]
}
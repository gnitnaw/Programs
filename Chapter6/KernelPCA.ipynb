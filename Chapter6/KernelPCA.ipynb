{
  "nbformat": 4,
  "nbformat_minor": 0,
  "metadata": {
    "colab": {
      "name": "KernelPCA.ipynb",
      "provenance": [],
      "collapsed_sections": [],
      "authorship_tag": "ABX9TyNz2QtB+nO5GnHuKZD010TS",
      "include_colab_link": true
    },
    "kernelspec": {
      "name": "python3",
      "display_name": "Python 3"
    },
    "language_info": {
      "name": "python"
    }
  },
  "cells": [
    {
      "cell_type": "markdown",
      "metadata": {
        "id": "view-in-github",
        "colab_type": "text"
      },
      "source": [
        "<a href=\"https://colab.research.google.com/github/gnitnaw/Programs/blob/master/Chapter6/KernelPCA.ipynb\" target=\"_parent\"><img src=\"https://colab.research.google.com/assets/colab-badge.svg\" alt=\"Open In Colab\"/></a>"
      ]
    },
    {
      "cell_type": "code",
      "metadata": {
        "colab": {
          "base_uri": "https://localhost:8080/"
        },
        "id": "NaWHJhVsAblT",
        "outputId": "55f74817-707b-4595-e9e7-3ce8a708f97c"
      },
      "source": [
        "!python --version"
      ],
      "execution_count": 1,
      "outputs": [
        {
          "output_type": "stream",
          "name": "stdout",
          "text": [
            "Python 3.7.12\n"
          ]
        }
      ]
    },
    {
      "cell_type": "markdown",
      "metadata": {
        "id": "LetQC4wyAgKh"
      },
      "source": [
        "# Example 6.18\n",
        "## Import modules"
      ]
    },
    {
      "cell_type": "code",
      "metadata": {
        "colab": {
          "base_uri": "https://localhost:8080/"
        },
        "id": "-bXKlDOvAoW5",
        "outputId": "7b3f6f58-6477-42a7-e8b1-2d42d3109fb6"
      },
      "source": [
        "import numpy as np\n",
        "import matplotlib.pyplot as plt\n",
        "from matplotlib import cm\n",
        "from math import pi\n",
        "from numpy.linalg import norm, inv, eigh\n",
        "print(np.__version__)"
      ],
      "execution_count": 2,
      "outputs": [
        {
          "output_type": "stream",
          "name": "stdout",
          "text": [
            "1.19.5\n"
          ]
        }
      ]
    },
    {
      "cell_type": "markdown",
      "metadata": {
        "id": "WmrPRrN05iIF"
      },
      "source": [
        "## Set random seed"
      ]
    },
    {
      "cell_type": "code",
      "metadata": {
        "id": "DdzVvsn_5lIf"
      },
      "source": [
        "np.random.seed(1357)"
      ],
      "execution_count": 3,
      "outputs": []
    },
    {
      "cell_type": "markdown",
      "metadata": {
        "id": "KYGyiNcLBI8j"
      },
      "source": [
        "## Generate events"
      ]
    },
    {
      "cell_type": "code",
      "metadata": {
        "colab": {
          "base_uri": "https://localhost:8080/",
          "height": 265
        },
        "id": "9OGRmXk9BLh2",
        "outputId": "4a0a282d-cdae-44bc-f6fb-1e11bc08560e"
      },
      "source": [
        "n  = 200\n",
        "theta = np.random.uniform(0, 2*pi, n)\n",
        "r = np.concatenate((np.random.uniform(0, 1.0, int(n/2)),np.random.uniform(3.0, 4.0, int(n/2))))\n",
        "#np.random.shuffle(r)\n",
        "\n",
        "x = np.zeros((2,n))\n",
        "x[0] = r * np.cos(theta)\n",
        "x[1] = r * np.sin(theta)\n",
        "plt.scatter(x[0], x[1])\n",
        "plt.show()"
      ],
      "execution_count": 4,
      "outputs": [
        {
          "output_type": "display_data",
          "data": {
            "image/png": "[encoded data removed]",
            "text/plain": [
              "<Figure size 432x288 with 1 Axes>"
            ]
          },
          "metadata": {
            "needs_background": "light"
          }
        }
      ]
    },
    {
      "cell_type": "code",
      "source": [
        "def k(u1,u2):\n",
        "    return(np.exp(-0.5*norm(u1-u2)**2))\n",
        "\n",
        "K = np.zeros((n,n))\n",
        "for i in range(n):\n",
        "    for j in range(n):\n",
        "        K[i,j] = k(x.T[i],x.T[j])\n",
        "\n",
        "H = np.identity(n) - 1.0/n * np.ones(n) @ np.ones(n).T\n",
        "XXT = H @ K @ H\n",
        "eValue, eVector = eigh(XXT)\n",
        "idx = eValue.argsort()[::-1]   \n",
        "eValue = eValue[idx]\n",
        "eVector = eVector[:,idx]\n",
        "print(eValue)\n",
        "\n",
        "m=9\n",
        "\n",
        "'''\n",
        "L = np.zeros((m,m))\n",
        "np.fill_diagonal(L, np.sqrt(evalue[0:m]))\n",
        "X_pc = np.column_stack(evector[0:m])\n",
        "print(X_pc.shape)\n",
        "print(x.shape)\n",
        "print(evalue)\n",
        "#z = X_pc.T @ x.T\n",
        "\n",
        "z = np.sqrt(inv(L)) @ X_pc.T[0:9] @ K\n",
        "#z = U.T[:][0:m] @ x\n",
        "print(z[0])\n",
        "plt.scatter(z[0][0:100], z[1][0:100])\n",
        "plt.scatter(z[0][100:], z[1][100:])\n",
        "print(z.shape)\n",
        "plt.show()\n",
        "'''"
      ],
      "metadata": {
        "colab": {
          "base_uri": "https://localhost:8080/",
          "height": 962
        },
        "id": "4FFL8OQ9SFAY",
        "outputId": "28a05156-221c-4ab8-c4e5-af6451104881"
      },
      "execution_count": 24,
      "outputs": [
        {
          "output_type": "stream",
          "name": "stdout",
          "text": [
            "[ 1.70595603e+06  2.02186683e+01  1.25394587e+01  1.09624585e+01\n",
            "  1.00224056e+01  9.65902114e+00  9.56014023e+00  7.96488767e+00\n",
            "  7.42758312e+00  6.67434172e+00  5.83943234e+00  5.01548181e+00\n",
            "  3.86049461e+00  3.10117066e+00  2.63917934e+00  1.90082520e+00\n",
            "  1.73916488e+00  1.48124550e+00  1.40979263e+00  1.35723172e+00\n",
            "  1.20440651e+00  1.11137189e+00  9.53136623e-01  7.78545308e-01\n",
            "  7.09926791e-01  6.36764225e-01  5.75727992e-01  5.63674308e-01\n",
            "  4.46904706e-01  4.25127219e-01  3.23749901e-01  2.85556905e-01\n",
            "  2.49704404e-01  2.34032044e-01  1.79787548e-01  1.67495264e-01\n",
            "  1.56848336e-01  1.32438898e-01  1.19301860e-01  9.37491650e-02\n",
            "  8.78714450e-02  7.85477997e-02  7.47358724e-02  6.88039463e-02\n",
            "  6.06923517e-02  5.33398414e-02  3.54565493e-02  3.18905721e-02\n",
            "  2.49748388e-02  2.17897852e-02  2.07515048e-02  1.86539001e-02\n",
            "  1.70984517e-02  1.58349175e-02  1.29253429e-02  1.23011320e-02\n",
            "  1.07748723e-02  1.06327402e-02  8.45197477e-03  8.39729574e-03\n",
            "  6.97662408e-03  5.09945030e-03  4.76482152e-03  3.64900801e-03\n",
            "  3.50926990e-03  3.20009880e-03  2.64204655e-03  2.36167401e-03\n",
            "  2.28634265e-03  2.22039565e-03  2.16949121e-03  1.72326383e-03\n",
            "  1.60719218e-03  1.20061461e-03  1.04969271e-03  9.37294810e-04\n",
            "  8.22323183e-04  7.46070193e-04  6.52565010e-04  5.85035330e-04\n",
            "  5.25118596e-04  4.98429053e-04  3.96841795e-04  3.88977732e-04\n",
            "  3.51898848e-04  3.02322996e-04  2.33106201e-04  1.71634248e-04\n",
            "  1.51179058e-04  1.37182077e-04  1.27722077e-04  1.06667857e-04\n",
            "  9.77885361e-05  8.58863017e-05  8.28045570e-05  6.62053121e-05\n",
            "  6.52772979e-05  5.93099542e-05  5.66905172e-05  4.33663094e-05\n",
            "  3.91304167e-05  2.76490680e-05  2.32221075e-05  2.02345479e-05\n",
            "  1.82464246e-05  1.61307480e-05  1.47250845e-05  1.12185009e-05\n",
            "  1.01378758e-05  8.81016633e-06  6.43114646e-06  5.33851999e-06\n",
            "  4.56594427e-06  4.13735826e-06  3.20286742e-06  2.89501113e-06\n",
            "  2.16988564e-06  1.86984687e-06  1.52720236e-06  1.29061451e-06\n",
            "  1.04353696e-06  9.46973524e-07  7.03191457e-07  5.90958111e-07\n",
            "  3.79088529e-07  2.88698278e-07  2.85264712e-07  1.88010169e-07\n",
            "  1.23449299e-07  7.72605539e-08  6.26405528e-08  5.45086779e-08\n",
            "  3.38053970e-08  2.56568293e-08  1.97974945e-08  1.26962101e-08\n",
            "  6.10593642e-09  3.48477743e-09  1.56234629e-09  1.48235391e-09\n",
            "  6.74971147e-10  4.48031994e-10  4.18280690e-10  2.96704224e-10\n",
            "  2.42211581e-10  1.33041303e-10  9.28441311e-11  7.80180397e-11\n",
            "  6.02274355e-11  5.02347072e-11  4.64675065e-11  4.27831759e-11\n",
            "  3.78417206e-11  3.63674670e-11  3.60303287e-11  3.20080280e-11\n",
            "  3.03801393e-11  2.71585080e-11  2.52636129e-11  2.16369026e-11\n",
            "  2.13485538e-11  2.03664021e-11  1.60155341e-11  1.48162067e-11\n",
            "  1.19678949e-11  1.02949939e-11  9.32759005e-12  8.91736888e-12\n",
            "  7.94284489e-12  5.85699673e-12  3.42545343e-12  2.78139274e-12\n",
            "  1.20088076e-12 -7.44302596e-13 -1.41558761e-12 -3.03123095e-12\n",
            " -3.94746408e-12 -7.80426243e-12 -1.18229209e-11 -1.19727827e-11\n",
            " -1.22885859e-11 -1.30028729e-11 -1.60190331e-11 -1.63293574e-11\n",
            " -2.01576242e-11 -2.10957312e-11 -2.42805018e-11 -2.60538713e-11\n",
            " -2.94269596e-11 -2.99269982e-11 -3.10185011e-11 -3.41128072e-11\n",
            " -3.56896634e-11 -3.79833975e-11 -3.92833633e-11 -4.48915149e-11\n",
            " -4.74845542e-11 -6.24662604e-11 -7.20626744e-11 -2.61016039e-10]\n"
          ]
        },
        {
          "output_type": "execute_result",
          "data": {
            "application/vnd.google.colaboratory.intrinsic+json": {
              "type": "string"
            },
            "text/plain": [
              "'\\nm=9\\nL = np.zeros((m,m))\\nnp.fill_diagonal(L, np.sqrt(evalue[0:m]))\\nX_pc = np.column_stack(evector[0:m])\\nprint(X_pc.shape)\\nprint(x.shape)\\nprint(evalue)\\n#z = X_pc.T @ x.T\\n\\nz = np.sqrt(inv(L)) @ X_pc.T[0:9] @ K\\n#z = U.T[:][0:m] @ x\\nprint(z[0])\\nplt.scatter(z[0][0:100], z[1][0:100])\\nplt.scatter(z[0][100:], z[1][100:])\\nprint(z.shape)\\nplt.show()\\n'"
            ]
          },
          "metadata": {},
          "execution_count": 24
        }
      ]
    }
  ]
}
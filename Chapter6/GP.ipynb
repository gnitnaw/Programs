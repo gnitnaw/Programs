{
  "nbformat": 4,
  "nbformat_minor": 0,
  "metadata": {
    "colab": {
      "name": "GP.ipynb",
      "provenance": [],
      "collapsed_sections": [],
      "authorship_tag": "ABX9TyPGgStJGOS4gNRCsGgBIxii",
      "include_colab_link": true
    },
    "kernelspec": {
      "name": "python3",
      "display_name": "Python 3"
    },
    "language_info": {
      "name": "python"
    }
  },
  "cells": [
    {
      "cell_type": "markdown",
      "metadata": {
        "id": "view-in-github",
        "colab_type": "text"
      },
      "source": [
        "<a href=\"https://colab.research.google.com/github/gnitnaw/Programs/blob/master/Chapter6/GP.ipynb\" target=\"_parent\"><img src=\"https://colab.research.google.com/assets/colab-badge.svg\" alt=\"Open In Colab\"/></a>"
      ]
    },
    {
      "cell_type": "code",
      "metadata": {
        "colab": {
          "base_uri": "https://localhost:8080/"
        },
        "id": "NaWHJhVsAblT",
        "outputId": "2814bcb4-8834-4513-cda0-398464fae836"
      },
      "source": [
        "!python --version"
      ],
      "execution_count": 1,
      "outputs": [
        {
          "output_type": "stream",
          "name": "stdout",
          "text": [
            "Python 3.7.12\n"
          ]
        }
      ]
    },
    {
      "cell_type": "markdown",
      "metadata": {
        "id": "LetQC4wyAgKh"
      },
      "source": [
        "# Example 6.16\n",
        "## Import modules"
      ]
    },
    {
      "cell_type": "code",
      "metadata": {
        "colab": {
          "base_uri": "https://localhost:8080/"
        },
        "id": "-bXKlDOvAoW5",
        "outputId": "a63c361e-1b6a-4953-8f3e-0086ccc553ad"
      },
      "source": [
        "import numpy as np\n",
        "import matplotlib.pyplot as plt\n",
        "from math import pi\n",
        "from mpl_toolkits.mplot3d import Axes3D\n",
        "from matplotlib import cm\n",
        "from numpy.linalg import norm\n",
        "print(np.__version__)"
      ],
      "execution_count": 2,
      "outputs": [
        {
          "output_type": "stream",
          "name": "stdout",
          "text": [
            "1.19.5\n"
          ]
        }
      ]
    },
    {
      "cell_type": "markdown",
      "metadata": {
        "id": "WmrPRrN05iIF"
      },
      "source": [
        "## Set random seed"
      ]
    },
    {
      "cell_type": "code",
      "metadata": {
        "id": "DdzVvsn_5lIf"
      },
      "source": [
        "np.random.seed(252)"
      ],
      "execution_count": 3,
      "outputs": []
    },
    {
      "cell_type": "markdown",
      "metadata": {
        "id": "KYGyiNcLBI8j"
      },
      "source": [
        "## Generate events"
      ]
    },
    {
      "cell_type": "code",
      "metadata": {
        "id": "9OGRmXk9BLh2"
      },
      "source": [
        "def generate_event(n, s):\n",
        "   x = np.random.rand(n, 1)\n",
        "   y = 2*np.sin(2*pi*x)+np.random.randn(n, 1)*s\n",
        "   return x, y"
      ],
      "execution_count": 4,
      "outputs": []
    },
    {
      "cell_type": "markdown",
      "source": [
        "## Gaussian Kernel"
      ],
      "metadata": {
        "id": "mBt4UJSNwY64"
      }
    },
    {
      "cell_type": "code",
      "source": [
        "def k(x,u,sig2):\n",
        "    return(np.exp(-0.5*(x- u)**2/sig2))"
      ],
      "metadata": {
        "id": "8GkeT324wbvw"
      },
      "execution_count": 5,
      "outputs": []
    },
    {
      "cell_type": "code",
      "source": [
        "N = 100\n",
        "n = 30\n",
        "s = 0.5\n",
        "sig2 = 0.2*0.2\n",
        "x, y = generate_event(n, s)\n",
        "xx, yy = generate_event(1000, 0)\n",
        "plt.plot(xx,yy,\"o\")\n",
        "plt.plot(x,y,\"o\")\n",
        "plt.show()"
      ],
      "metadata": {
        "id": "cmjF_fbuf9Az",
        "outputId": "ca4c40f7-b58a-4513-9a77-f176de78c196",
        "colab": {
          "base_uri": "https://localhost:8080/",
          "height": 265
        }
      },
      "execution_count": 6,
      "outputs": [
        {
          "output_type": "display_data",
          "data": {
            "image/png": "[encoded data removed]",
            "text/plain": [
              "<Figure size 432x288 with 1 Axes>"
            ]
          },
          "metadata": {
            "needs_background": "light"
          }
        }
      ]
    },
    {
      "cell_type": "markdown",
      "source": [
        "## Reproduce Figure 6.7 (left)"
      ],
      "metadata": {
        "id": "ThfYjwhP5NlH"
      }
    },
    {
      "cell_type": "code",
      "source": [
        "def k(x,u,sig2):\n",
        "    return(np.exp(-0.5*(x-u)**2/sig2))\n",
        "\n",
        "K = np.zeros((n,n))\n",
        "for i in range(n):\n",
        "    for j in range(n):\n",
        "        K[i,j] = k(x[i],x[j],sig2)\n",
        "\n",
        "nf = 10\n",
        "ys = np.random.multivariate_normal(mean=np.zeros(x.shape).T[0], cov=K, size=nf)\n",
        "\n",
        "for i in range(nf):\n",
        "   plt.plot(x, ys[i], 'o')\n",
        "plt.show()\n"
      ],
      "metadata": {
        "colab": {
          "base_uri": "https://localhost:8080/",
          "height": 265
        },
        "id": "cF0oAINg5Q57",
        "outputId": "35736908-bc16-44a4-9c37-fdc5a026c150"
      },
      "execution_count": 7,
      "outputs": [
        {
          "output_type": "display_data",
          "data": {
            "image/png": "[encoded data removed]",
            "text/plain": [
              "<Figure size 432x288 with 1 Axes>"
            ]
          },
          "metadata": {
            "needs_background": "light"
          }
        }
      ]
    }
  ]
}
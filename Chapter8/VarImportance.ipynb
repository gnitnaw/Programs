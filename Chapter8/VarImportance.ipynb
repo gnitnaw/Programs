{
  "nbformat": 4,
  "nbformat_minor": 0,
  "metadata": {
    "colab": {
      "name": "VarImportance.ipynb",
      "provenance": [],
      "collapsed_sections": [],
      "authorship_tag": "ABX9TyNPV2cxJfVpQ5fMFcnOejcf",
      "include_colab_link": true
    },
    "kernelspec": {
      "name": "python3",
      "display_name": "Python 3"
    },
    "language_info": {
      "name": "python"
    }
  },
  "cells": [
    {
      "cell_type": "markdown",
      "metadata": {
        "id": "view-in-github",
        "colab_type": "text"
      },
      "source": [
        "<a href=\"https://colab.research.google.com/github/gnitnaw/Programs/blob/master/Chapter8/VarImportance.ipynb\" target=\"_parent\"><img src=\"https://colab.research.google.com/assets/colab-badge.svg\" alt=\"Open In Colab\"/></a>"
      ]
    },
    {
      "cell_type": "code",
      "metadata": {
        "colab": {
          "base_uri": "https://localhost:8080/"
        },
        "id": "NaWHJhVsAblT",
        "outputId": "a69ee66e-83d3-4e5e-976f-2063a3223afc"
      },
      "source": [
        "!python --version"
      ],
      "execution_count": 1,
      "outputs": [
        {
          "output_type": "stream",
          "name": "stdout",
          "text": [
            "Python 3.7.13\n"
          ]
        }
      ]
    },
    {
      "cell_type": "markdown",
      "metadata": {
        "id": "LetQC4wyAgKh"
      },
      "source": [
        "# Example 8.5\n",
        "## Import modules"
      ]
    },
    {
      "cell_type": "code",
      "metadata": {
        "colab": {
          "base_uri": "https://localhost:8080/"
        },
        "id": "-bXKlDOvAoW5",
        "outputId": "e16e8fb4-de4f-4833-ac4e-19b2b1a3a0f6"
      },
      "source": [
        "import numpy as np\n",
        "from sklearn.datasets import make_classification\n",
        "from sklearn.ensemble import RandomForestClassifier\n",
        "import matplotlib.pyplot as plt, pylab\n",
        "from sklearn import linear_model\n",
        "print(np.__version__)"
      ],
      "execution_count": 2,
      "outputs": [
        {
          "output_type": "stream",
          "name": "stdout",
          "text": [
            "1.21.5\n"
          ]
        }
      ]
    },
    {
      "cell_type": "markdown",
      "metadata": {
        "id": "WmrPRrN05iIF"
      },
      "source": [
        "## Set random seed"
      ]
    },
    {
      "cell_type": "code",
      "metadata": {
        "id": "DdzVvsn_5lIf"
      },
      "source": [
        "np.random.seed(100)"
      ],
      "execution_count": 3,
      "outputs": []
    },
    {
      "cell_type": "markdown",
      "metadata": {
        "id": "KYGyiNcLBI8j"
      },
      "source": [
        "## Original Program"
      ]
    },
    {
      "cell_type": "code",
      "metadata": {
        "colab": {
          "base_uri": "https://localhost:8080/",
          "height": 552
        },
        "id": "9OGRmXk9BLh2",
        "outputId": "728a8e4f-3c02-42ff-ce46-dd79228637ce"
      },
      "source": [
        "# create regression problem\n",
        "n_points = 1000 # points\n",
        "x, y =  make_classification(n_samples=n_points, n_features=15, n_informative=5,\n",
        "                            n_redundant=0, n_repeated=0, random_state=100, shuffle=False)\n",
        "\n",
        "rf = RandomForestClassifier(n_estimators=200, max_features  = \"log2\")\n",
        "\n",
        "rf.fit(x,y)\n",
        "\n",
        "\n",
        "importances = rf.feature_importances_\n",
        "indices = np.argsort(importances)[::-1]\n",
        "\n",
        "for f in range(15):\n",
        "    print(\"Feature %d (%f)\" % (indices[f]+1, importances[indices[f]]))\n",
        "\n",
        "\n",
        "std = np.std([rf.feature_importances_ for tree in rf.estimators_],\n",
        "             axis=0)\n",
        "\n",
        "# %%%%%%%%%%%%%%%%%%%%%%%%%%%%%%%%%%%%%%%%%%%%%%%%%%%%%%%%%%%%%%%%%%\n",
        "f = plt.figure()\n",
        "#plt.title(\"Feature importances\")\n",
        "plt.bar(range(x.shape[1]), importances[indices],\n",
        "       color=\"b\", yerr=std[indices], align=\"center\")\n",
        "plt.xticks(range(x.shape[1]), indices+1)\n",
        "plt.xlim([-1, x.shape[1]])\n",
        "pylab.xlabel(\"feature index\")\n",
        "pylab.ylabel(\"importance\")\n",
        "plt.show()\n",
        "f.savefig(\"varimport.pdf\", bbox_inches='tight')\n",
        "# %%%%%%%%%%%%%%%%%%%%%%%%%%%%%%%%%%%%%%%%%%%%%%%%%%%%%%%%%%%%%%%%%%"
      ],
      "execution_count": 4,
      "outputs": [
        {
          "output_type": "stream",
          "name": "stdout",
          "text": [
            "Feature 5 (0.284586)\n",
            "Feature 1 (0.225409)\n",
            "Feature 2 (0.100885)\n",
            "Feature 4 (0.091875)\n",
            "Feature 3 (0.083447)\n",
            "Feature 7 (0.023697)\n",
            "Feature 11 (0.023680)\n",
            "Feature 15 (0.022142)\n",
            "Feature 8 (0.021821)\n",
            "Feature 13 (0.021715)\n",
            "Feature 9 (0.021553)\n",
            "Feature 6 (0.020364)\n",
            "Feature 12 (0.019789)\n",
            "Feature 14 (0.019611)\n",
            "Feature 10 (0.019425)\n"
          ]
        },
        {
          "output_type": "display_data",
          "data": {
            "text/plain": [
              "<Figure size 432x288 with 1 Axes>"
            ],
            "image/png": "[encoded data removed]"
          },
          "metadata": {
            "needs_background": "light"
          }
        }
      ]
    },
    {
      "cell_type": "markdown",
      "source": [
        "## Check features"
      ],
      "metadata": {
        "id": "iWADsoDi-uKr"
      }
    },
    {
      "cell_type": "code",
      "source": [
        "Ng = 5000\n",
        "gg = np.linspace(-4, 2, num=Ng)\n",
        "gg = np.power(10,gg)\n",
        "p_est = np.zeros((Ng, 15))\n",
        "p_true = 5\n",
        "for i in range(Ng):\n",
        "  clf_L = linear_model.Lasso(gg[i])\n",
        "  clf_L.fit(x,y)\n",
        "  p_est[i] = clf_L.coef_\n",
        "\n",
        "pnorm = np.linalg.norm(p_est, axis=1, ord=1)\n",
        "\n",
        "col = ['r','b','g','m','k']\n",
        "for i in range(5):\n",
        "    plt.plot(pnorm, p_est.T[i], 'o', color=col[i])\n",
        "\n",
        "for i in range(5, 15):\n",
        "    plt.plot(pnorm, p_est.T[i], '-')\n",
        "\n",
        "#plt.xscale('log')\n",
        "plt.show()\n",
        "\n"
      ],
      "metadata": {
        "colab": {
          "base_uri": "https://localhost:8080/",
          "height": 265
        },
        "id": "GTaX12x3-trn",
        "outputId": "36342be6-6dca-458a-9c5d-7a50a0a61d4a"
      },
      "execution_count": 10,
      "outputs": [
        {
          "output_type": "display_data",
          "data": {
            "text/plain": [
              "<Figure size 432x288 with 1 Axes>"
            ],
            "image/png": "[encoded data removed]"
          },
          "metadata": {
            "needs_background": "light"
          }
        }
      ]
    }
  ]
}
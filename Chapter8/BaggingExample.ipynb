{
  "nbformat": 4,
  "nbformat_minor": 0,
  "metadata": {
    "colab": {
      "name": "BaggingExample.ipynb",
      "provenance": [],
      "collapsed_sections": [],
      "authorship_tag": "ABX9TyMczXb7oQi2VEf1W3Y60WXz",
      "include_colab_link": true
    },
    "kernelspec": {
      "name": "python3",
      "display_name": "Python 3"
    },
    "language_info": {
      "name": "python"
    }
  },
  "cells": [
    {
      "cell_type": "markdown",
      "metadata": {
        "id": "view-in-github",
        "colab_type": "text"
      },
      "source": [
        "<a href=\"https://colab.research.google.com/github/gnitnaw/Programs/blob/master/Chapter8/BaggingExample.ipynb\" target=\"_parent\"><img src=\"https://colab.research.google.com/assets/colab-badge.svg\" alt=\"Open In Colab\"/></a>"
      ]
    },
    {
      "cell_type": "code",
      "metadata": {
        "colab": {
          "base_uri": "https://localhost:8080/"
        },
        "id": "NaWHJhVsAblT",
        "outputId": "3c52a6da-9119-47c2-f02c-edf7684e5341"
      },
      "source": [
        "!python --version"
      ],
      "execution_count": 1,
      "outputs": [
        {
          "output_type": "stream",
          "name": "stdout",
          "text": [
            "Python 3.7.12\n"
          ]
        }
      ]
    },
    {
      "cell_type": "markdown",
      "metadata": {
        "id": "LetQC4wyAgKh"
      },
      "source": [
        "# Example 8.3\n",
        "## Import modules"
      ]
    },
    {
      "cell_type": "code",
      "metadata": {
        "colab": {
          "base_uri": "https://localhost:8080/"
        },
        "id": "-bXKlDOvAoW5",
        "outputId": "2235e538-65ae-45e3-931b-171ea09c8a9f"
      },
      "source": [
        "import numpy as np\n",
        "from sklearn.datasets import make_friedman1\n",
        "from sklearn.tree import DecisionTreeRegressor\n",
        "from sklearn.model_selection import train_test_split\n",
        "from sklearn.metrics import r2_score\n",
        "print(np.__version__)"
      ],
      "execution_count": 2,
      "outputs": [
        {
          "output_type": "stream",
          "name": "stdout",
          "text": [
            "1.21.5\n"
          ]
        }
      ]
    },
    {
      "cell_type": "markdown",
      "metadata": {
        "id": "WmrPRrN05iIF"
      },
      "source": [
        "## Set random seed"
      ]
    },
    {
      "cell_type": "code",
      "metadata": {
        "id": "DdzVvsn_5lIf"
      },
      "source": [
        "np.random.seed(100)"
      ],
      "execution_count": 3,
      "outputs": []
    },
    {
      "cell_type": "markdown",
      "metadata": {
        "id": "KYGyiNcLBI8j"
      },
      "source": [
        "## Original Program"
      ]
    },
    {
      "cell_type": "code",
      "metadata": {
        "colab": {
          "base_uri": "https://localhost:8080/"
        },
        "id": "9OGRmXk9BLh2",
        "outputId": "2e00cb9e-b6a9-4017-ab35-099c85998ce9"
      },
      "source": [
        "# create regression problem\n",
        "n_points = 1000 # points\n",
        "x, y =  make_friedman1(n_samples=n_points, n_features=15, \n",
        "                       noise=1.0, random_state=100)\n",
        "\n",
        "# split to train/test set\n",
        "x_train, x_test, y_train, y_test = \\\n",
        "        train_test_split(x, y, test_size=0.33, random_state=100)\n",
        "\n",
        "# training\n",
        "regTree = DecisionTreeRegressor(random_state=100)\n",
        "regTree.fit(x_train,y_train)\n",
        "\n",
        "# test\n",
        "yhat = regTree.predict(x_test)\n",
        "\n",
        "# Bagging construction\n",
        "n_estimators=500\n",
        "bag = np.empty((n_estimators), dtype=object)\n",
        "bootstrap_ds_arr = np.empty((n_estimators), dtype=object)\n",
        "for i in range(n_estimators):\n",
        "    # sample bootsraped dataset\n",
        "    ids = np.random.choice(range(0,len(x_test)),size=len(x_test),\n",
        "                     replace=True)\n",
        "    x_boot = x_train[ids]\n",
        "    y_boot = y_train[ids]\n",
        "    bootstrap_ds_arr[i] = np.unique(ids)\n",
        "    \n",
        "    bag[i] = DecisionTreeRegressor()\n",
        "    bag[i].fit(x_boot,y_boot)\n",
        "\n",
        "# bagging prediction\n",
        "yhatbag = np.zeros(len(y_test))   \n",
        "for i in range(n_estimators): \n",
        "    yhatbag = yhatbag + bag[i].predict(x_test)\n",
        "        \n",
        "yhatbag = yhatbag/n_estimators\n",
        "\n",
        "# out of bag loss estimation\n",
        "oob_pred_arr = np.zeros(len(x_train))\n",
        "for i in range(len(x_train)):\n",
        "    x = x_train[i].reshape(1, -1)\n",
        "    C = []\n",
        "    for b in range(n_estimators):\n",
        "        if(np.isin(i, bootstrap_ds_arr[b])==False):\n",
        "            C.append(b)\n",
        "    for pred in  bag[C]:       \n",
        "        oob_pred_arr[i] = oob_pred_arr[i] + (pred.predict(x)/len(C))        \n",
        "\n",
        "L_oob = r2_score(y_train, oob_pred_arr)\n",
        "\n",
        "print(\"DecisionTreeRegressor R^2 score = \",r2_score(y_test, yhat),  \n",
        "      \"\\nBagging R^2 score = \", r2_score(y_test, yhatbag),\n",
        "      \"\\nBagging OOB R^2 score = \",L_oob)"
      ],
      "execution_count": 4,
      "outputs": [
        {
          "output_type": "stream",
          "name": "stdout",
          "text": [
            "DecisionTreeRegressor R^2 score =  0.5652585102808715 \n",
            "Bagging R^2 score =  0.7594897731192692 \n",
            "Bagging OOB R^2 score =  0.7755235429272777\n"
          ]
        }
      ]
    }
  ]
}
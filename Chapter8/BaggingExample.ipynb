{
  "nbformat": 4,
  "nbformat_minor": 0,
  "metadata": {
    "colab": {
      "name": "BaggingExample.ipynb",
      "provenance": [],
      "collapsed_sections": [],
      "authorship_tag": "ABX9TyOwGf0DYtQ9z9mdk4rwc8DK",
      "include_colab_link": true
    },
    "kernelspec": {
      "name": "python3",
      "display_name": "Python 3"
    },
    "language_info": {
      "name": "python"
    }
  },
  "cells": [
    {
      "cell_type": "markdown",
      "metadata": {
        "id": "view-in-github",
        "colab_type": "text"
      },
      "source": [
        "<a href=\"https://colab.research.google.com/github/gnitnaw/Programs/blob/master/Chapter8/BaggingExample.ipynb\" target=\"_parent\"><img src=\"https://colab.research.google.com/assets/colab-badge.svg\" alt=\"Open In Colab\"/></a>"
      ]
    },
    {
      "cell_type": "code",
      "metadata": {
        "colab": {
          "base_uri": "https://localhost:8080/"
        },
        "id": "NaWHJhVsAblT",
        "outputId": "5c0f1770-453e-46b9-c718-d841027146f8"
      },
      "source": [
        "!python --version"
      ],
      "execution_count": 1,
      "outputs": [
        {
          "output_type": "stream",
          "name": "stdout",
          "text": [
            "Python 3.7.13\n"
          ]
        }
      ]
    },
    {
      "cell_type": "markdown",
      "metadata": {
        "id": "LetQC4wyAgKh"
      },
      "source": [
        "# Example 8.3\n",
        "## Import modules"
      ]
    },
    {
      "cell_type": "code",
      "metadata": {
        "colab": {
          "base_uri": "https://localhost:8080/"
        },
        "id": "-bXKlDOvAoW5",
        "outputId": "3b7c4539-b2c9-4c28-c6c9-7f5e2a63249f"
      },
      "source": [
        "import numpy as np\n",
        "from sklearn.datasets import make_friedman1\n",
        "from sklearn.tree import DecisionTreeRegressor\n",
        "from sklearn.model_selection import train_test_split, cross_val_score\n",
        "from sklearn.metrics import r2_score, mean_squared_error\n",
        "import matplotlib.pyplot as plt\n",
        "print(np.__version__)"
      ],
      "execution_count": 2,
      "outputs": [
        {
          "output_type": "stream",
          "name": "stdout",
          "text": [
            "1.21.5\n"
          ]
        }
      ]
    },
    {
      "cell_type": "markdown",
      "metadata": {
        "id": "WmrPRrN05iIF"
      },
      "source": [
        "## Set random seed"
      ]
    },
    {
      "cell_type": "code",
      "metadata": {
        "id": "DdzVvsn_5lIf"
      },
      "source": [
        "np.random.seed(100)"
      ],
      "execution_count": 3,
      "outputs": []
    },
    {
      "cell_type": "markdown",
      "metadata": {
        "id": "KYGyiNcLBI8j"
      },
      "source": [
        "## Original Program"
      ]
    },
    {
      "cell_type": "code",
      "metadata": {
        "colab": {
          "base_uri": "https://localhost:8080/"
        },
        "id": "9OGRmXk9BLh2",
        "outputId": "a835980b-003f-49cb-ab53-b2059777ff7c"
      },
      "source": [
        "# create regression problem\n",
        "n_points = 1000 # points\n",
        "x, y =  make_friedman1(n_samples=n_points, n_features=15, \n",
        "                       noise=1.0, random_state=100)\n",
        "\n",
        "# split to train/test set\n",
        "x_train, x_test, y_train, y_test = \\\n",
        "        train_test_split(x, y, test_size=0.33, random_state=100)\n",
        "\n",
        "# training\n",
        "regTree = DecisionTreeRegressor(random_state=100)\n",
        "regTree.fit(x_train,y_train)\n",
        "\n",
        "# test\n",
        "yhat = regTree.predict(x_test)\n",
        "\n",
        "# Bagging construction\n",
        "n_estimators=500\n",
        "bag = np.empty((n_estimators), dtype=object)\n",
        "bootstrap_ds_arr = np.empty((n_estimators), dtype=object)\n",
        "for i in range(n_estimators):\n",
        "    # sample bootsraped dataset\n",
        "    ids = np.random.choice(range(0,len(x_train)),size=len(x_train),\n",
        "                     replace=True)\n",
        "    x_boot = x_train[ids]\n",
        "    y_boot = y_train[ids]\n",
        "    bootstrap_ds_arr[i] = np.unique(ids)\n",
        "    \n",
        "    bag[i] = DecisionTreeRegressor()\n",
        "    bag[i].fit(x_boot,y_boot)\n",
        "\n",
        "# bagging prediction\n",
        "yhatbag = np.zeros(len(y_test))   \n",
        "for i in range(n_estimators): \n",
        "    yhatbag = yhatbag + bag[i].predict(x_test)\n",
        "        \n",
        "yhatbag = yhatbag/n_estimators\n",
        "\n",
        "# out of bag loss estimation\n",
        "oob_pred_arr = np.zeros(len(x_train))\n",
        "for i in range(len(x_train)):\n",
        "    x = x_train[i].reshape(1, -1)\n",
        "    C = []\n",
        "    for b in range(n_estimators):\n",
        "        if(np.isin(i, bootstrap_ds_arr[b])==False):\n",
        "            C.append(b)\n",
        "    for pred in bag[C]:       \n",
        "        oob_pred_arr[i] = oob_pred_arr[i] + (pred.predict(x)/len(C))        \n",
        "\n",
        "L_oob = r2_score(y_train, oob_pred_arr)\n",
        "\n",
        "print(\"DecisionTreeRegressor R^2 score = \",r2_score(y_test, yhat),  \n",
        "      \"\\nBagging R^2 score = \", r2_score(y_test, yhatbag),\n",
        "      \"\\nBagging OOB R^2 score = \",L_oob)"
      ],
      "execution_count": 4,
      "outputs": [
        {
          "output_type": "stream",
          "name": "stdout",
          "text": [
            "DecisionTreeRegressor R^2 score =  0.5652585102808715 \n",
            "Bagging R^2 score =  0.8025977878086985 \n",
            "Bagging OOB R^2 score =  0.821036694265204\n"
          ]
        }
      ]
    },
    {
      "cell_type": "markdown",
      "source": [
        "## Compare loss of N-fold cross-validation and OOB"
      ],
      "metadata": {
        "id": "GArerz-wUV8w"
      }
    },
    {
      "cell_type": "code",
      "source": [
        "n = 10000\n",
        "Bmax = 100\n",
        "unitB = 5\n",
        "X, Y =  make_friedman1(n_samples=n, n_features=15, noise=1.0, random_state=100)\n",
        "X_train, X_test, Y_train, Y_test = train_test_split(X, Y, test_size=0.33, random_state=100)\n",
        "\n",
        "# training\n",
        "regTree = DecisionTreeRegressor(random_state=100)\n",
        "regTree.fit(X_train,Y_train)\n",
        "\n",
        "# test\n",
        "yhat = regTree.predict(X_test)\n",
        "DTMSE = mean_squared_error(Y_test, yhat)\n",
        "\n",
        "clf = DecisionTreeRegressor()\n",
        "cv_results = cross_val_score(clf, X_train, Y_train, cv=Y_train.shape[0], scoring ='neg_mean_squared_error')\n",
        "\n",
        "error_B = np.zeros(int(Bmax/unitB))\n",
        "OOB_B = np.zeros((int(Bmax/unitB),Y_train.shape[0]))\n",
        "# Bagging construction\n",
        "n_estimators=Bmax\n",
        "bag = np.empty((n_estimators), dtype=object)\n",
        "bootstrap_ds_arr = np.empty((n_estimators), dtype=object)\n",
        "for i in range(n_estimators):\n",
        "    # sample bootsraped dataset\n",
        "    ids = np.random.choice(range(0,len(X_train)),size=len(X_train),\n",
        "                     replace=True)\n",
        "    \n",
        "    x_boot = X_train[ids]\n",
        "    y_boot = Y_train[ids]\n",
        "    bootstrap_ds_arr[i] = np.unique(ids)\n",
        "    bag[i] = DecisionTreeRegressor()\n",
        "    bag[i].fit(x_boot,y_boot)\n",
        "\n",
        "# bagging prediction\n",
        "yhatbag = np.zeros(len(Y_test))   \n",
        "for i in range(n_estimators): \n",
        "    yhatbag = yhatbag + bag[i].predict(X_test)\n",
        "    if i > 0 and i%unitB ==0 :\n",
        "        error_B[int(i/unitB)] = mean_squared_error(Y_test, yhatbag/(i+1))\n",
        "\n",
        "# out of bag loss estimation\n",
        "oob_pred_arr = np.zeros(len(X_train))\n",
        "for i in range(len(X_train)):\n",
        "    x = X_train[i].reshape(1, -1)\n",
        "    C = []\n",
        "    for b in range(n_estimators):\n",
        "        if(np.isin(i, bootstrap_ds_arr[b])==False):\n",
        "            C.append(b)\n",
        "        if (b>0 and b%unitB ==0) :\n",
        "            for pred in  bag[C]:       \n",
        "                OOB_B[int(b/unitB)][i] = OOB_B[int(b/unitB)][i] + (pred.predict(x)/len(C))\n",
        "    #print(len(C))\n",
        "    for pred in  bag[C]:       \n",
        "        oob_pred_arr[i] = oob_pred_arr[i] + (pred.predict(x)/len(C))\n",
        "\n",
        "LL_oob = mean_squared_error(Y_train, oob_pred_arr)\n",
        "OOB_difB = np.zeros(int(Bmax/unitB))\n",
        "\n",
        "for i in range(int(Bmax/unitB)):\n",
        "    OOB_difB[i] = mean_squared_error(Y_train, OOB_B[i])\n",
        "\n",
        "print(\"DecisionTreeRegressor MSE score = \", DTMSE,  \n",
        "      \"\\ncross_validate loss = \", np.mean(cv_results), \n",
        "      \"\\nBagging OOB MSE score = \",LL_oob)\n",
        "print(error_B)\n",
        "print(OOB_difB)\n",
        "xx = (np.arange(int(Bmax/unitB))+1)*unitB\n",
        "print(xx)\n",
        "plt.scatter(xx, error_B)\n",
        "plt.scatter(xx, OOB_difB)\n",
        "plt.show()"
      ],
      "metadata": {
        "colab": {
          "base_uri": "https://localhost:8080/",
          "height": 501
        },
        "id": "M6lIdPKjUgw5",
        "outputId": "6c9b5d37-9742-4ddd-f9e5-61dcdeac27c5"
      },
      "execution_count": 5,
      "outputs": [
        {
          "output_type": "stream",
          "name": "stdout",
          "text": [
            "DecisionTreeRegressor MSE score =  6.202244006259345 \n",
            "cross_validate loss =  -6.471535822741479 \n",
            "Bagging OOB MSE score =  2.6122999738651593\n",
            "[0.         3.2397416  2.9345546  2.79842193 2.72171483 2.66544337\n",
            " 2.60347049 2.59598918 2.57506642 2.57268938 2.55989668 2.54428578\n",
            " 2.5337913  2.53188089 2.52454532 2.52558294 2.51834868 2.50841033\n",
            " 2.50840561 2.50573107]\n",
            "[233.1027803   19.13089933   5.02534907   3.54055755   3.22514864\n",
            "   3.07664348   2.95072715   2.88303106   2.84915297   2.8119519\n",
            "   2.7759019    2.74073681   2.72145181   2.69947694   2.68673099\n",
            "   2.67335831   2.6597098    2.64409293   2.63479198   2.62471476]\n",
            "[  5  10  15  20  25  30  35  40  45  50  55  60  65  70  75  80  85  90\n",
            "  95 100]\n"
          ]
        },
        {
          "output_type": "display_data",
          "data": {
            "text/plain": [
              "<Figure size 432x288 with 1 Axes>"
            ],
            "image/png": "[encoded data removed]"
          },
          "metadata": {
            "needs_background": "light"
          }
        }
      ]
    }
  ]
}
{
  "nbformat": 4,
  "nbformat_minor": 0,
  "metadata": {
    "colab": {
      "name": "BaggingExampleRF.ipynb",
      "provenance": [],
      "collapsed_sections": [],
      "authorship_tag": "ABX9TyPf6WIeC5NXQFVAJb8Vxxj6",
      "include_colab_link": true
    },
    "kernelspec": {
      "name": "python3",
      "display_name": "Python 3"
    },
    "language_info": {
      "name": "python"
    }
  },
  "cells": [
    {
      "cell_type": "markdown",
      "metadata": {
        "id": "view-in-github",
        "colab_type": "text"
      },
      "source": [
        "<a href=\"https://colab.research.google.com/github/gnitnaw/Programs/blob/master/Chapter8/BaggingExampleRF.ipynb\" target=\"_parent\"><img src=\"https://colab.research.google.com/assets/colab-badge.svg\" alt=\"Open In Colab\"/></a>"
      ]
    },
    {
      "cell_type": "code",
      "metadata": {
        "colab": {
          "base_uri": "https://localhost:8080/"
        },
        "id": "NaWHJhVsAblT",
        "outputId": "946c0cfb-b938-49c7-bbdb-bcfbb3f9a88b"
      },
      "source": [
        "!python --version"
      ],
      "execution_count": 1,
      "outputs": [
        {
          "output_type": "stream",
          "name": "stdout",
          "text": [
            "Python 3.7.13\n"
          ]
        }
      ]
    },
    {
      "cell_type": "markdown",
      "metadata": {
        "id": "LetQC4wyAgKh"
      },
      "source": [
        "# Example 8.4\n",
        "## Import modules"
      ]
    },
    {
      "cell_type": "code",
      "metadata": {
        "colab": {
          "base_uri": "https://localhost:8080/"
        },
        "id": "-bXKlDOvAoW5",
        "outputId": "e94c7cd9-8567-47fd-c86f-0ded3cbc84bd"
      },
      "source": [
        "import numpy as np\n",
        "from sklearn.datasets import make_friedman1\n",
        "from sklearn.model_selection import train_test_split, cross_val_score\n",
        "from sklearn.metrics import r2_score, mean_squared_error\n",
        "from sklearn.ensemble import RandomForestRegressor\n",
        "print(np.__version__)"
      ],
      "execution_count": 2,
      "outputs": [
        {
          "output_type": "stream",
          "name": "stdout",
          "text": [
            "1.21.5\n"
          ]
        }
      ]
    },
    {
      "cell_type": "markdown",
      "metadata": {
        "id": "WmrPRrN05iIF"
      },
      "source": [
        "## Set random seed"
      ]
    },
    {
      "cell_type": "code",
      "metadata": {
        "id": "DdzVvsn_5lIf"
      },
      "source": [
        "np.random.seed(100)"
      ],
      "execution_count": 3,
      "outputs": []
    },
    {
      "cell_type": "markdown",
      "metadata": {
        "id": "KYGyiNcLBI8j"
      },
      "source": [
        "## Original Program"
      ]
    },
    {
      "cell_type": "code",
      "metadata": {
        "colab": {
          "base_uri": "https://localhost:8080/"
        },
        "id": "9OGRmXk9BLh2",
        "outputId": "491bc35a-8d9f-4de4-84de-ebca59791e83"
      },
      "source": [
        "# create regression problem\n",
        "n_points = 1000 # points\n",
        "x, y =  make_friedman1(n_samples=n_points, n_features=15, \n",
        "                       noise=1.0, random_state=100)\n",
        "# split to train/test set\n",
        "x_train, x_test, y_train, y_test = \\\n",
        "        train_test_split(x, y, test_size=0.33, random_state=100)       \n",
        "rf = RandomForestRegressor(n_estimators=500, oob_score = True, max_features=8,random_state=100)\n",
        "rf.fit(x_train,y_train)\n",
        "yhatrf = rf.predict(x_test)\n",
        "\n",
        "print(\"RF R^2 score = \", r2_score(y_test, yhatrf), \n",
        "      \"\\nRF OOB R^2 score = \", rf.oob_score_)"
      ],
      "execution_count": 4,
      "outputs": [
        {
          "output_type": "stream",
          "name": "stdout",
          "text": [
            "RF R^2 score =  0.8097606119614605 \n",
            "RF OOB R^2 score =  0.8254003872520861\n"
          ]
        }
      ]
    },
    {
      "cell_type": "markdown",
      "source": [
        "## Compare with CV"
      ],
      "metadata": {
        "id": "pn6COHK0dyhL"
      }
    },
    {
      "cell_type": "code",
      "source": [
        "rf = RandomForestRegressor(n_estimators=500, oob_score = True, max_features=8,random_state=100, criterion=\"squared_error\")\n",
        "rf.fit(x_train,y_train)\n",
        "yhatrf = rf.predict(x_test)\n",
        "varY = np.var(y_train)*(1-rf.oob_score_)\n",
        "\n",
        "cv_results = cross_val_score(rf, x_train, y_train, cv=y_train.shape[0], scoring ='neg_mean_squared_error')\n",
        "print(\"RF R^2 score = \", mean_squared_error(y_test, yhatrf), \n",
        "      \"\\nRF OOB MSE score = \", varY, \n",
        "      \"\\nN-fold CV score = \", np.mean(cv_results))"
      ],
      "metadata": {
        "colab": {
          "base_uri": "https://localhost:8080/"
        },
        "id": "MU1XQe_cd0T3",
        "outputId": "6fa9d0c7-df20-45ac-d453-4509a29a1b24"
      },
      "execution_count": 5,
      "outputs": [
        {
          "output_type": "stream",
          "name": "stdout",
          "text": [
            "RF R^2 score =  4.80059803109958 \n",
            "RF OOB MSE score =  4.255932215993549 \n",
            "N-fold CV score =  -4.165203747061104\n"
          ]
        }
      ]
    }
  ]
}
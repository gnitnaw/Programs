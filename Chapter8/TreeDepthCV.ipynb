{
  "nbformat": 4,
  "nbformat_minor": 0,
  "metadata": {
    "colab": {
      "name": "TreeDepthCV.ipynb",
      "provenance": [],
      "collapsed_sections": [],
      "authorship_tag": "ABX9TyOYMEEj0CSBF0qZUbSXgEg7",
      "include_colab_link": true
    },
    "kernelspec": {
      "name": "python3",
      "display_name": "Python 3"
    },
    "language_info": {
      "name": "python"
    }
  },
  "cells": [
    {
      "cell_type": "markdown",
      "metadata": {
        "id": "view-in-github",
        "colab_type": "text"
      },
      "source": [
        "<a href=\"https://colab.research.google.com/github/gnitnaw/Programs/blob/master/Chapter8/TreeDepthCV.ipynb\" target=\"_parent\"><img src=\"https://colab.research.google.com/assets/colab-badge.svg\" alt=\"Open In Colab\"/></a>"
      ]
    },
    {
      "cell_type": "code",
      "metadata": {
        "colab": {
          "base_uri": "https://localhost:8080/"
        },
        "id": "NaWHJhVsAblT",
        "outputId": "6fef0424-72b4-4edd-99b1-70418e71a178"
      },
      "source": [
        "!python --version"
      ],
      "execution_count": 1,
      "outputs": [
        {
          "output_type": "stream",
          "name": "stdout",
          "text": [
            "Python 3.7.12\n"
          ]
        }
      ]
    },
    {
      "cell_type": "markdown",
      "metadata": {
        "id": "LetQC4wyAgKh"
      },
      "source": [
        "# Example 8.2\n",
        "## Import modules"
      ]
    },
    {
      "cell_type": "code",
      "metadata": {
        "colab": {
          "base_uri": "https://localhost:8080/"
        },
        "id": "-bXKlDOvAoW5",
        "outputId": "08af7290-dd8a-4a58-f6bb-d48491e52279"
      },
      "source": [
        "import numpy as np\n",
        "from sklearn.datasets import make_blobs\n",
        "from sklearn.model_selection import cross_val_score\n",
        "from sklearn.tree import DecisionTreeClassifier\n",
        "from sklearn.metrics import zero_one_loss\n",
        "import matplotlib.pyplot as plt\n",
        "print(np.__version__)"
      ],
      "execution_count": 2,
      "outputs": [
        {
          "output_type": "stream",
          "name": "stdout",
          "text": [
            "1.21.5\n"
          ]
        }
      ]
    },
    {
      "cell_type": "markdown",
      "metadata": {
        "id": "WmrPRrN05iIF"
      },
      "source": [
        "## Set random seed"
      ]
    },
    {
      "cell_type": "code",
      "metadata": {
        "id": "DdzVvsn_5lIf"
      },
      "source": [
        "np.random.seed(1357)"
      ],
      "execution_count": 3,
      "outputs": []
    },
    {
      "cell_type": "markdown",
      "metadata": {
        "id": "KYGyiNcLBI8j"
      },
      "source": [
        "## Original Program"
      ]
    },
    {
      "cell_type": "code",
      "metadata": {
        "colab": {
          "base_uri": "https://localhost:8080/",
          "height": 306
        },
        "id": "9OGRmXk9BLh2",
        "outputId": "5d23517c-966b-40c0-9462-be740ef4d333"
      },
      "source": [
        "def ZeroOneScore(clf, X, y):\n",
        "    y_pred = clf.predict(X)\n",
        "    return zero_one_loss(y, y_pred)\n",
        "\n",
        "\n",
        "# Construct the training set \n",
        "X, y =  make_blobs(n_samples=5000, n_features=10, centers=3,\n",
        "                           random_state=10, cluster_std=10)\n",
        "    \n",
        "# construct a decision tree classifier  \n",
        "clf = DecisionTreeClassifier(random_state=0)\n",
        "\n",
        "# cross validation loss as a function of tree depth (1 to 30)\n",
        "xdepthlist = []\n",
        "cvlist = []\n",
        "tree_depth = range(1,30)\n",
        "for d in tree_depth:\n",
        "    xdepthlist.append(d)\n",
        "    clf.max_depth=d\n",
        "    cv = np.mean(cross_val_score(clf, X, y, cv=10, scoring=ZeroOneScore))\n",
        "    cvlist.append(cv)\n",
        "    \n",
        "plt.xlabel('tree depth', fontsize=18, color='black')\n",
        "plt.ylabel('loss', fontsize=18, color='black')\n",
        "plt.plot(xdepthlist, cvlist,'-*' , linewidth=0.5)"
      ],
      "execution_count": 4,
      "outputs": [
        {
          "output_type": "execute_result",
          "data": {
            "text/plain": [
              "[<matplotlib.lines.Line2D at 0x7f40ff61c0d0>]"
            ]
          },
          "metadata": {},
          "execution_count": 4
        },
        {
          "output_type": "display_data",
          "data": {
            "image/png": "[encoded data removed]",
            "text/plain": [
              "<Figure size 432x288 with 1 Axes>"
            ]
          },
          "metadata": {
            "needs_background": "light"
          }
        }
      ]
    }
  ]
}
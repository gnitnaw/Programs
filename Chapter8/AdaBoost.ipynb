{
  "nbformat": 4,
  "nbformat_minor": 0,
  "metadata": {
    "colab": {
      "name": "AdaBoost.ipynb",
      "provenance": [],
      "collapsed_sections": [],
      "authorship_tag": "ABX9TyN+kCxCj0YKRryoM21GLvRD",
      "include_colab_link": true
    },
    "kernelspec": {
      "name": "python3",
      "display_name": "Python 3"
    },
    "language_info": {
      "name": "python"
    }
  },
  "cells": [
    {
      "cell_type": "markdown",
      "metadata": {
        "id": "view-in-github",
        "colab_type": "text"
      },
      "source": [
        "<a href=\"https://colab.research.google.com/github/gnitnaw/Programs/blob/master/Chapter8/AdaBoost.ipynb\" target=\"_parent\"><img src=\"https://colab.research.google.com/assets/colab-badge.svg\" alt=\"Open In Colab\"/></a>"
      ]
    },
    {
      "cell_type": "code",
      "metadata": {
        "colab": {
          "base_uri": "https://localhost:8080/"
        },
        "id": "NaWHJhVsAblT",
        "outputId": "7b47e874-0209-4805-82db-0941cd9a1e87"
      },
      "source": [
        "!python --version"
      ],
      "execution_count": null,
      "outputs": [
        {
          "output_type": "stream",
          "name": "stdout",
          "text": [
            "Python 3.7.12\n"
          ]
        }
      ]
    },
    {
      "cell_type": "markdown",
      "metadata": {
        "id": "LetQC4wyAgKh"
      },
      "source": [
        "# AdaBoost\n",
        "## Import modules"
      ]
    },
    {
      "cell_type": "code",
      "metadata": {
        "colab": {
          "base_uri": "https://localhost:8080/"
        },
        "id": "-bXKlDOvAoW5",
        "outputId": "4256d477-c31c-49cb-e942-c9fdc9192a96"
      },
      "source": [
        "from sklearn.datasets import make_blobs\n",
        "from sklearn.tree import DecisionTreeClassifier\n",
        "from sklearn.model_selection import train_test_split\n",
        "from sklearn.metrics import zero_one_loss\n",
        "import numpy as np\n",
        "print(np.__version__)"
      ],
      "execution_count": null,
      "outputs": [
        {
          "output_type": "stream",
          "name": "stdout",
          "text": [
            "1.21.5\n"
          ]
        }
      ]
    },
    {
      "cell_type": "markdown",
      "metadata": {
        "id": "WmrPRrN05iIF"
      },
      "source": [
        "## Set random seed"
      ]
    },
    {
      "cell_type": "code",
      "metadata": {
        "id": "DdzVvsn_5lIf"
      },
      "source": [
        "np.random.seed(100)"
      ],
      "execution_count": null,
      "outputs": []
    },
    {
      "cell_type": "markdown",
      "metadata": {
        "id": "KYGyiNcLBI8j"
      },
      "source": [
        "## Original Program"
      ]
    },
    {
      "cell_type": "code",
      "metadata": {
        "colab": {
          "base_uri": "https://localhost:8080/"
        },
        "id": "9OGRmXk9BLh2",
        "outputId": "cc4c390d-e932-49b2-fded-bf4ff95c46aa"
      },
      "source": [
        "def ExponentialLoss(y,yhat):\n",
        "    n = len(y)\n",
        "    loss = 0\n",
        "    for i in range(n):\n",
        "        loss = loss+np.exp(-y[i]*yhat[i])\n",
        "    loss = loss/n\n",
        "    return loss\n",
        "\n",
        "n_points = 100 # points\n",
        "x, y =  make_blobs(n_samples=n_points, n_features=5,  centers=2,\n",
        "                      cluster_std=20.0, random_state=100)\n",
        "y[y==0]=-1  \n",
        "\n",
        "# AdaBoost implementation\n",
        "BoostingRounds = 1000\n",
        "n = len(x)\n",
        "W = 1/n*np.ones(n)\n",
        "\n",
        "Learner = []\n",
        "alpha_b_arr = []\n",
        "\n",
        "for i in range(BoostingRounds):\n",
        "    clf = DecisionTreeClassifier(max_depth=1)\n",
        "    clf.fit(x,y, sample_weight=W)\n",
        "    \n",
        "    Learner.append(clf)\n",
        "    \n",
        "    train_pred = clf.predict(x)\n",
        "    err_b = 0\n",
        "    for i in range(n):\n",
        "        if(train_pred[i]!=y[i]):\n",
        "            err_b = err_b+W[i]\n",
        "    err_b = err_b/np.sum(W)\n",
        "        \n",
        "    alpha_b = 0.5*np.log((1-err_b)/err_b)\n",
        "    \n",
        "    alpha_b_arr.append(alpha_b)\n",
        "    \n",
        "    for i in range(n):\n",
        "        W[i] = W[i]*np.exp(-y[i]*alpha_b*train_pred[i])        \n",
        "    \n",
        "yhat_boost = np.zeros(len(y))\n",
        "\n",
        "for j in range(BoostingRounds):\n",
        "    yhat_boost = yhat_boost+alpha_b_arr[j]*Learner[j].predict(x)\n",
        "    \n",
        "    \n",
        "yhat = np.zeros(n)\n",
        "yhat[yhat_boost>=0]=1\n",
        "yhat[yhat_boost<0]=-1\n",
        "print(\"AdaBoost Classifier exponential loss = \", ExponentialLoss(y, yhat_boost)) \n",
        "print(\"AdaBoost Classifier zero-one loss = \", zero_one_loss(y,yhat) ) "
      ],
      "execution_count": null,
      "outputs": [
        {
          "output_type": "stream",
          "name": "stdout",
          "text": [
            "AdaBoost Classifier exponential loss =  0.004224013663777135\n",
            "AdaBoost Classifier zero-one loss =  0.0\n"
          ]
        }
      ]
    }
  ]
}
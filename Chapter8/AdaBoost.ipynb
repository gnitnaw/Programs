{
  "nbformat": 4,
  "nbformat_minor": 0,
  "metadata": {
    "colab": {
      "name": "AdaBoost.ipynb",
      "provenance": [],
      "collapsed_sections": [],
      "authorship_tag": "ABX9TyMy7icNZniArW9P0kTVz8gf",
      "include_colab_link": true
    },
    "kernelspec": {
      "name": "python3",
      "display_name": "Python 3"
    },
    "language_info": {
      "name": "python"
    }
  },
  "cells": [
    {
      "cell_type": "markdown",
      "metadata": {
        "id": "view-in-github",
        "colab_type": "text"
      },
      "source": [
        "<a href=\"https://colab.research.google.com/github/gnitnaw/Programs/blob/master/Chapter8/AdaBoost.ipynb\" target=\"_parent\"><img src=\"https://colab.research.google.com/assets/colab-badge.svg\" alt=\"Open In Colab\"/></a>"
      ]
    },
    {
      "cell_type": "code",
      "metadata": {
        "colab": {
          "base_uri": "https://localhost:8080/"
        },
        "id": "NaWHJhVsAblT",
        "outputId": "9167b8b7-b157-4191-eb00-834652675517"
      },
      "source": [
        "!python --version"
      ],
      "execution_count": 1,
      "outputs": [
        {
          "output_type": "stream",
          "name": "stdout",
          "text": [
            "Python 3.7.13\n"
          ]
        }
      ]
    },
    {
      "cell_type": "markdown",
      "metadata": {
        "id": "LetQC4wyAgKh"
      },
      "source": [
        "# AdaBoost\n",
        "## Import modules"
      ]
    },
    {
      "cell_type": "code",
      "metadata": {
        "colab": {
          "base_uri": "https://localhost:8080/"
        },
        "id": "-bXKlDOvAoW5",
        "outputId": "41c17dd8-aec2-4c53-da1f-1ee0ebcdc327"
      },
      "source": [
        "from sklearn.datasets import make_blobs\n",
        "from sklearn.tree import DecisionTreeClassifier\n",
        "from sklearn.model_selection import train_test_split\n",
        "from sklearn.metrics import zero_one_loss\n",
        "from sklearn.ensemble import AdaBoostClassifier\n",
        "import numpy as np\n",
        "import matplotlib.pyplot as plt\n",
        "print(np.__version__)"
      ],
      "execution_count": 2,
      "outputs": [
        {
          "output_type": "stream",
          "name": "stdout",
          "text": [
            "1.21.5\n"
          ]
        }
      ]
    },
    {
      "cell_type": "markdown",
      "metadata": {
        "id": "WmrPRrN05iIF"
      },
      "source": [
        "## Set random seed"
      ]
    },
    {
      "cell_type": "code",
      "metadata": {
        "id": "DdzVvsn_5lIf"
      },
      "source": [
        "np.random.seed(100)"
      ],
      "execution_count": 3,
      "outputs": []
    },
    {
      "cell_type": "markdown",
      "metadata": {
        "id": "KYGyiNcLBI8j"
      },
      "source": [
        "## Original Program"
      ]
    },
    {
      "cell_type": "code",
      "metadata": {
        "colab": {
          "base_uri": "https://localhost:8080/"
        },
        "id": "9OGRmXk9BLh2",
        "outputId": "1e2e0e1d-6828-4cae-df93-ca491a4a043b"
      },
      "source": [
        "def ExponentialLoss(y,yhat):\n",
        "    n = len(y)\n",
        "    loss = 0\n",
        "    for i in range(n):\n",
        "        loss = loss+np.exp(-y[i]*yhat[i])\n",
        "    loss = loss/n\n",
        "    return loss\n",
        "\n",
        "n_points = 100 # points\n",
        "x, y =  make_blobs(n_samples=n_points, n_features=5,  centers=2,\n",
        "                      cluster_std=20.0, random_state=100)\n",
        "y[y==0]=-1  \n",
        "\n",
        "# AdaBoost implementation\n",
        "BoostingRounds = 1000\n",
        "n = len(x)\n",
        "W = 1/n*np.ones(n)\n",
        "\n",
        "Learner = []\n",
        "alpha_b_arr = []\n",
        "\n",
        "for i in range(BoostingRounds):\n",
        "    clf = DecisionTreeClassifier(max_depth=1)\n",
        "    clf.fit(x,y, sample_weight=W)\n",
        "    \n",
        "    Learner.append(clf)\n",
        "    \n",
        "    train_pred = clf.predict(x)\n",
        "    err_b = 0\n",
        "    for i in range(n):\n",
        "        if(train_pred[i]!=y[i]):\n",
        "            err_b = err_b+W[i]\n",
        "    err_b = err_b/np.sum(W)\n",
        "        \n",
        "    alpha_b = 0.5*np.log((1-err_b)/err_b)\n",
        "    \n",
        "    alpha_b_arr.append(alpha_b)\n",
        "    \n",
        "    for i in range(n):\n",
        "        W[i] = W[i]*np.exp(-y[i]*alpha_b*train_pred[i])        \n",
        "    \n",
        "yhat_boost = np.zeros(len(y))\n",
        "\n",
        "for j in range(BoostingRounds):\n",
        "    yhat_boost = yhat_boost+alpha_b_arr[j]*Learner[j].predict(x)\n",
        "    \n",
        "    \n",
        "yhat = np.zeros(n)\n",
        "yhat[yhat_boost>=0]=1\n",
        "yhat[yhat_boost<0]=-1\n",
        "print(\"AdaBoost Classifier exponential loss = \", ExponentialLoss(y, yhat_boost)) \n",
        "print(\"AdaBoost Classifier zero-one loss = \", zero_one_loss(y,yhat) ) "
      ],
      "execution_count": 4,
      "outputs": [
        {
          "output_type": "stream",
          "name": "stdout",
          "text": [
            "AdaBoost Classifier exponential loss =  0.004224013663777135\n",
            "AdaBoost Classifier zero-one loss =  0.0\n"
          ]
        }
      ]
    },
    {
      "cell_type": "markdown",
      "source": [
        "## Reproduce Figure 8.11"
      ],
      "metadata": {
        "id": "dEEnboV8jsZM"
      }
    },
    {
      "cell_type": "code",
      "source": [
        "n_points = 100 # points\n",
        "X, Y =  make_blobs(n_samples=n_points+50, n_features=5,  centers=2,\n",
        "                      cluster_std=20.0, random_state=100)\n",
        "\n",
        "#Y[Y==0]=-1\n",
        "\n",
        "x = np.copy(X[0:n_points])\n",
        "y = np.copy(Y[0:n_points])\n",
        "y[y==0]=-1\n",
        "\n",
        "x_test = np.copy(X[n_points:])\n",
        "y_test = np.copy(Y[n_points:])\n",
        "y_test[y_test==0]=-1\n",
        "\n",
        "# AdaBoost implementation\n",
        "BoostingRounds = 1000\n",
        "BB = np.arange(BoostingRounds)+1\n",
        "n = len(x)\n",
        "W = 1/n*np.ones(n)\n",
        "\n",
        "Learner = []\n",
        "alpha_b_arr = []\n",
        "\n",
        "ypre_exp = np.zeros(BoostingRounds)\n",
        "ypre_01 = np.zeros(BoostingRounds)\n",
        "ytest_exp = np.zeros(BoostingRounds)\n",
        "ytest_01 = np.zeros(BoostingRounds)\n",
        "\n",
        "\n",
        "yhat_boost1 = np.zeros(len(y))\n",
        "yhat_boost2 = np.zeros(len(y_test))\n",
        "\n",
        "\n",
        "for i in range(BoostingRounds):\n",
        "    clf = DecisionTreeClassifier(max_depth=1)\n",
        "    clf.fit(x,y, sample_weight=W)\n",
        "    \n",
        "    Learner.append(clf)\n",
        "    \n",
        "    train_pred = clf.predict(x)\n",
        "    err_b = 0\n",
        "    for j in range(n):\n",
        "        if(train_pred[j]!=y[j]):\n",
        "            err_b = err_b+W[j]\n",
        "    err_b = err_b/np.sum(W)\n",
        "        \n",
        "    alpha_b = 0.5*np.log((1-err_b)/err_b)\n",
        "    \n",
        "    alpha_b_arr.append(alpha_b)\n",
        "    \n",
        "    for j in range(n):\n",
        "        W[j] = W[j]*np.exp(-y[j]*alpha_b*train_pred[j])        \n",
        "\n",
        "    yhat_boost1 = yhat_boost1+alpha_b_arr[i]*Learner[i].predict(x)\n",
        "    yhat = np.zeros(n)\n",
        "    yhat[yhat_boost1>=0]=1\n",
        "    yhat[yhat_boost1<0]=-1\n",
        "    ypre_exp[i] = ExponentialLoss(y, yhat_boost1)\n",
        "    ypre_01[i] = zero_one_loss(y,yhat)\n",
        "\n",
        "    yhat_boost2 = yhat_boost2+alpha_b_arr[i]*Learner[i].predict(x_test)\n",
        "    yhat = np.zeros(len(y_test))\n",
        "    yhat[yhat_boost2>=0]=1\n",
        "    yhat[yhat_boost2<0]=-1\n",
        "    ytest_exp[i] = ExponentialLoss(y_test, yhat_boost2)\n",
        "    ytest_01[i] = zero_one_loss(y_test,yhat)\n",
        "\n",
        "\n",
        "plt.scatter(BB, ypre_exp)\n",
        "plt.scatter(BB, ypre_01)\n",
        "plt.show()\n",
        "# plt.scatter(BB, ytest_exp)\n",
        "plt.scatter(BB, ytest_01)\n",
        "plt.show()"
      ],
      "metadata": {
        "colab": {
          "base_uri": "https://localhost:8080/",
          "height": 513
        },
        "id": "OTPOI0EZkr7b",
        "outputId": "a14c0936-39cd-47f7-c42a-7c04cc8f2047"
      },
      "execution_count": 5,
      "outputs": [
        {
          "output_type": "display_data",
          "data": {
            "text/plain": [
              "<Figure size 432x288 with 1 Axes>"
            ],
            "image/png": "[encoded data removed]"
          },
          "metadata": {
            "needs_background": "light"
          }
        },
        {
          "output_type": "display_data",
          "data": {
            "text/plain": [
              "<Figure size 432x288 with 1 Axes>"
            ],
            "image/png": "[encoded data removed]"
          },
          "metadata": {
            "needs_background": "light"
          }
        }
      ]
    },
    {
      "cell_type": "markdown",
      "source": [
        "## Compare with sklearn implement"
      ],
      "metadata": {
        "id": "7jVSMgHTSoYU"
      }
    },
    {
      "cell_type": "code",
      "source": [
        "yhat_boost3 = np.zeros(len(y))\n",
        "yhat_boost4 = np.zeros(len(y_test))\n",
        "ypre_sklearn_01 = np.zeros(BoostingRounds)\n",
        "ytest_sklearn_01 = np.zeros(BoostingRounds)\n",
        "\n",
        "for i in range(BoostingRounds):\n",
        "    clf2 = AdaBoostClassifier(n_estimators=i+1, random_state=0)\n",
        "    clf2.fit(x, y)\n",
        "    yhat_boost3 = clf2.predict(x)\n",
        "    ypre_sklearn_01[i] = zero_one_loss(y,yhat_boost3)\n",
        "\n",
        "    yhat_boost4 = clf2.predict(x_test)\n",
        "    ytest_sklearn_01[i] = zero_one_loss(y_test,yhat_boost4)\n",
        "\n",
        "plt.scatter(BB, ypre_sklearn_01)\n",
        "plt.scatter(BB, ytest_sklearn_01)\n",
        "plt.show()"
      ],
      "metadata": {
        "colab": {
          "base_uri": "https://localhost:8080/",
          "height": 265
        },
        "id": "a74sQEoWSrdI",
        "outputId": "ea16ab5a-922c-4d29-e8b7-e79b3d2c703f"
      },
      "execution_count": 6,
      "outputs": [
        {
          "output_type": "display_data",
          "data": {
            "text/plain": [
              "<Figure size 432x288 with 1 Axes>"
            ],
            "image/png": "[encoded data removed]"
          },
          "metadata": {
            "needs_background": "light"
          }
        }
      ]
    }
  ]
}
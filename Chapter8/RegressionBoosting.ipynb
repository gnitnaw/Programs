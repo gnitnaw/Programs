{
  "nbformat": 4,
  "nbformat_minor": 0,
  "metadata": {
    "colab": {
      "name": "RegressionBoosting.ipynb",
      "provenance": [],
      "collapsed_sections": [],
      "authorship_tag": "ABX9TyPObRaLW+G/vBeFucnaGaSK",
      "include_colab_link": true
    },
    "kernelspec": {
      "name": "python3",
      "display_name": "Python 3"
    },
    "language_info": {
      "name": "python"
    }
  },
  "cells": [
    {
      "cell_type": "markdown",
      "metadata": {
        "id": "view-in-github",
        "colab_type": "text"
      },
      "source": [
        "<a href=\"https://colab.research.google.com/github/gnitnaw/Programs/blob/master/Chapter8/RegressionBoosting.ipynb\" target=\"_parent\"><img src=\"https://colab.research.google.com/assets/colab-badge.svg\" alt=\"Open In Colab\"/></a>"
      ]
    },
    {
      "cell_type": "code",
      "metadata": {
        "colab": {
          "base_uri": "https://localhost:8080/"
        },
        "id": "NaWHJhVsAblT",
        "outputId": "fb9a419c-00b8-4410-cd3e-edaf0522302a"
      },
      "source": [
        "!python --version"
      ],
      "execution_count": 1,
      "outputs": [
        {
          "output_type": "stream",
          "name": "stdout",
          "text": [
            "Python 3.7.13\n"
          ]
        }
      ]
    },
    {
      "cell_type": "markdown",
      "metadata": {
        "id": "LetQC4wyAgKh"
      },
      "source": [
        "# Algorithm 8.7.1\n",
        "## Import modules"
      ]
    },
    {
      "cell_type": "code",
      "metadata": {
        "colab": {
          "base_uri": "https://localhost:8080/"
        },
        "id": "-bXKlDOvAoW5",
        "outputId": "a7d47ddc-8fba-4418-b50a-bfc07d4be3bb"
      },
      "source": [
        "import numpy as np\n",
        "from sklearn.tree import DecisionTreeRegressor, plot_tree\n",
        "from sklearn.model_selection import train_test_split\n",
        "from sklearn.datasets import make_regression\n",
        "import matplotlib.pyplot as plt\n",
        "print(np.__version__)"
      ],
      "execution_count": 2,
      "outputs": [
        {
          "output_type": "stream",
          "name": "stdout",
          "text": [
            "1.21.5\n"
          ]
        }
      ]
    },
    {
      "cell_type": "markdown",
      "metadata": {
        "id": "WmrPRrN05iIF"
      },
      "source": [
        "## Set random seed"
      ]
    },
    {
      "cell_type": "code",
      "metadata": {
        "id": "DdzVvsn_5lIf"
      },
      "source": [
        "np.random.seed(1)"
      ],
      "execution_count": 3,
      "outputs": []
    },
    {
      "cell_type": "markdown",
      "metadata": {
        "id": "KYGyiNcLBI8j"
      },
      "source": [
        "## Original Program"
      ]
    },
    {
      "cell_type": "code",
      "metadata": {
        "colab": {
          "base_uri": "https://localhost:8080/",
          "height": 513
        },
        "id": "9OGRmXk9BLh2",
        "outputId": "66ea1e3b-4e90-4cbd-fd9a-d74df2176be9"
      },
      "source": [
        "def TrainBoost(alpha,BoostingRounds,x,y):\n",
        "    g_0 = np.mean(y)\n",
        "    residuals  = y-alpha*g_0\n",
        "\n",
        "    # list of basic regressor\n",
        "    g_boost = []\n",
        "\n",
        "    for i in range(BoostingRounds):\n",
        "        h_i = DecisionTreeRegressor(max_depth=1)\n",
        "        h_i.fit(x,residuals)\n",
        "        residuals = residuals  - alpha*h_i.predict(x)\n",
        "        g_boost.append(h_i)\n",
        "\n",
        "    return g_0, g_boost\n",
        "\n",
        "def Predict(g_0, g_boost,alpha, x):\n",
        "    yhat = alpha*g_0*np.ones(len(x))\n",
        "    for j in range(len(g_boost)):\n",
        "        yhat = yhat+alpha*g_boost[j].predict(x)\n",
        "    \n",
        "    return yhat    \n",
        "\n",
        "\n",
        "sz = 30\n",
        "\n",
        "# create dataset    \n",
        "x,y = make_regression(n_samples=sz, n_features=1, n_informative=1,noise=10.0)\n",
        "  \n",
        "# boosting algorithm\n",
        "BoostingRounds = 1000\n",
        "\n",
        "alphas = [1, 0.005]\n",
        "    \n",
        "for alpha in alphas:\n",
        "    g_0, g_boost = TrainBoost(alpha,BoostingRounds,x,y)\n",
        "    yhat = Predict(g_0, g_boost, alpha, x)\n",
        "  \n",
        "    # plot        \n",
        "    tmpX =  np.reshape(np.linspace(-2.5,2,1000),(1000,1))\n",
        "    yhatX = Predict(g_0, g_boost, alpha, tmpX)\n",
        "    f = plt.figure()\n",
        "    plt.plot(x,y,'*')\n",
        "    plt.plot(tmpX,yhatX)\n",
        "    plt.show()    "
      ],
      "execution_count": 4,
      "outputs": [
        {
          "output_type": "display_data",
          "data": {
            "text/plain": [
              "<Figure size 432x288 with 1 Axes>"
            ],
            "image/png": "[encoded data removed]"
          },
          "metadata": {
            "needs_background": "light"
          }
        },
        {
          "output_type": "display_data",
          "data": {
            "text/plain": [
              "<Figure size 432x288 with 1 Axes>"
            ],
            "image/png": "[encoded data removed]"
          },
          "metadata": {
            "needs_background": "light"
          }
        }
      ]
    },
    {
      "cell_type": "markdown",
      "source": [
        "## Change boosting round"
      ],
      "metadata": {
        "id": "JSGEb-lO7UKX"
      }
    },
    {
      "cell_type": "code",
      "source": [
        "# boosting algorithm\n",
        "BoostingRounds = 15\n",
        "    \n",
        "for alpha in alphas:\n",
        "    g_0, g_boost = TrainBoost(alpha,BoostingRounds,x,y)\n",
        "    yhat = Predict(g_0, g_boost, alpha, x)\n",
        "  \n",
        "    # plot        \n",
        "    tmpX =  np.reshape(np.linspace(-2.5,2,1000),(1000,1))\n",
        "    yhatX = Predict(g_0, g_boost, alpha, tmpX)\n",
        "    f = plt.figure()\n",
        "    plt.plot(x,y,'*')\n",
        "    plt.plot(tmpX,yhatX)\n",
        "    plt.show()    "
      ],
      "metadata": {
        "colab": {
          "base_uri": "https://localhost:8080/",
          "height": 513
        },
        "id": "gr4vlKdf7YGK",
        "outputId": "6e7e6315-78e4-4cd8-ab56-7a17e5f40f0b"
      },
      "execution_count": 5,
      "outputs": [
        {
          "output_type": "display_data",
          "data": {
            "text/plain": [
              "<Figure size 432x288 with 1 Axes>"
            ],
            "image/png": "[encoded data removed]"
          },
          "metadata": {
            "needs_background": "light"
          }
        },
        {
          "output_type": "display_data",
          "data": {
            "text/plain": [
              "<Figure size 432x288 with 1 Axes>"
            ],
            "image/png": "[encoded data removed]"
          },
          "metadata": {
            "needs_background": "light"
          }
        }
      ]
    }
  ]
}
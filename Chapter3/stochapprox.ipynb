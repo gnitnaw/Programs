{
  "nbformat": 4,
  "nbformat_minor": 0,
  "metadata": {
    "colab": {
      "name": "stochapprox.ipynb",
      "provenance": [],
      "collapsed_sections": [],
      "authorship_tag": "ABX9TyO4j6AeTNHXFPIke4S+khk7",
      "include_colab_link": true
    },
    "kernelspec": {
      "name": "python3",
      "display_name": "Python 3"
    },
    "language_info": {
      "name": "python"
    }
  },
  "cells": [
    {
      "cell_type": "markdown",
      "metadata": {
        "id": "view-in-github",
        "colab_type": "text"
      },
      "source": [
        "<a href=\"https://colab.research.google.com/github/gnitnaw/Programs/blob/master/Chapter3/stochapprox.ipynb\" target=\"_parent\"><img src=\"https://colab.research.google.com/assets/colab-badge.svg\" alt=\"Open In Colab\"/></a>"
      ]
    },
    {
      "cell_type": "code",
      "metadata": {
        "colab": {
          "base_uri": "https://localhost:8080/"
        },
        "id": "NaWHJhVsAblT",
        "outputId": "8eaf3271-0a3d-4ffb-83ac-eafc878f4fb0"
      },
      "source": [
        "!python --version"
      ],
      "execution_count": 1,
      "outputs": [
        {
          "output_type": "stream",
          "name": "stdout",
          "text": [
            "Python 3.7.11\n"
          ]
        }
      ]
    },
    {
      "cell_type": "markdown",
      "metadata": {
        "id": "LetQC4wyAgKh"
      },
      "source": [
        "# Example 3.5\n",
        "## Import modules"
      ]
    },
    {
      "cell_type": "code",
      "metadata": {
        "colab": {
          "base_uri": "https://localhost:8080/"
        },
        "id": "-bXKlDOvAoW5",
        "outputId": "53c8760d-1a77-4796-c894-15045c0d3e09"
      },
      "source": [
        "import numpy as np\n",
        "from numpy import pi\n",
        "import matplotlib.pyplot as plt\n",
        "print(np.__version__)"
      ],
      "execution_count": 2,
      "outputs": [
        {
          "output_type": "stream",
          "name": "stdout",
          "text": [
            "1.19.5\n"
          ]
        }
      ]
    },
    {
      "cell_type": "markdown",
      "metadata": {
        "id": "WmrPRrN05iIF"
      },
      "source": [
        "## Set random seed"
      ]
    },
    {
      "cell_type": "code",
      "metadata": {
        "id": "DdzVvsn_5lIf"
      },
      "source": [
        "np.random.seed(120)"
      ],
      "execution_count": 3,
      "outputs": []
    },
    {
      "cell_type": "markdown",
      "metadata": {
        "id": "KYGyiNcLBI8j"
      },
      "source": [
        "## Original Program"
      ]
    },
    {
      "cell_type": "code",
      "metadata": {
        "colab": {
          "base_uri": "https://localhost:8080/",
          "height": 225
        },
        "id": "9OGRmXk9BLh2",
        "outputId": "45973b49-4c4f-414b-ad74-48f56aeb8bc0"
      },
      "source": [
        "b=100    # choose b large enough, but not too large\n",
        "delta = 0.01\n",
        "H = lambda x1, x2: (2*b)**2*np.exp(-np.sqrt(x1**2 + x2**2)/4)*(np.sin(2*np.sqrt(x1**2+x2**2)+1))*(x1**2+x2**2<b**2)\n",
        "f = 1/(2*b)**2\n",
        "g = lambda x1, x2, lam: lam*np.exp(-np.sqrt(x1**2+x2**2)*lam)/np.sqrt(x1**2+x2**2)/(2*pi)\n",
        "beta = 10**-7   #step size very small, as the gradient is large\n",
        "lam=0.25\n",
        "lams = np.array([lam])\n",
        "N=10**4\n",
        "for i in range(200):\n",
        "    x1 = -b + 2*b*np.random.rand(N,1)\n",
        "    x2 = -b + 2*b*np.random.rand(N,1)\n",
        "    lamL = lam - delta/2\n",
        "    lamR = lam + delta/2\n",
        "    estL = np.mean(H(x1,x2)**2*f/g(x1, x2, lamL))\n",
        "    estR = np.mean(H(x1,x2)**2*f/g(x1, x2, lamR))  #use SAME x1,x2\n",
        "    gr = (estR-estL)/delta  #gradient\n",
        "    lam = lam - gr*beta  #gradient descend\n",
        "    lams = np.hstack((lams, lam))\n",
        "    beta = beta*0.99\n",
        "\n",
        "# %%%%%%%%%%%%%%%%%%%%%%%%%%%%%%%%%%%%%%%%%%%%%%%%%%\n",
        "lamsize=range(0, (lams.size))    \n",
        "plt.figure(figsize=[6,3])\n",
        "plt.plot(lamsize, lams)\n",
        "plt.xlabel('steps')\n",
        "plt.ylabel(r'$\\lambda$')\n",
        "plt.tight_layout()\n",
        "plt.savefig('varmin2py.pdf',format='pdf')\n",
        "plt.show()\n",
        "# %%%%%%%%%%%%%%%%%%%%%%%%%%%%%%%%%%%%%%%%%%%%%%%%%%"
      ],
      "execution_count": 4,
      "outputs": [
        {
          "output_type": "display_data",
          "data": {
            "image/png": "[encoded data removed]",
            "text/plain": [
              "<Figure size 432x216 with 1 Axes>"
            ]
          },
          "metadata": {
            "needs_background": "light"
          }
        }
      ]
    }
  ]
}
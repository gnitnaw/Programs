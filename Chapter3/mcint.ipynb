{
  "nbformat": 4,
  "nbformat_minor": 0,
  "metadata": {
    "colab": {
      "name": "mcint.ipynb",
      "provenance": [],
      "collapsed_sections": [],
      "authorship_tag": "ABX9TyMtVZmQ+15RV8xt5ciYUKf/",
      "include_colab_link": true
    },
    "kernelspec": {
      "name": "python3",
      "display_name": "Python 3"
    },
    "language_info": {
      "name": "python"
    }
  },
  "cells": [
    {
      "cell_type": "markdown",
      "metadata": {
        "id": "view-in-github",
        "colab_type": "text"
      },
      "source": [
        "<a href=\"https://colab.research.google.com/github/gnitnaw/Programs/blob/master/Chapter3/mcint.ipynb\" target=\"_parent\"><img src=\"https://colab.research.google.com/assets/colab-badge.svg\" alt=\"Open In Colab\"/></a>"
      ]
    },
    {
      "cell_type": "code",
      "metadata": {
        "colab": {
          "base_uri": "https://localhost:8080/"
        },
        "id": "NaWHJhVsAblT",
        "outputId": "fad1eb29-ec7b-486c-921d-8d4f5fbab95e"
      },
      "source": [
        "!python --version"
      ],
      "execution_count": 1,
      "outputs": [
        {
          "output_type": "stream",
          "text": [
            "Python 3.7.11\n"
          ],
          "name": "stdout"
        }
      ]
    },
    {
      "cell_type": "markdown",
      "metadata": {
        "id": "LetQC4wyAgKh"
      },
      "source": [
        "# Example 3.5\n",
        "## Import modules"
      ]
    },
    {
      "cell_type": "code",
      "metadata": {
        "colab": {
          "base_uri": "https://localhost:8080/"
        },
        "id": "-bXKlDOvAoW5",
        "outputId": "03012b4c-4943-49ef-9859-a459db21a9e6"
      },
      "source": [
        "import numpy as np\n",
        "from numpy import pi\n",
        "import matplotlib.pyplot as plt\n",
        "print(np.__version__)"
      ],
      "execution_count": 2,
      "outputs": [
        {
          "output_type": "stream",
          "text": [
            "1.19.5\n"
          ],
          "name": "stdout"
        }
      ]
    },
    {
      "cell_type": "markdown",
      "metadata": {
        "id": "WmrPRrN05iIF"
      },
      "source": [
        "## Set random seed"
      ]
    },
    {
      "cell_type": "code",
      "metadata": {
        "id": "DdzVvsn_5lIf"
      },
      "source": [
        "np.random.seed(200)"
      ],
      "execution_count": 3,
      "outputs": []
    },
    {
      "cell_type": "markdown",
      "metadata": {
        "id": "KYGyiNcLBI8j"
      },
      "source": [
        "## Original Program"
      ]
    },
    {
      "cell_type": "code",
      "metadata": {
        "colab": {
          "base_uri": "https://localhost:8080/"
        },
        "id": "9OGRmXk9BLh2",
        "outputId": "b3e4af4c-884d-4b59-c1e6-178300b06708"
      },
      "source": [
        "c = (2*pi)**(3/2)\n",
        "H = lambda x: c*np.sqrt(np.abs(np.sum(x,axis=1)))\n",
        "N = 10**6\n",
        "z = 1.96 # 95%CL = +-1.96 sigma \n",
        "x = np.random.randn(N,3)\n",
        "y = H(x)\n",
        "\n",
        "mY = np.mean(y)\n",
        "sY = np.std(y)\n",
        "RE = sY/mY/np.sqrt(N)\n",
        "print('Estimate = {:3.3f}, CI = ({:3.3f},{:3.3f})'.format(\n",
        "        mY, mY*(1-z*RE), mY*(1+z*RE)))   "
      ],
      "execution_count": 4,
      "outputs": [
        {
          "output_type": "stream",
          "text": [
            "Estimate = 17.046, CI = (17.032,17.060)\n"
          ],
          "name": "stdout"
        }
      ]
    },
    {
      "cell_type": "markdown",
      "metadata": {
        "id": "j8T_jAVSqz3j"
      },
      "source": [
        "## mcintCV (Example 3.13) original code"
      ]
    },
    {
      "cell_type": "code",
      "metadata": {
        "colab": {
          "base_uri": "https://localhost:8080/"
        },
        "id": "75j9a2Uqq7sm",
        "outputId": "afeffb83-a420-4809-ab83-abc2f3a87735"
      },
      "source": [
        "Yc = np.sum(x**2, axis=1) # control variable data\n",
        "yc = 3  # true expectation of control variable\n",
        "C = np.cov(y,Yc) # sample covariance matrix\n",
        "cor = C[0][1]/np.sqrt(C[0][0]*C[1][1])\n",
        "alpha = C[0][1]/C[1][1]\n",
        "\n",
        "est = np.mean(y-alpha*(Yc-yc))\n",
        "RECV = np.sqrt((1-cor**2)*C[0][0]/N)/est  #relative error\n",
        "\n",
        "print('Estimate = {:3.3f}, CI = ({:3.3f},{:3.3f}), Corr = {:3.3f}'.\n",
        "      format(est, est*(1-z*RECV), est*(1+z*RECV),cor))   \n"
      ],
      "execution_count": 5,
      "outputs": [
        {
          "output_type": "stream",
          "text": [
            "Estimate = 17.047, CI = (17.035,17.059), Corr = 0.483\n"
          ],
          "name": "stdout"
        }
      ]
    },
    {
      "cell_type": "markdown",
      "metadata": {
        "id": "4kGrtX9_tgva"
      },
      "source": [
        "## Test using another way"
      ]
    },
    {
      "cell_type": "code",
      "metadata": {
        "colab": {
          "base_uri": "https://localhost:8080/"
        },
        "id": "UhkU58nXt3FU",
        "outputId": "63b0a460-3fff-4eb0-9031-e5db7ca2c2ee"
      },
      "source": [
        "range_start = -3*z\n",
        "range_end = 3*z\n",
        "N = 600\n",
        "space = (range_end-range_start)/N \n",
        "\n",
        "F = lambda x: np.sqrt(np.abs(np.sum(x)))*np.exp(-0.5*(x[0]**2+x[1]**2+x[2]**2))\n",
        "\n",
        "sum_int = 0.0\n",
        "x1 = range_start\n",
        "for i in range(N):\n",
        "  x2 = range_start\n",
        "  for j in range(N):\n",
        "    x3 = range_start\n",
        "    for k in range(N):\n",
        "      sum_int += F(np.array([x1, x2, x3]))\n",
        "      x3 += space\n",
        "    x2 += space\n",
        "  x1 += space \n",
        "\n",
        "print(sum_int * space**3)"
      ],
      "execution_count": 6,
      "outputs": [
        {
          "output_type": "stream",
          "text": [
            "17.037700515219594\n"
          ],
          "name": "stdout"
        }
      ]
    }
  ]
}
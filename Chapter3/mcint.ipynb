{
  "nbformat": 4,
  "nbformat_minor": 0,
  "metadata": {
    "colab": {
      "name": "mcint.ipynb",
      "provenance": [],
      "collapsed_sections": [],
      "authorship_tag": "ABX9TyO90gOk7p2ZItvE/cwcmRUx",
      "include_colab_link": true
    },
    "kernelspec": {
      "name": "python3",
      "display_name": "Python 3"
    },
    "language_info": {
      "name": "python"
    }
  },
  "cells": [
    {
      "cell_type": "markdown",
      "metadata": {
        "id": "view-in-github",
        "colab_type": "text"
      },
      "source": [
        "<a href=\"https://colab.research.google.com/github/gnitnaw/Programs/blob/master/Chapter3/mcint.ipynb\" target=\"_parent\"><img src=\"https://colab.research.google.com/assets/colab-badge.svg\" alt=\"Open In Colab\"/></a>"
      ]
    },
    {
      "cell_type": "code",
      "metadata": {
        "colab": {
          "base_uri": "https://localhost:8080/"
        },
        "id": "NaWHJhVsAblT",
        "outputId": "2ccf9dad-c5fd-45fc-dc85-befee4076e64"
      },
      "source": [
        "!python --version"
      ],
      "execution_count": 50,
      "outputs": [
        {
          "output_type": "stream",
          "text": [
            "Python 3.7.11\n"
          ],
          "name": "stdout"
        }
      ]
    },
    {
      "cell_type": "markdown",
      "metadata": {
        "id": "LetQC4wyAgKh"
      },
      "source": [
        "# Example 3.5\n",
        "## Import modules"
      ]
    },
    {
      "cell_type": "code",
      "metadata": {
        "colab": {
          "base_uri": "https://localhost:8080/"
        },
        "id": "-bXKlDOvAoW5",
        "outputId": "6c01e1c0-183a-4857-a503-db58f001b8a0"
      },
      "source": [
        "import numpy as np\n",
        "from numpy import pi\n",
        "import matplotlib.pyplot as plt\n",
        "print(np.__version__)"
      ],
      "execution_count": 51,
      "outputs": [
        {
          "output_type": "stream",
          "text": [
            "1.19.5\n"
          ],
          "name": "stdout"
        }
      ]
    },
    {
      "cell_type": "markdown",
      "metadata": {
        "id": "WmrPRrN05iIF"
      },
      "source": [
        "## Set random seed"
      ]
    },
    {
      "cell_type": "code",
      "metadata": {
        "id": "DdzVvsn_5lIf"
      },
      "source": [
        "np.random.seed(200)"
      ],
      "execution_count": 52,
      "outputs": []
    },
    {
      "cell_type": "markdown",
      "metadata": {
        "id": "KYGyiNcLBI8j"
      },
      "source": [
        "## Original Program"
      ]
    },
    {
      "cell_type": "code",
      "metadata": {
        "colab": {
          "base_uri": "https://localhost:8080/"
        },
        "id": "9OGRmXk9BLh2",
        "outputId": "a091e97c-c52a-4fb8-9db4-5a1be5849dcf"
      },
      "source": [
        "c = (2*pi)**(3/2)\n",
        "H = lambda x: c*np.sqrt(np.abs(np.sum(x,axis=1)))\n",
        "N = 10**6\n",
        "z = 1.96 # 95%CL = +-1.96 sigma \n",
        "x = np.random.randn(N,3)\n",
        "y = H(x)\n",
        "print(y)\n",
        "mY = np.mean(y)\n",
        "sY = np.std(y)\n",
        "RE = sY/mY/np.sqrt(N)\n",
        "print('Estimate = {:3.3f}, CI = ({:3.3f},{:3.3f})'.format(\n",
        "        mY, mY*(1-z*RE), mY*(1+z*RE)))   "
      ],
      "execution_count": 53,
      "outputs": [
        {
          "output_type": "stream",
          "text": [
            "[17.04951864  4.47627845 10.39986369 ... 18.23607586  2.91027128\n",
            " 20.8656875 ]\n",
            "Estimate = 17.046, CI = (17.032,17.060)\n"
          ],
          "name": "stdout"
        }
      ]
    },
    {
      "cell_type": "markdown",
      "metadata": {
        "id": "4kGrtX9_tgva"
      },
      "source": [
        "## Test using another way"
      ]
    },
    {
      "cell_type": "code",
      "metadata": {
        "colab": {
          "base_uri": "https://localhost:8080/"
        },
        "id": "UhkU58nXt3FU",
        "outputId": "23306420-1b51-4cff-9bc2-19a7a1a64fc3"
      },
      "source": [
        "range_start = -3*z\n",
        "range_end = 3*z\n",
        "N = 600\n",
        "space = (range_end-range_start)/N \n",
        "\n",
        "F = lambda x: np.sqrt(np.abs(np.sum(x)))*np.exp(-0.5*(x[0]**2+x[1]**2+x[2]**2))\n",
        "\n",
        "sum_int = 0.0\n",
        "x1 = range_start\n",
        "for i in range(N):\n",
        "  x2 = range_start\n",
        "  for j in range(N):\n",
        "    x3 = range_start\n",
        "    for k in range(N):\n",
        "      sum_int += F(np.array([x1, x2, x3]))\n",
        "      x3 += space\n",
        "    x2 += space\n",
        "  x1 += space \n",
        "\n",
        "print(sum_int * space**3)"
      ],
      "execution_count": 54,
      "outputs": [
        {
          "output_type": "stream",
          "text": [
            "17.037700515219594\n"
          ],
          "name": "stdout"
        }
      ]
    }
  ]
}
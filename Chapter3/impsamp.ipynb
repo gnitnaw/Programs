{
  "nbformat": 4,
  "nbformat_minor": 0,
  "metadata": {
    "colab": {
      "name": "impsamp.ipynb",
      "provenance": [],
      "collapsed_sections": [],
      "authorship_tag": "ABX9TyNJwoiwc8RfoNwPfV/k+1ru",
      "include_colab_link": true
    },
    "kernelspec": {
      "name": "python3",
      "display_name": "Python 3"
    },
    "language_info": {
      "name": "python"
    }
  },
  "cells": [
    {
      "cell_type": "markdown",
      "metadata": {
        "id": "view-in-github",
        "colab_type": "text"
      },
      "source": [
        "<a href=\"https://colab.research.google.com/github/gnitnaw/Programs/blob/master/Chapter3/impsamp.ipynb\" target=\"_parent\"><img src=\"https://colab.research.google.com/assets/colab-badge.svg\" alt=\"Open In Colab\"/></a>"
      ]
    },
    {
      "cell_type": "code",
      "metadata": {
        "colab": {
          "base_uri": "https://localhost:8080/"
        },
        "id": "NaWHJhVsAblT",
        "outputId": "bcd5dbbf-541b-4193-ea13-8dda0409906d"
      },
      "source": [
        "!python --version"
      ],
      "execution_count": 1,
      "outputs": [
        {
          "output_type": "stream",
          "text": [
            "Python 3.7.11\n"
          ],
          "name": "stdout"
        }
      ]
    },
    {
      "cell_type": "markdown",
      "metadata": {
        "id": "LetQC4wyAgKh"
      },
      "source": [
        "# Example 3.5\n",
        "## Import modules"
      ]
    },
    {
      "cell_type": "code",
      "metadata": {
        "colab": {
          "base_uri": "https://localhost:8080/"
        },
        "id": "-bXKlDOvAoW5",
        "outputId": "cde456e6-aa62-4e7a-c39b-0b647c218769"
      },
      "source": [
        "import numpy as np\n",
        "from numpy import exp, sqrt, sin, pi, log, cos\n",
        "from numpy.random import rand\n",
        "import seaborn as sns\n",
        "import matplotlib.pyplot as plt\n",
        "print(np.__version__)"
      ],
      "execution_count": 2,
      "outputs": [
        {
          "output_type": "stream",
          "text": [
            "1.19.5\n"
          ],
          "name": "stdout"
        }
      ]
    },
    {
      "cell_type": "markdown",
      "metadata": {
        "id": "WmrPRrN05iIF"
      },
      "source": [
        "## Set random seed"
      ]
    },
    {
      "cell_type": "code",
      "metadata": {
        "id": "DdzVvsn_5lIf"
      },
      "source": [
        "np.random.seed(90)"
      ],
      "execution_count": 3,
      "outputs": []
    },
    {
      "cell_type": "markdown",
      "metadata": {
        "id": "KYGyiNcLBI8j"
      },
      "source": [
        "## Original Program of impsamp.py"
      ]
    },
    {
      "cell_type": "code",
      "metadata": {
        "colab": {
          "base_uri": "https://localhost:8080/"
        },
        "id": "9OGRmXk9BLh2",
        "outputId": "03ffabaa-2954-4710-b0c8-d826b7dc389c"
      },
      "source": [
        "b = 1000\n",
        "H = lambda x1, x2: (2*b)**2 * exp(-sqrt(x1**2+x2**2)/4)*(sin(2*sqrt(\n",
        "        x1**2+x2**2))+1)*(x1**2 + x2**2 < b**2)\n",
        "f = 1/((2*b)**2)\n",
        "N = 10**6\n",
        "X1 = -b + 2*b*rand(N,1)\n",
        "X2 = -b + 2*b*rand(N,1)\n",
        "Z = H(X1,X2)\n",
        "estCMC = np.mean(Z).item()\n",
        "RECMC = np.std(Z)/estCMC/sqrt(N).item()\n",
        "print('CI = ({:3.3f},{:3.3f}), RE = {: 3.3f}'.format(estCMC*(1-1.96*RECMC), estCMC*(1+1.96*RECMC),RECMC))\n"
      ],
      "execution_count": 4,
      "outputs": [
        {
          "output_type": "stream",
          "text": [
            "CI = (68.950,107.504), RE =  0.111\n"
          ],
          "name": "stdout"
        }
      ]
    },
    {
      "cell_type": "markdown",
      "metadata": {
        "id": "cQ-HRcuEFYOB"
      },
      "source": [
        "## Verify the scattering"
      ]
    },
    {
      "cell_type": "code",
      "metadata": {
        "colab": {
          "base_uri": "https://localhost:8080/",
          "height": 543
        },
        "id": "rj0KAidvWczW",
        "outputId": "ae105b32-0fad-4414-93f0-268d7e8be470"
      },
      "source": [
        "XX = X1**2 + X2**2\n",
        "A = (2*b)**2*(900**2 + 600**2 < b**2)\n",
        "\n",
        "H2 = lambda x1, x2: (2*b)**2 * exp(-sqrt(x1**2+x2**2)/4)*(sin(2*sqrt(\n",
        "        x1**2+x2**2))+1)\n",
        "Z2 = H2(X1,X2)\n",
        "\n",
        "plt.scatter(XX, Z, alpha =0.4,s =2)\n",
        "plt.xscale(\"log\")\n",
        "plt.show()\n",
        "\n",
        "plt.scatter(XX, Z2, alpha =0.4,s =2)\n",
        "plt.xscale(\"log\")\n",
        "plt.show()\n"
      ],
      "execution_count": 5,
      "outputs": [
        {
          "output_type": "display_data",
          "data": {
            "image/png": "[encoded data removed]",
            "text/plain": [
              "<Figure size 432x288 with 1 Axes>"
            ]
          },
          "metadata": {
            "needs_background": "light"
          }
        },
        {
          "output_type": "display_data",
          "data": {
            "image/png": "[encoded data removed]",
            "text/plain": [
              "<Figure size 432x288 with 1 Axes>"
            ]
          },
          "metadata": {
            "needs_background": "light"
          }
        }
      ]
    },
    {
      "cell_type": "markdown",
      "metadata": {
        "id": "_DvecZnPYMka"
      },
      "source": [
        "## Original program of impsamp2.py"
      ]
    },
    {
      "cell_type": "code",
      "metadata": {
        "colab": {
          "base_uri": "https://localhost:8080/"
        },
        "id": "HQIcTOLOYSQS",
        "outputId": "92d5d135-53c2-43d3-eff5-b067ac29732f"
      },
      "source": [
        "lam = 0.1;\n",
        "g = lambda x1, x2: lam*exp(-sqrt(x1**2 + x2**2)*lam)/sqrt(x1**2 + x2**2)/(2*pi);\n",
        "U = rand(N,1); V = rand(N,1)\n",
        "R = -log(U)/lam\n",
        "X1 = R*cos(2*pi*V)\n",
        "X2 = R*sin(2*pi*V)\n",
        "Z = H(X1,X2)*f/g(X1,X2)\n",
        "estIS = np.mean(Z).item()  # obtain scalar\n",
        "REIS = np.std(Z)/estIS/sqrt(N).item()\n",
        "print('CI = ({:3.3f},{:3.3f}), RE = {: 3.3f}'.format(estIS*(1-1.96*REIS), estIS*(1+1.96*REIS),REIS))"
      ],
      "execution_count": 6,
      "outputs": [
        {
          "output_type": "stream",
          "text": [
            "CI = (100.646,101.000), RE =  0.001\n"
          ],
          "name": "stdout"
        }
      ]
    },
    {
      "cell_type": "markdown",
      "metadata": {
        "id": "tpz0aNYCF1mT"
      },
      "source": [
        "## Verify the scattering"
      ]
    },
    {
      "cell_type": "code",
      "metadata": {
        "colab": {
          "base_uri": "https://localhost:8080/",
          "height": 269
        },
        "id": "icGGYmZ2F6Fd",
        "outputId": "f1c19b13-0714-4497-b607-fe7b58d64efd"
      },
      "source": [
        "XX = X1**2 + X2**2\n",
        "\n",
        "H2 = lambda x1, x2: (2*b)**2 * exp(-sqrt(x1**2+x2**2)/4)*(sin(2*sqrt(\n",
        "        x1**2+x2**2))+1)\n",
        "\n",
        "plt.scatter(XX, Z, alpha =0.4,s =2)\n",
        "plt.xscale(\"log\")\n",
        "plt.show()"
      ],
      "execution_count": 7,
      "outputs": [
        {
          "output_type": "display_data",
          "data": {
            "image/png": "[encoded data removed]",
            "text/plain": [
              "<Figure size 432x288 with 1 Axes>"
            ]
          },
          "metadata": {
            "needs_background": "light"
          }
        }
      ]
    }
  ]
}
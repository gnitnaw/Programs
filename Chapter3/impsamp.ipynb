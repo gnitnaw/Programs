{
  "nbformat": 4,
  "nbformat_minor": 0,
  "metadata": {
    "colab": {
      "name": "impsamp.ipynb",
      "provenance": [],
      "collapsed_sections": [],
      "authorship_tag": "ABX9TyOThxkbBU9i6vAr55oVUhMK",
      "include_colab_link": true
    },
    "kernelspec": {
      "name": "python3",
      "display_name": "Python 3"
    },
    "language_info": {
      "name": "python"
    }
  },
  "cells": [
    {
      "cell_type": "markdown",
      "metadata": {
        "id": "view-in-github",
        "colab_type": "text"
      },
      "source": [
        "<a href=\"https://colab.research.google.com/github/gnitnaw/Programs/blob/master/Chapter3/impsamp.ipynb\" target=\"_parent\"><img src=\"https://colab.research.google.com/assets/colab-badge.svg\" alt=\"Open In Colab\"/></a>"
      ]
    },
    {
      "cell_type": "code",
      "metadata": {
        "colab": {
          "base_uri": "https://localhost:8080/"
        },
        "id": "NaWHJhVsAblT",
        "outputId": "08192e90-a9af-4f67-9a7f-8eee83d8d0d9"
      },
      "source": [
        "!python --version"
      ],
      "execution_count": 1,
      "outputs": [
        {
          "output_type": "stream",
          "text": [
            "Python 3.7.11\n"
          ],
          "name": "stdout"
        }
      ]
    },
    {
      "cell_type": "markdown",
      "metadata": {
        "id": "LetQC4wyAgKh"
      },
      "source": [
        "# Example 3.5\n",
        "## Import modules"
      ]
    },
    {
      "cell_type": "code",
      "metadata": {
        "colab": {
          "base_uri": "https://localhost:8080/"
        },
        "id": "-bXKlDOvAoW5",
        "outputId": "57515778-6a8a-4949-ec6f-d106d7327eee"
      },
      "source": [
        "import numpy as np\n",
        "from numpy import exp, sqrt, sin, pi, log, cos\n",
        "from numpy.random import rand\n",
        "import seaborn as sns\n",
        "import matplotlib.pyplot as plt\n",
        "print(np.__version__)"
      ],
      "execution_count": 2,
      "outputs": [
        {
          "output_type": "stream",
          "text": [
            "1.19.5\n"
          ],
          "name": "stdout"
        }
      ]
    },
    {
      "cell_type": "markdown",
      "metadata": {
        "id": "WmrPRrN05iIF"
      },
      "source": [
        "## Set random seed"
      ]
    },
    {
      "cell_type": "code",
      "metadata": {
        "id": "DdzVvsn_5lIf"
      },
      "source": [
        "np.random.seed(90)"
      ],
      "execution_count": 3,
      "outputs": []
    },
    {
      "cell_type": "markdown",
      "metadata": {
        "id": "KYGyiNcLBI8j"
      },
      "source": [
        "## Original Program"
      ]
    },
    {
      "cell_type": "code",
      "metadata": {
        "colab": {
          "base_uri": "https://localhost:8080/"
        },
        "id": "9OGRmXk9BLh2",
        "outputId": "a1e04f01-1230-498d-f9fa-285f3ba0ad93"
      },
      "source": [
        "b = 1000\n",
        "H = lambda x1, x2: (2*b)**2 * exp(-sqrt(x1**2+x2**2)/4)*(sin(2*sqrt(\n",
        "        x1**2+x2**2))+1)*(x1**2 + x2**2 < b**2)\n",
        "f = 1/((2*b)**2)\n",
        "N = 10**6\n",
        "X1 = -b + 2*b*rand(N,1)\n",
        "X2 = -b + 2*b*rand(N,1)\n",
        "Z = H(X1,X2)\n",
        "estCMC = np.mean(Z).item()\n",
        "RECMC = np.std(Z)/estCMC/sqrt(N).item()\n",
        "print('CI = ({:3.3f},{:3.3f}), RE = {: 3.3f}'.format(estCMC*(1-1.96*RECMC), estCMC*(1+1.96*RECMC),RECMC))\n"
      ],
      "execution_count": 4,
      "outputs": [
        {
          "output_type": "stream",
          "text": [
            "CI = (68.950,107.504), RE =  0.111\n"
          ],
          "name": "stdout"
        }
      ]
    },
    {
      "cell_type": "code",
      "metadata": {
        "colab": {
          "base_uri": "https://localhost:8080/",
          "height": 273
        },
        "id": "rj0KAidvWczW",
        "outputId": "32754700-2041-4ae6-b2ba-72417b222d1f"
      },
      "source": [
        "XX = X1**2 + X2**2\n",
        "A = (2*b)**2*(900**2 + 600**2 < b**2)\n",
        "\n",
        "H2 = lambda x1, x2: (2*b)**2 * exp(-sqrt(x1**2+x2**2)/4)*(sin(2*sqrt(\n",
        "        x1**2+x2**2))+1)\n",
        "Z2 = H2(X1,X2)\n",
        "\n",
        "plt.scatter(XX, Z2, alpha =0.4,s =2)\n",
        "plt.scatter(XX, Z, alpha =0.4,s =2)\n",
        "plt.xscale(\"log\")\n",
        "plt.xlim(10**3, 10**6)\n",
        "plt.ylim(0, 1)\n",
        "plt.show()\n"
      ],
      "execution_count": 5,
      "outputs": [
        {
          "output_type": "display_data",
          "data": {
            "image/png": "[encoded data removed]",
            "text/plain": [
              "<Figure size 432x288 with 1 Axes>"
            ]
          },
          "metadata": {
            "needs_background": "light"
          }
        }
      ]
    },
    {
      "cell_type": "markdown",
      "metadata": {
        "id": "_DvecZnPYMka"
      },
      "source": [
        "## Original program of impsamp2.py"
      ]
    },
    {
      "cell_type": "code",
      "metadata": {
        "colab": {
          "base_uri": "https://localhost:8080/"
        },
        "id": "HQIcTOLOYSQS",
        "outputId": "dab134f4-08db-47e1-f45c-35e5112fdccf"
      },
      "source": [
        "lam = 0.1;\n",
        "g = lambda x1, x2: lam*exp(-sqrt(x1**2 + x2**2)*lam)/sqrt(x1**2 + x2**2)/(2*pi);\n",
        "U = rand(N,1); V = rand(N,1)\n",
        "R = -log(U)/lam\n",
        "X1 = R*cos(2*pi*V)\n",
        "X2 = R*sin(2*pi*V)\n",
        "Z = H(X1,X2)*f/g(X1,X2)\n",
        "estIS = np.mean(Z).item()  # obtain scalar\n",
        "REIS = np.std(Z)/estIS/sqrt(N).item()\n",
        "print('CI = ({:3.3f},{:3.3f}), RE = {: 3.3f}'.format(estIS*(1-1.96*REIS), estIS*(1+1.96*REIS),REIS))"
      ],
      "execution_count": 6,
      "outputs": [
        {
          "output_type": "stream",
          "text": [
            "CI = (100.646,101.000), RE =  0.001\n"
          ],
          "name": "stdout"
        }
      ]
    }
  ]
}
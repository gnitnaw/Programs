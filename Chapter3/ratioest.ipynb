{
  "nbformat": 4,
  "nbformat_minor": 0,
  "metadata": {
    "colab": {
      "name": "ratioest.ipynb",
      "provenance": [],
      "collapsed_sections": [],
      "authorship_tag": "ABX9TyPnkyb+EhRPYSL6rWw9DQR+",
      "include_colab_link": true
    },
    "kernelspec": {
      "name": "python3",
      "display_name": "Python 3"
    },
    "language_info": {
      "name": "python"
    }
  },
  "cells": [
    {
      "cell_type": "markdown",
      "metadata": {
        "id": "view-in-github",
        "colab_type": "text"
      },
      "source": [
        "<a href=\"https://colab.research.google.com/github/gnitnaw/Programs/blob/master/Chapter3/ratioest.ipynb\" target=\"_parent\"><img src=\"https://colab.research.google.com/assets/colab-badge.svg\" alt=\"Open In Colab\"/></a>"
      ]
    },
    {
      "cell_type": "code",
      "metadata": {
        "colab": {
          "base_uri": "https://localhost:8080/"
        },
        "id": "NaWHJhVsAblT",
        "outputId": "880ec955-d0aa-42ac-8681-368d18c62c6c"
      },
      "source": [
        "!python --version"
      ],
      "execution_count": 10,
      "outputs": [
        {
          "output_type": "stream",
          "text": [
            "Python 3.7.11\n"
          ],
          "name": "stdout"
        }
      ]
    },
    {
      "cell_type": "markdown",
      "metadata": {
        "id": "LetQC4wyAgKh"
      },
      "source": [
        "# Example 3.5\n",
        "## Import modules"
      ]
    },
    {
      "cell_type": "code",
      "metadata": {
        "colab": {
          "base_uri": "https://localhost:8080/"
        },
        "id": "-bXKlDOvAoW5",
        "outputId": "bc90bee9-f2ba-49f0-80e5-0ab3e6c70d58"
      },
      "source": [
        "import numpy as np\n",
        "import matplotlib.pyplot as plt\n",
        "import seaborn as sns\n",
        "from numba import jit\n",
        "from collections import Counter\n",
        "print(np.__version__)"
      ],
      "execution_count": 11,
      "outputs": [
        {
          "output_type": "stream",
          "text": [
            "1.19.5\n"
          ],
          "name": "stdout"
        }
      ]
    },
    {
      "cell_type": "markdown",
      "metadata": {
        "id": "WmrPRrN05iIF"
      },
      "source": [
        "## Set random seed"
      ]
    },
    {
      "cell_type": "code",
      "metadata": {
        "id": "DdzVvsn_5lIf"
      },
      "source": [
        "np.random.seed(123)"
      ],
      "execution_count": 12,
      "outputs": []
    },
    {
      "cell_type": "markdown",
      "metadata": {
        "id": "KYGyiNcLBI8j"
      },
      "source": [
        "## Original Program"
      ]
    },
    {
      "cell_type": "code",
      "metadata": {
        "colab": {
          "base_uri": "https://localhost:8080/",
          "height": 541
        },
        "id": "9OGRmXk9BLh2",
        "outputId": "7b837ef7-7256-4557-d610-31fa7e25d19d"
      },
      "source": [
        "n = 1000\n",
        "P = np.array([[0, 0.2, 0.5, 0.3],\n",
        "              [0.5 ,0, 0.5, 0],\n",
        "              [0.3, 0.7, 0, 0],\n",
        "              [0.1, 0, 0, 0.9]])\n",
        "r = np.array([4,3,10,1])  ## reward\n",
        "Corg = np.array(np.zeros((n,1)))\n",
        "Rorg = np.array(np.zeros((n,1)))\n",
        "rho=0.9\n",
        "\n",
        "## Add by WT\n",
        "datapoint = []\n",
        "## End of Add\n",
        "\n",
        "#@jit()\n",
        "def generate_cyclereward(n):\n",
        "   for i in range(n):\n",
        "       t=1\n",
        "       xreg = 1   #regenerative state  (out of 1,2,3,4)\n",
        "       reward = r[0]\n",
        "       x= np.amin(np.argwhere(np.cumsum(P[xreg-1,:]) > np.random.rand())) + 1\n",
        "       while x != xreg:\n",
        "           t += 1\n",
        "           reward += rho**(t-1)*r[x-1]\n",
        "           x = np.amin(np.where(np.cumsum(P[x-1,:]) > np.random.rand())) + 1\n",
        "       Corg[i] = t\n",
        "       Rorg[i] = reward\n",
        "       ## Add by WT\n",
        "       datapoint.append((t,reward))\n",
        "       ## End of Add\n",
        "\n",
        "   return Corg, Rorg\n",
        "\n",
        "#n=1000\n",
        "Corg, Rorg = generate_cyclereward(n)\n",
        "\n",
        "plt.plot(Corg,Rorg,'.')\n",
        "plt.show()\n",
        "\n",
        "Aorg = np.mean(Rorg)/np.mean(Corg)\n",
        "K = 5000\n",
        "A = np.array(np.zeros((K,1)))\n",
        "C = np.array(np.zeros((n,1)))\n",
        "R = np.array(np.zeros((n,1)))\n",
        "for i in range(K):\n",
        "    ind = np.ceil(n*np.random.rand(1,n)).astype(int)[0]-1\n",
        "    C = Corg[ind]\n",
        "    R = Rorg[ind]\n",
        "    A[i] = np.mean(R)/np.mean(C)\n",
        "\n",
        "# %%%%%%%%%%%%%%%%%%%%%%%%%%%%%%%%%%%%%%%%%%%%%%%%%%%%%%%%%%\n",
        "plt.tight_layout()\n",
        "plt.xlabel('long-run average reward')\n",
        "plt.ylabel('density')\n",
        "plt.tight_layout()\n",
        "plt.savefig('MSErepeatpy.pdf',format='pdf')\n",
        "sns.kdeplot(A.flatten(),shade=True)   \n",
        "plt.savefig('CRresamplingpy.pdf',format='pdf')\n",
        "plt.show()\n",
        "# %%%%%%%%%%%%%%%%%%%%%%%%%%%%%%%%%%%%%%%%%%%%%%%%%%%%%%%%%%"
      ],
      "execution_count": 13,
      "outputs": [
        {
          "output_type": "display_data",
          "data": {
            "image/png": "[encoded data removed]",
            "text/plain": [
              "<Figure size 432x288 with 1 Axes>"
            ]
          },
          "metadata": {
            "tags": [],
            "needs_background": "light"
          }
        },
        {
          "output_type": "display_data",
          "data": {
            "image/png": "[encoded data removed]",
            "text/plain": [
              "<Figure size 432x288 with 1 Axes>"
            ]
          },
          "metadata": {
            "tags": [],
            "needs_background": "light"
          }
        }
      ]
    },
    {
      "cell_type": "markdown",
      "metadata": {
        "id": "5VRCoOQlI4cb"
      },
      "source": [
        "## Reproduce Figure 3.8"
      ]
    },
    {
      "cell_type": "code",
      "metadata": {
        "colab": {
          "base_uri": "https://localhost:8080/",
          "height": 368
        },
        "id": "jtS5ngIzgbCw",
        "outputId": "43baecad-4c63-4e37-afac-3d61ac514a03"
      },
      "source": [
        "c = Counter(datapoint)\n",
        "mostcommon = c.most_common(500)\n",
        "\n",
        "xx = []\n",
        "yy = []\n",
        "zz = []\n",
        "radius = 6  # Set the size of circle\n",
        "for i in range(59) :\n",
        "  xx.append(mostcommon[i][0][0])\n",
        "  yy.append(mostcommon[i][0][1])\n",
        "  zz.append(mostcommon[i][1]*radius)\n",
        "\n",
        "print(c)\n",
        "print(mostcommon[1][1])\n",
        "#s = [10*4**n for n in range(len(x))]\n",
        "plt.scatter(xx,yy,s=zz,c='', edgecolors='b')\n",
        "plt.xlabel('Cycle length')\n",
        "plt.ylabel('Reward')\n",
        "plt.show()"
      ],
      "execution_count": 14,
      "outputs": [
        {
          "output_type": "stream",
          "text": [
            "Counter({(3, 15.43): 186, (2, 13.0): 151, (2, 6.7): 102, (5, 24.688299999999998): 52, (4, 22.72): 52, (4, 16.987000000000002): 38, (4, 6.439000000000001): 34, (3, 5.710000000000001): 33, (3, 14.8): 30, (5, 7.095100000000001): 29, (2, 4.9): 27, (6, 25.319470000000003): 18, (11, 9.861894039100003): 18, (7, 8.217031000000002): 17, (7, 32.187523): 15, (6, 7.685590000000001): 15, (14, 10.712320754503905): 14, (9, 9.125795110000002): 14, (10, 9.513215599000002): 12, (6, 30.5932): 11, (20, 11.784233454094315): 9, (15, 10.941088679053514): 9, (8, 8.695327900000002): 9, (16, 11.146979811148164): 8, (9, 38.26189363): 8, (13, 10.458134171671004): 7, (5, 23.548000000000002): 6, (12, 10.175704635190003): 6, (19, 11.649148282327015): 6, (18, 11.499053647030015): 5, (29, 12.528987130275382): 4, (17, 11.332281830033349): 4, (24, 12.202335569231282): 4, (26, 12.35389181107734): 3, (13, 47.167528410643): 3, (12, 46.3202398012): 3, (23, 12.113706188034758): 3, (33, 12.690968456173682): 3, (25, 12.282102012308155): 3, (27, 12.418502629969606): 2, (21, 11.905810108684884): 2, (22, 12.015229097816396): 2, (8, 32.0687707): 2, (10, 42.136098520000004): 2, (11, 43.182133840300004): 2, (8, 36.970492): 2, (28, 12.476652366972646): 2, (7, 30.633880000000005): 2, (10, 37.53570426700001): 1, (43, 12.892247363356947): 1, (39, 12.8357679673174): 1, (67, 12.991404955442835): 1, (31, 12.618479575523061): 1, (30, 12.576088417247846): 1, (15, 50.395698012620834): 1, (42, 12.880274848174386): 1, (36, 12.774716004550616): 1, (52, 12.958254420820712): 1, (41, 12.866972053527094): 1})\n",
            "151\n"
          ],
          "name": "stdout"
        },
        {
          "output_type": "stream",
          "text": [
            "/usr/local/lib/python3.7/dist-packages/ipykernel_launcher.py:16: MatplotlibDeprecationWarning: Using a string of single character colors as a color sequence is deprecated. Use an explicit list instead.\n",
            "  app.launch_new_instance()\n"
          ],
          "name": "stderr"
        },
        {
          "output_type": "display_data",
          "data": {
            "image/png": "[encoded data removed]",
            "text/plain": [
              "<Figure size 432x288 with 1 Axes>"
            ]
          },
          "metadata": {
            "tags": [],
            "needs_background": "light"
          }
        }
      ]
    },
    {
      "cell_type": "markdown",
      "metadata": {
        "id": "yB89-1H5LIxl"
      },
      "source": [
        "## Check the histogram of Figure 3.9"
      ]
    },
    {
      "cell_type": "code",
      "metadata": {
        "colab": {
          "base_uri": "https://localhost:8080/",
          "height": 265
        },
        "id": "-SIGyK-cJcpn",
        "outputId": "becd2110-277a-4553-ada5-56ac94784ca4"
      },
      "source": [
        "plt.hist(A, bins = np.arange(2.1,2.9,0.025))   \n",
        "plt.show()"
      ],
      "execution_count": 15,
      "outputs": [
        {
          "output_type": "display_data",
          "data": {
            "image/png": "[encoded data removed]",
            "text/plain": [
              "<Figure size 432x288 with 1 Axes>"
            ]
          },
          "metadata": {
            "tags": [],
            "needs_background": "light"
          }
        }
      ]
    }
  ]
}
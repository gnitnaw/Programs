{
  "nbformat": 4,
  "nbformat_minor": 0,
  "metadata": {
    "colab": {
      "name": "SCO.ipynb",
      "provenance": [],
      "collapsed_sections": [],
      "authorship_tag": "ABX9TyN5ZRbWM7Kk/kh1ZVVp2mG3",
      "include_colab_link": true
    },
    "kernelspec": {
      "name": "python3",
      "display_name": "Python 3"
    },
    "language_info": {
      "name": "python"
    }
  },
  "cells": [
    {
      "cell_type": "markdown",
      "metadata": {
        "id": "view-in-github",
        "colab_type": "text"
      },
      "source": [
        "<a href=\"https://colab.research.google.com/github/gnitnaw/Programs/blob/master/Chapter3/SCO.ipynb\" target=\"_parent\"><img src=\"https://colab.research.google.com/assets/colab-badge.svg\" alt=\"Open In Colab\"/></a>"
      ]
    },
    {
      "cell_type": "code",
      "metadata": {
        "colab": {
          "base_uri": "https://localhost:8080/"
        },
        "id": "NaWHJhVsAblT",
        "outputId": "77c168c6-2898-4d29-fbf0-1114dcae99d2"
      },
      "source": [
        "!python --version"
      ],
      "execution_count": 1,
      "outputs": [
        {
          "output_type": "stream",
          "name": "stdout",
          "text": [
            "Python 3.7.11\n"
          ]
        }
      ]
    },
    {
      "cell_type": "markdown",
      "metadata": {
        "id": "LetQC4wyAgKh"
      },
      "source": [
        "# Example 3.5\n",
        "## Import modules"
      ]
    },
    {
      "cell_type": "code",
      "metadata": {
        "colab": {
          "base_uri": "https://localhost:8080/"
        },
        "id": "-bXKlDOvAoW5",
        "outputId": "74497072-57e3-4228-ea30-df41e4cd2239"
      },
      "source": [
        "import numpy as np\n",
        "import math\n",
        "import matplotlib.pyplot as plt\n",
        "print(np.__version__)"
      ],
      "execution_count": 2,
      "outputs": [
        {
          "output_type": "stream",
          "name": "stdout",
          "text": [
            "1.19.5\n"
          ]
        }
      ]
    },
    {
      "cell_type": "markdown",
      "metadata": {
        "id": "WmrPRrN05iIF"
      },
      "source": [
        "## Set random seed"
      ]
    },
    {
      "cell_type": "code",
      "metadata": {
        "id": "DdzVvsn_5lIf"
      },
      "source": [
        "np.random.seed(120)"
      ],
      "execution_count": 3,
      "outputs": []
    },
    {
      "cell_type": "markdown",
      "metadata": {
        "id": "KYGyiNcLBI8j"
      },
      "source": [
        "# Example 3.17\n",
        "## Input"
      ]
    },
    {
      "cell_type": "code",
      "metadata": {
        "id": "9OGRmXk9BLh2"
      },
      "source": [
        "c = np.array([ -6.089, -17.164, -34.054,  -5.914, -24.721,\n",
        "              -14.986, -24.100, -10.708, -26.662, -22.179])\n",
        "\n",
        "nDim = 10\n",
        "#xStart = np.array([0.04067247,0.14765159,0.78323637,0.00141368,0.48526222,\n",
        "#                   0.00069291,0.02736897,0.01794290,0.03729653,0.09685870])\n",
        "\n",
        "tree = []\n",
        "\n",
        "def addBranch(x):\n",
        "  tree.append(x)\n",
        "\n",
        "def S(x):\n",
        "  y = 0\n",
        "  xSum = np.sum(x)\n",
        "  for i in range(nDim):\n",
        "    y = y + x[i]*(c[i]+math.log(x[i]/xSum))\n",
        "  return y\n",
        "\n",
        "def constraint_1(x): #x[0]\n",
        "  return 2-2*x[1]-2*x[2]-x[5]-x[9]\n",
        "\n",
        "def constraint_2(x): #x[3]\n",
        "  return 1-2*x[4]-x[5]-x[6]\n",
        "\n",
        "def constraint_3(x): #x[7]\n",
        "  return 1-x[2]-x[6]-2*x[8]-x[9]\n",
        "\n",
        "def constraint_4(x):\n",
        "  for i in range(nDim):\n",
        "    if x[i] < 0.000001:\n",
        "      return False\n",
        "  return True\n",
        "\n",
        "def dimension_reduce(x):\n",
        "  y = x.copy()\n",
        "  y[0] = constraint_1(x)\n",
        "  y[3] = constraint_2(x)\n",
        "  y[7] = constraint_3(x)\n",
        "  return y\n",
        "\n",
        "def penalty(x):\n",
        "  y = 0\n",
        "  for i in range(nDim):\n",
        "    y = y + max(-(x[i]-0.000001), 0)\n",
        "  y = y + S(x)\n",
        "  return y\n",
        "\n",
        "def generate_Start() :\n",
        "  xStart = dimension_reduce(np.random.rand(nDim))\n",
        "  while constraint_4(xStart) == False:\n",
        "    xStart = dimension_reduce(np.random.rand(nDim))\n",
        "  return xStart\n",
        "\n",
        "def sampling_level1(n) : \n",
        "  x = np.zeros((n, nDim))\n",
        "  for i in range(n):\n",
        "    x[i] = generate_Start()\n",
        "  return x\n",
        "\n",
        "def sampling_level2(n, initValue):\n",
        "  x = np.random.random((n, nDim))*0.1 + initValue\n",
        "  return x\n",
        "\n",
        "N = 100\n",
        "rho = 0.5\n",
        "omega = 0.5\n",
        "debugMode = False\n",
        "MaxTry = 100\n",
        "tMax = 300\n",
        "#x = xStart\n",
        "#print(x)\n",
        "#print(penalty(x))\n"
      ],
      "execution_count": 4,
      "outputs": []
    },
    {
      "cell_type": "markdown",
      "metadata": {
        "id": "ef2XtiYwqrhK"
      },
      "source": [
        "## Step 1 : Generate X1...XN via uniform sampling. Set t = 0 and N_e = ceil(N rho)"
      ]
    },
    {
      "cell_type": "code",
      "metadata": {
        "colab": {
          "base_uri": "https://localhost:8080/"
        },
        "id": "sUDRuirtq9tb",
        "outputId": "a2ead3bc-0ca8-484f-bdd1-119f35510b80"
      },
      "source": [
        "#XGet = np.array([0.75379437, 0.48226277, 0.55370205, 0.01726460, 0.29904536, \n",
        "#                 0.17542843, 0.20921625, 0.06626207, 0.07727083, 0.01627797])\n",
        "XGet = np.array([0.04067247,0.14765159,0.78323637,0.00141368,0.48526222,\n",
        "                   0.00069291,0.02736897,0.01794290,0.03729653,0.09685870])\n",
        "print(S(XGet))\n",
        "\n",
        "XGet = np.array([1.77540106e+00, 8.95871298e-02, 9.49466098e-01, 5.54672599e-02, 4.37438025e-01,\n",
        "                 2.80431617e-02, 4.16135281e-02, 2.47127879e-04, 3.85182508e-03, 9.69596179e-04])\n",
        "print(S(XGet))\n",
        "\n",
        "Xt = sampling_level1(N)\n",
        "#Xt = sampling_level2(N, 0.1)\n",
        "t = 0\n",
        "N_elite = math.ceil(N*rho)\n",
        "stopLoop = False\n",
        "if debugMode :\n",
        "  print(Xt[0:10])\n",
        "\n",
        "SX = np.empty(N)\n",
        "for i in range(N):\n",
        "  SX[i] = penalty(Xt[i])\n",
        "\n",
        "eliteXindex = np.argsort(SX)"
      ],
      "execution_count": 5,
      "outputs": [
        {
          "output_type": "stream",
          "name": "stdout",
          "text": [
            "-47.761090811433775\n",
            "-61.52523707787246\n"
          ]
        }
      ]
    },
    {
      "cell_type": "markdown",
      "metadata": {
        "id": "rOwQ0zdQvRIf"
      },
      "source": [
        "## 1st while loop (Step 2)"
      ]
    },
    {
      "cell_type": "code",
      "metadata": {
        "colab": {
          "base_uri": "https://localhost:8080/"
        },
        "id": "9OHXUSikviQA",
        "outputId": "9870ee10-22a2-4ade-ff50-a52a22a56985"
      },
      "source": [
        "while stopLoop == False :\n",
        "  \n",
        "  SX = SX[eliteXindex]\n",
        "  Xt = Xt[eliteXindex]\n",
        "  \n",
        "  # Store elite X\n",
        "\n",
        "  # Refresh S_best and X_best (Step 3)\n",
        "  S_best = SX[0]\n",
        "  X_best = Xt[0]\n",
        "\n",
        "  # Step 4 : Draw Bi\n",
        "  B_elite = np.random.binomial(1, 0.5, N_elite)\n",
        "\n",
        "  ## 2nd loop, 1st for loop (Step. 5)\n",
        "  RS = math.ceil(N*1.0/N_elite)\n",
        "  for i in range(N_elite):\n",
        "    R = B_elite[i] + RS  ## Step 6.\n",
        "    if R > N_elite :\n",
        "      R = N_elite\n",
        "    Y = Xt[i].copy()  ## Step 7\n",
        "    \n",
        "    for j in range(R) : ## Step 8\n",
        "      Y_p = Y.copy()\n",
        "      I = np.random.randint(N_elite, size=N_elite) ## Step 9\n",
        "      for k in range(N_elite):\n",
        "        while I[k] == i :\n",
        "          I[k] = np.random.randint(N_elite, size=1).item()\n",
        "      if debugMode :\n",
        "        print(\"i = \", i, \" I[j] = \", I[j])\n",
        "      SigmaX = omega*np.linalg.norm(Xt[i]-Xt[I[j]])\n",
        "      Pi = np.arange(nDim)\n",
        "      np.random.shuffle(Pi)  ## Step 10\n",
        "      if debugMode :\n",
        "        print(i, \": \", j, \": \", I, \" :\", SigmaX)\n",
        "      for k in range(nDim): ## Step 11\n",
        "        for Try in range(MaxTry):  ## Step 12\n",
        "          if Pi[k] != 0 and Pi[k] != 3 and Pi[k] != 7 :\n",
        "            Y_pp = Y_p.copy()\n",
        "            Y_pp[Pi[k]] = Y_p[Pi[k]] + SigmaX*np.random.randn()  ## Step 13\n",
        "            Y_pp = dimension_reduce(Y_pp)\n",
        "            if Y_pp[Pi[k]] > 10**(-6) and Y_pp[0] > 10**(-6) and Y_pp[3] > 10**(-6) and Y_pp[7] > 10**(-6) :\n",
        "              Y_p = Y_pp.copy()\n",
        "              PPY = penalty(Y_p)\n",
        "              if PPY < penalty(Y) :  ## Step 14\n",
        "                Y = Y_p.copy()\n",
        "                addBranch([t, i, j, k, Y, PPY])\n",
        "                break\n",
        "        Xt[i] = Y.copy()    ## Step 15\n",
        "        SX[i] = penalty(Xt[i])\n",
        "  eliteXindex = np.argsort(SX)\n",
        "  t = t+1\n",
        "  if (t%10 == 0) : \n",
        "    print(\"t = \", t, \" Best S = \", S_best, \" X = \", X_best)\n",
        "  \n",
        "  if t>=tMax :\n",
        "    stopLoop = True\n",
        "\n",
        "\n",
        "print(\"=========================================\")\n",
        "print(tree)\n",
        "\n",
        "if debugMode :\n",
        "  print(SX)\n",
        "  print(eliteXindex)\n",
        "  print(B_elite)"
      ],
      "execution_count": 6,
      "outputs": [
        {
          "output_type": "stream",
          "name": "stdout",
          "text": [
            "t =  10  Best S =  -47.74929422229967  X =  [0.04276243 0.15260401 0.78401354 0.00597566 0.48171707 0.00467029\n",
            " 0.02591992 0.02054515 0.04509461 0.07933218]\n",
            "t =  20  Best S =  -47.75924722022334  X =  [0.03950745 0.14967589 0.7841875  0.00366019 0.48466098 0.00133952\n",
            " 0.02567833 0.0184157  0.04014611 0.09142626]\n",
            "t =  30  Best S =  -47.760811588081  X =  [0.04062338 0.14766166 0.78494886 0.00199082 0.48474215 0.000901\n",
            " 0.02762387 0.01671643 0.03872813 0.09325459]\n",
            "t =  50  Best S =  -47.76102065203287  X =  [0.0405743  0.14695118 0.78498057 0.00145779 0.48474215 0.0008582\n",
            " 0.02819971 0.01784415 0.03713579 0.09470398]\n",
            "t =  60  Best S =  -47.761031573942844  X =  [0.04052676 0.14695118 0.78498057 0.00145779 0.48474215 0.0008582\n",
            " 0.02819971 0.01779661 0.03713579 0.09475152]\n",
            "t =  70  Best S =  -47.76103245164739  X =  [0.04075728 0.14695118 0.78486532 0.00145779 0.48474215 0.0008582\n",
            " 0.02819971 0.01791187 0.03713579 0.09475152]\n",
            "t =  80  Best S =  -47.76103735291415  X =  [0.04053121 0.14695118 0.78486532 0.00146938 0.48474215 0.0008466\n",
            " 0.02819971 0.0176742  0.03713579 0.09498919]\n",
            "t =  90  Best S =  -47.76105695990443  X =  [4.05820625e-02 1.46951183e-01 7.84865315e-01 1.40421503e-03\n",
            " 4.84885793e-01 7.42650046e-04 2.80815493e-02 1.81009918e-02\n",
            " 3.69549261e-02 9.50422916e-02]\n",
            "t =  100  Best S =  -47.761058402704144  X =  [4.05820625e-02 1.46951183e-01 7.84865315e-01 1.40421503e-03\n",
            " 4.84885793e-01 7.42650046e-04 2.80815493e-02 1.79225520e-02\n",
            " 3.70441460e-02 9.50422916e-02]\n",
            "t =  110  Best S =  -47.76106183627197  X =  [4.05343074e-02 1.46951183e-01 7.84830015e-01 1.47533778e-03\n",
            " 4.84885793e-01 6.90387981e-04 2.80626886e-02 1.78060954e-02\n",
            " 3.70441460e-02 9.52129090e-02]\n",
            "t =  120  Best S =  -47.76106183627197  X =  [4.05343074e-02 1.46951183e-01 7.84830015e-01 1.47533778e-03\n",
            " 4.84885793e-01 6.90387981e-04 2.80626886e-02 1.78060954e-02\n",
            " 3.70441460e-02 9.52129090e-02]\n",
            "t =  130  Best S =  -47.7610623083122  X =  [4.04861444e-02 1.46951183e-01 7.84830015e-01 1.47533778e-03\n",
            " 4.84885793e-01 6.90387981e-04 2.80626886e-02 1.79199669e-02\n",
            " 3.69631287e-02 9.52610720e-02]\n",
            "t =  140  Best S =  -47.76106755803574  X =  [4.09332174e-02 1.49423680e-01 7.81148911e-01 1.39074864e-03\n",
            " 4.85327739e-01 6.80770022e-04 2.72730028e-02 1.80759352e-02\n",
            " 3.81306597e-02 9.72408319e-02]\n",
            "t =  150  Best S =  -47.76107040164114  X =  [4.06853451e-02 1.46992666e-01 7.84508873e-01 1.45399699e-03\n",
            " 4.84917545e-01 6.98428227e-04 2.80124846e-02 1.78534745e-02\n",
            " 3.70060096e-02 9.56131488e-02]\n",
            "t =  160  Best S =  -47.76107448149673  X =  [4.10442957e-02 1.48980672e-01 7.81536702e-01 1.40117859e-03\n",
            " 4.85327739e-01 6.81471468e-04 2.72618714e-02 1.79959837e-02\n",
            " 3.79829789e-02 9.72394856e-02]\n",
            "t =  170  Best S =  -47.761080273776  X =  [4.07701860e-02 1.48843202e-01 7.81831312e-01 1.39556460e-03\n",
            " 4.85327739e-01 6.87085461e-04 2.72618714e-02 1.79521619e-02\n",
            " 3.78804774e-02 9.71936996e-02]\n",
            "t =  180  Best S =  -47.76108104445545  X =  [4.07049827e-02 1.48843202e-01 7.81865315e-01 1.39836647e-03\n",
            " 4.85327739e-01 6.84283591e-04 2.72618714e-02 1.80266526e-02\n",
            " 3.78262308e-02 9.71936996e-02]\n",
            "t =  190  Best S =  -47.76108157132575  X =  [4.09184348e-02 1.48708270e-01 7.81937546e-01 1.39944764e-03\n",
            " 4.85327739e-01 6.84283591e-04 2.72607902e-02 1.80435528e-02\n",
            " 3.78262308e-02 9.71056494e-02]\n",
            "t =  200  Best S =  -47.76108403778755  X =  [4.07662297e-02 1.48545828e-01 7.82218590e-01 1.40961481e-03\n",
            " 4.85326154e-01 6.84283591e-04 2.72537943e-02 1.79291854e-02\n",
            " 3.77888900e-02 9.70206504e-02]\n",
            "t =  210  Best S =  -47.76108525645212  X =  [4.05600746e-02 1.48545828e-01 7.82307330e-01 1.40961481e-03\n",
            " 4.85326154e-01 6.84283591e-04 2.72537943e-02 1.79537005e-02\n",
            " 3.77179250e-02 9.70493250e-02]\n",
            "t =  220  Best S =  -47.76108598081518  X =  [4.08141646e-02 1.48361034e-01 7.82403352e-01 1.40745040e-03\n",
            " 4.85326154e-01 6.86447999e-04 2.72537943e-02 1.79363885e-02\n",
            " 3.77179250e-02 9.69706148e-02]\n",
            "t =  230  Best S =  -47.76108691754865  X =  [4.07491364e-02 1.48361034e-01 7.82427117e-01 1.40830190e-03\n",
            " 4.85323908e-01 6.90086990e-04 2.72537943e-02 1.79926192e-02\n",
            " 3.76709974e-02 9.69844747e-02]\n",
            "t =  240  Best S =  -47.7610876302398  X =  [4.06798364e-02 1.48319189e-01 7.82503612e-01 1.41732353e-03\n",
            " 4.85316263e-01 6.90086990e-04 2.72600625e-02 1.80522306e-02\n",
            " 3.75998101e-02 9.69844747e-02]\n",
            "t =  250  Best S =  -47.76108778139377  X =  [4.06051145e-02 1.48319189e-01 7.82526278e-01 1.41526481e-03\n",
            " 4.85316263e-01 6.92145714e-04 2.72600625e-02 1.80022336e-02\n",
            " 3.75998101e-02 9.70118056e-02]\n",
            "t =  260  Best S =  -47.76108849001683  X =  [4.07144342e-02 1.48180681e-01 7.82633603e-01 1.39681887e-03\n",
            " 4.85305194e-01 6.91298139e-04 2.73014955e-02 1.79165683e-02\n",
            " 3.75913163e-02 9.69657010e-02]\n",
            "t =  270  Best S =  -47.761089565866406  X =  [4.06498354e-02 1.48039744e-01 7.82828862e-01 1.41766515e-03\n",
            " 4.85292161e-01 6.96517873e-04 2.73014955e-02 1.79006793e-02\n",
            " 3.75262640e-02 9.69164350e-02]\n",
            "t =  280  Best S =  -47.76108990597398  X =  [4.07004988e-02 1.47983385e-01 7.82864142e-01 1.41682544e-03\n",
            " 4.85292161e-01 6.95503427e-04 2.73033497e-02 1.79193610e-02\n",
            " 3.75021022e-02 9.69089429e-02]\n",
            "t =  290  Best S =  -47.761090016375746  X =  [4.06893419e-02 1.47983385e-01 7.82864142e-01 1.41591901e-03\n",
            " 4.85293123e-01 6.94485623e-04 2.73033497e-02 1.79479672e-02\n",
            " 3.74817118e-02 9.69211176e-02]\n",
            "t =  300  Best S =  -47.76109016401169  X =  [4.06603789e-02 1.47969815e-01 7.82891994e-01 1.41251840e-03\n",
            " 4.85293123e-01 6.93056855e-04 2.73081790e-02 1.79534939e-02\n",
            " 3.74616932e-02 9.69229468e-02]\n",
            "=========================================\n"
          ]
        },
        {
          "output_type": "stream",
          "name": "stderr",
          "text": [
            "IOPub data rate exceeded.\n",
            "The notebook server will temporarily stop sending output\n",
            "to the client in order to avoid crashing it.\n",
            "To change this limit, set the config variable\n",
            "`--NotebookApp.iopub_data_rate_limit`.\n",
            "\n",
            "Current values:\n",
            "NotebookApp.iopub_data_rate_limit=1000000.0 (bytes/sec)\n",
            "NotebookApp.rate_limit_window=3.0 (secs)\n",
            "\n"
          ]
        }
      ]
    }
  ]
}
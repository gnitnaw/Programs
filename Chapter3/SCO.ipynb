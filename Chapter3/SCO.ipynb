{
  "nbformat": 4,
  "nbformat_minor": 0,
  "metadata": {
    "colab": {
      "name": "SCO.ipynb",
      "provenance": [],
      "collapsed_sections": [],
      "authorship_tag": "ABX9TyNDR6j4sn/P7jwWlRpwkG0E",
      "include_colab_link": true
    },
    "kernelspec": {
      "name": "python3",
      "display_name": "Python 3"
    },
    "language_info": {
      "name": "python"
    }
  },
  "cells": [
    {
      "cell_type": "markdown",
      "metadata": {
        "id": "view-in-github",
        "colab_type": "text"
      },
      "source": [
        "<a href=\"https://colab.research.google.com/github/gnitnaw/Programs/blob/master/Chapter3/SCO.ipynb\" target=\"_parent\"><img src=\"https://colab.research.google.com/assets/colab-badge.svg\" alt=\"Open In Colab\"/></a>"
      ]
    },
    {
      "cell_type": "code",
      "metadata": {
        "colab": {
          "base_uri": "https://localhost:8080/"
        },
        "id": "NaWHJhVsAblT",
        "outputId": "d8bf956f-51e6-49b5-cf10-51d03d77fa2a"
      },
      "source": [
        "!python --version"
      ],
      "execution_count": 1,
      "outputs": [
        {
          "output_type": "stream",
          "text": [
            "Python 3.7.11\n"
          ],
          "name": "stdout"
        }
      ]
    },
    {
      "cell_type": "markdown",
      "metadata": {
        "id": "LetQC4wyAgKh"
      },
      "source": [
        "# Example 3.5\n",
        "## Import modules"
      ]
    },
    {
      "cell_type": "code",
      "metadata": {
        "colab": {
          "base_uri": "https://localhost:8080/"
        },
        "id": "-bXKlDOvAoW5",
        "outputId": "412abdcf-f9e2-47ca-a73e-83d29f2f65a8"
      },
      "source": [
        "import numpy as np\n",
        "import math\n",
        "import matplotlib.pyplot as plt\n",
        "print(np.__version__)"
      ],
      "execution_count": 2,
      "outputs": [
        {
          "output_type": "stream",
          "text": [
            "1.19.5\n"
          ],
          "name": "stdout"
        }
      ]
    },
    {
      "cell_type": "markdown",
      "metadata": {
        "id": "WmrPRrN05iIF"
      },
      "source": [
        "## Set random seed"
      ]
    },
    {
      "cell_type": "code",
      "metadata": {
        "id": "DdzVvsn_5lIf"
      },
      "source": [
        "np.random.seed(120)"
      ],
      "execution_count": 3,
      "outputs": []
    },
    {
      "cell_type": "markdown",
      "metadata": {
        "id": "KYGyiNcLBI8j"
      },
      "source": [
        "# Example 3.17\n",
        "## Input"
      ]
    },
    {
      "cell_type": "code",
      "metadata": {
        "id": "9OGRmXk9BLh2"
      },
      "source": [
        "c = np.array([ -6.089, -17.164, -34.054,  -5.914, -24.721,\n",
        "              -14.986, -24.100, -10.708, -26.662, -22.179])\n",
        "\n",
        "nDim = 10\n",
        "#xStart = np.array([0.04067247,0.14765159,0.78323637,0.00141368,0.48526222,\n",
        "#                   0.00069291,0.02736897,0.01794290,0.03729653,0.09685870])\n",
        "\n",
        "def S(x):\n",
        "  y = 0\n",
        "  xSum = np.sum(x)\n",
        "  for i in range(nDim):\n",
        "    y = y + x[i]*(c[i]+math.log(x[i]/xSum))\n",
        "  return y\n",
        "\n",
        "def constraint_1(x): #x[0]\n",
        "  return 2-2*x[1]-2*x[2]-x[5]-x[9]\n",
        "\n",
        "def constraint_2(x): #x[3]\n",
        "  return 1-2*x[4]-x[5]-x[6]\n",
        "\n",
        "def constraint_3(x): #x[2]\n",
        "  return 1-x[6]-x[7]-2*x[8]-x[9]\n",
        "\n",
        "def constraint_4(x):\n",
        "  for i in range(nDim):\n",
        "    if x[i] < 0.000001 or x[i] > 1.0:\n",
        "      return False\n",
        "  return True\n",
        "\n",
        "def dimension_reduce(x):\n",
        "  y = x.copy()\n",
        "  y[0] = constraint_1(x)\n",
        "  y[3] = constraint_2(x)\n",
        "  y[2] = constraint_3(x)\n",
        "  return y\n",
        "\n",
        "def penalty(x):\n",
        "  y = 0\n",
        "  for i in range(nDim):\n",
        "    y = y + max(-(x[i]-0.000001), 0)\n",
        "  y = y + S(x)\n",
        "  return y\n",
        "\n",
        "def generate_Start() :\n",
        "  xStart = dimension_reduce(np.random.rand(nDim))\n",
        "  while constraint_4(xStart) == False:\n",
        "    xStart = dimension_reduce(np.random.rand(nDim))\n",
        "  return xStart\n",
        "\n",
        "def sampling_level1(n) : \n",
        "  x = np.zeros((n, nDim))\n",
        "  for i in range(n):\n",
        "    x[i] = generate_Start()\n",
        "  return x\n",
        "\n",
        "\n",
        "N = 100\n",
        "rho = 1\n",
        "omega = 0.5\n",
        "debugMode = False\n",
        "MaxTry = 100\n",
        "tMax = 20\n",
        "#x = xStart\n",
        "#print(x)\n",
        "#print(penalty(x))\n"
      ],
      "execution_count": 4,
      "outputs": []
    },
    {
      "cell_type": "markdown",
      "metadata": {
        "id": "ef2XtiYwqrhK"
      },
      "source": [
        "## Step 1 : Generate X1...XN via uniform sampling. Set t = 0 and N_e = ceil(N rho)"
      ]
    },
    {
      "cell_type": "code",
      "metadata": {
        "colab": {
          "base_uri": "https://localhost:8080/"
        },
        "id": "sUDRuirtq9tb",
        "outputId": "bf836a59-0514-4f94-f3b6-c4f42a0a5711"
      },
      "source": [
        "#XGet = np.array([0.75379437, 0.48226277, 0.55370205, 0.01726460, 0.29904536, \n",
        "#                 0.17542843, 0.20921625, 0.06626207, 0.07727083, 0.01627797])\n",
        "XGet = np.array([0.04067247,0.14765159,0.78323637,0.00141368,0.48526222,\n",
        "                   0.00069291,0.02736897,0.01794290,0.03729653,0.09685870])\n",
        "print(S(XGet))\n",
        "\n",
        "XGet = np.array([1.77540106e+00, 8.95871298e-02, 9.49466098e-01, 5.54672599e-02, 4.37438025e-01,\n",
        "                 2.80431617e-02, 4.16135281e-02, 2.47127879e-04, 3.85182508e-03, 9.69596179e-04])\n",
        "print(S(XGet))\n",
        "\n",
        "Xt = sampling_level1(N)\n",
        "t = 0\n",
        "N_elite = math.ceil(N*rho)\n",
        "stopLoop = False\n",
        "if debugMode :\n",
        "  print(Xt[0:10])\n",
        "\n",
        "SX = np.empty(N)\n",
        "for i in range(N):\n",
        "  SX[i] = penalty(Xt[i])\n",
        "\n",
        "eliteXindex = np.argsort(SX)"
      ],
      "execution_count": 5,
      "outputs": [
        {
          "output_type": "stream",
          "text": [
            "-47.761090811433775\n",
            "-61.52523707787246\n"
          ],
          "name": "stdout"
        }
      ]
    },
    {
      "cell_type": "markdown",
      "metadata": {
        "id": "rOwQ0zdQvRIf"
      },
      "source": [
        "## 1st while loop (Step 2)"
      ]
    },
    {
      "cell_type": "code",
      "metadata": {
        "colab": {
          "base_uri": "https://localhost:8080/"
        },
        "id": "9OHXUSikviQA",
        "outputId": "c12d61c2-7555-41d8-8402-09f2f1836069"
      },
      "source": [
        "while stopLoop == False :\n",
        "  \n",
        "  SX = SX[eliteXindex]\n",
        "  Xt = Xt[eliteXindex]\n",
        "  \n",
        "  # Store elite X\n",
        "\n",
        "  # Refresh S_best and X_best (Step 3)\n",
        "  S_best = SX[0]\n",
        "  X_best = Xt[0]\n",
        "\n",
        "  # Step 4 : Draw Bi\n",
        "  B_elite = np.random.binomial(1, 0.5, N_elite)\n",
        "\n",
        "  ## 2nd loop, 1st for loop (Step. 5)\n",
        "  RS = math.ceil(N*1.0/N_elite)\n",
        "  for i in range(N_elite):\n",
        "    R = B_elite[i] + RS  ## Step 6.\n",
        "    if R > N_elite :\n",
        "      R = N_elite\n",
        "    Y = Xt[i].copy()  ## Step 7\n",
        "    \n",
        "    for j in range(R) : ## Step 8\n",
        "      Y_p = Y.copy()\n",
        "      I = np.random.randint(N_elite, size=N_elite) ## Step 9\n",
        "      for k in range(N_elite):\n",
        "        while I[k] == i :\n",
        "          I[k] = np.random.randint(N_elite, size=1).item()\n",
        "      if debugMode :\n",
        "        print(\"i = \", i, \" I[j] = \", I[j])\n",
        "      SigmaX = omega*np.linalg.norm(Xt[i]-Xt[I[j]])\n",
        "      Pi = np.arange(nDim)\n",
        "      np.random.shuffle(Pi)  ## Step 10\n",
        "      if debugMode :\n",
        "        print(i, \": \", j, \": \", I, \" :\", SigmaX)\n",
        "      for k in range(nDim): ## Step 11\n",
        "        for Try in range(MaxTry):  ## Step 12\n",
        "          if Pi[k] != 0 and Pi[k] != 2 and Pi[k] != 3 :\n",
        "            Y_pp = Y_p.copy()\n",
        "            Y_pp[Pi[k]] = Y_p[Pi[k]] + SigmaX*np.random.randn()  ## Step 13\n",
        "            Y_pp = dimension_reduce(Y_pp)\n",
        "            if Y_pp[Pi[k]] > 10**(-6) and Y_pp[0] > 10**(-6) and Y_pp[2] > 10**(-6) and Y_pp[3] > 10**(-6) :\n",
        "              Y_p = Y_pp.copy()\n",
        "              if penalty(Y_p) < penalty(Y) :  ## Step 14\n",
        "                Y = Y_p.copy()\n",
        "                #print(\"Got!\")\n",
        "                break\n",
        "        Xt[i] = Y.copy()    ## Step 15\n",
        "        SX[i] = penalty(Xt[i])\n",
        "  eliteXindex = np.argsort(SX)\n",
        "  t = t+1\n",
        "  print(\"t = \", t, \" Best S = \", S_best, \" X = \", X_best)\n",
        "  \n",
        "  if t>=tMax :\n",
        "    stopLoop = True\n",
        "\n",
        "\n",
        "if debugMode :\n",
        "  print(SX)\n",
        "  print(eliteXindex)\n",
        "  print(B_elite)"
      ],
      "execution_count": 6,
      "outputs": [
        {
          "output_type": "stream",
          "text": [
            "t =  1  Best S =  -54.7595605462932  X =  [0.96451644 0.20068979 0.78631224 0.30401697 0.25684741 0.10597095\n",
            " 0.07631726 0.05802227 0.01555251 0.04824321]\n",
            "t =  2  Best S =  -56.08662506718107  X =  [1.35194716 0.13367734 0.79552575 0.47542486 0.12393761 0.23764881\n",
            " 0.03905111 0.06772916 0.01714324 0.0634075 ]\n",
            "t =  3  Best S =  -58.35661563933363  X =  [1.71813651 0.01524091 0.9208916  0.26425914 0.33283405 0.04268438\n",
            " 0.02738839 0.01621758 0.01082185 0.01385873]\n",
            "t =  4  Best S =  -58.35661563933363  X =  [1.71813651 0.01524091 0.9208916  0.26425914 0.33283405 0.04268438\n",
            " 0.02738839 0.01621758 0.01082185 0.01385873]\n",
            "t =  5  Best S =  -58.35661563933363  X =  [1.71813651 0.01524091 0.9208916  0.26425914 0.33283405 0.04268438\n",
            " 0.02738839 0.01621758 0.01082185 0.01385873]\n",
            "t =  6  Best S =  -58.35661563933363  X =  [1.71813651 0.01524091 0.9208916  0.26425914 0.33283405 0.04268438\n",
            " 0.02738839 0.01621758 0.01082185 0.01385873]\n",
            "t =  7  Best S =  -58.35661563933363  X =  [1.71813651 0.01524091 0.9208916  0.26425914 0.33283405 0.04268438\n",
            " 0.02738839 0.01621758 0.01082185 0.01385873]\n",
            "t =  8  Best S =  -58.35661563933363  X =  [1.71813651 0.01524091 0.9208916  0.26425914 0.33283405 0.04268438\n",
            " 0.02738839 0.01621758 0.01082185 0.01385873]\n",
            "t =  9  Best S =  -58.35661563933363  X =  [1.71813651 0.01524091 0.9208916  0.26425914 0.33283405 0.04268438\n",
            " 0.02738839 0.01621758 0.01082185 0.01385873]\n",
            "t =  10  Best S =  -58.35661563933363  X =  [1.71813651 0.01524091 0.9208916  0.26425914 0.33283405 0.04268438\n",
            " 0.02738839 0.01621758 0.01082185 0.01385873]\n",
            "t =  11  Best S =  -58.35661563933363  X =  [1.71813651 0.01524091 0.9208916  0.26425914 0.33283405 0.04268438\n",
            " 0.02738839 0.01621758 0.01082185 0.01385873]\n",
            "t =  12  Best S =  -59.23275133259356  X =  [1.8979115  0.0183322  0.94147234 0.40132516 0.26804872 0.04814618\n",
            " 0.01443123 0.0180163  0.01073801 0.00460411]\n",
            "t =  13  Best S =  -59.23275133259356  X =  [1.8979115  0.0183322  0.94147234 0.40132516 0.26804872 0.04814618\n",
            " 0.01443123 0.0180163  0.01073801 0.00460411]\n",
            "t =  14  Best S =  -60.049888265848594  X =  [1.75979825 0.09028629 0.87538098 0.07393403 0.41810045 0.02704058\n",
            " 0.06282449 0.04121935 0.00420267 0.01216984]\n",
            "t =  15  Best S =  -60.049888265848594  X =  [1.75979825 0.09028629 0.87538098 0.07393403 0.41810045 0.02704058\n",
            " 0.06282449 0.04121935 0.00420267 0.01216984]\n",
            "t =  16  Best S =  -60.049888265848594  X =  [1.75979825 0.09028629 0.87538098 0.07393403 0.41810045 0.02704058\n",
            " 0.06282449 0.04121935 0.00420267 0.01216984]\n",
            "t =  17  Best S =  -60.049888265848594  X =  [1.75979825 0.09028629 0.87538098 0.07393403 0.41810045 0.02704058\n",
            " 0.06282449 0.04121935 0.00420267 0.01216984]\n",
            "t =  18  Best S =  -60.049888265848594  X =  [1.75979825 0.09028629 0.87538098 0.07393403 0.41810045 0.02704058\n",
            " 0.06282449 0.04121935 0.00420267 0.01216984]\n",
            "t =  19  Best S =  -60.049888265848594  X =  [1.75979825 0.09028629 0.87538098 0.07393403 0.41810045 0.02704058\n",
            " 0.06282449 0.04121935 0.00420267 0.01216984]\n",
            "t =  20  Best S =  -60.049888265848594  X =  [1.75979825 0.09028629 0.87538098 0.07393403 0.41810045 0.02704058\n",
            " 0.06282449 0.04121935 0.00420267 0.01216984]\n"
          ],
          "name": "stdout"
        }
      ]
    }
  ]
}
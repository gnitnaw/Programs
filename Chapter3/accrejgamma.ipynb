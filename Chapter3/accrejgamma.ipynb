{
  "nbformat": 4,
  "nbformat_minor": 0,
  "metadata": {
    "colab": {
      "name": "accrejgamma.ipynb",
      "provenance": [],
      "collapsed_sections": [],
      "authorship_tag": "ABX9TyNOWh/LOLXG/w+6IEg9qHhC",
      "include_colab_link": true
    },
    "kernelspec": {
      "name": "python3",
      "display_name": "Python 3"
    },
    "language_info": {
      "name": "python"
    }
  },
  "cells": [
    {
      "cell_type": "markdown",
      "metadata": {
        "id": "view-in-github",
        "colab_type": "text"
      },
      "source": [
        "<a href=\"https://colab.research.google.com/github/gnitnaw/Programs/blob/master/Chapter3/accrejgamma.ipynb\" target=\"_parent\"><img src=\"https://colab.research.google.com/assets/colab-badge.svg\" alt=\"Open In Colab\"/></a>"
      ]
    },
    {
      "cell_type": "code",
      "metadata": {
        "colab": {
          "base_uri": "https://localhost:8080/"
        },
        "id": "NaWHJhVsAblT",
        "outputId": "80b0d67a-75d0-458e-c3dd-ad5fc7dcce8a"
      },
      "source": [
        "!python --version"
      ],
      "execution_count": 33,
      "outputs": [
        {
          "output_type": "stream",
          "text": [
            "Python 3.7.11\n"
          ],
          "name": "stdout"
        }
      ]
    },
    {
      "cell_type": "markdown",
      "metadata": {
        "id": "LetQC4wyAgKh"
      },
      "source": [
        "# Example 3.5\n",
        "## Import modules"
      ]
    },
    {
      "cell_type": "code",
      "metadata": {
        "colab": {
          "base_uri": "https://localhost:8080/"
        },
        "id": "-bXKlDOvAoW5",
        "outputId": "934765e4-79c6-46cc-cef9-d11fe82e39f2"
      },
      "source": [
        "from math import exp, gamma, log\n",
        "from numpy.random import rand\n",
        "import numpy as np\n",
        "import matplotlib.pyplot as plt\n",
        "print(np.__version__)"
      ],
      "execution_count": 34,
      "outputs": [
        {
          "output_type": "stream",
          "text": [
            "1.19.5\n"
          ],
          "name": "stdout"
        }
      ]
    },
    {
      "cell_type": "markdown",
      "metadata": {
        "id": "WmrPRrN05iIF"
      },
      "source": [
        "## Set random seed"
      ]
    },
    {
      "cell_type": "code",
      "metadata": {
        "id": "DdzVvsn_5lIf"
      },
      "source": [
        "np.random.seed(12)"
      ],
      "execution_count": 35,
      "outputs": []
    },
    {
      "cell_type": "markdown",
      "metadata": {
        "id": "KYGyiNcLBI8j"
      },
      "source": [
        "## Original Program"
      ]
    },
    {
      "cell_type": "code",
      "metadata": {
        "colab": {
          "base_uri": "https://localhost:8080/"
        },
        "id": "9OGRmXk9BLh2",
        "outputId": "e7177ed8-e2dd-4e93-bf61-9bbf1a8abb37"
      },
      "source": [
        "alpha = 1.3\n",
        "lam = 5.6\n",
        "f = lambda x: lam**alpha * x**(alpha-1) * exp(-lam*x)/gamma(alpha)\n",
        "g = lambda x: lam*exp(-lam*x)  ## the lam is the same as the one in f\n",
        "C = 1.2\n",
        "found = False\n",
        "while not found:\n",
        "   x = - log(rand())/lam\n",
        "   if C*g(x)*rand() <= f(x):\n",
        "      found = True\n",
        "print(x)"
      ],
      "execution_count": 36,
      "outputs": [
        {
          "output_type": "stream",
          "text": [
            "0.3338831816413133\n"
          ],
          "name": "stdout"
        }
      ]
    },
    {
      "cell_type": "markdown",
      "metadata": {
        "id": "6qqIymUpCcSZ"
      },
      "source": [
        "## Reproduce Figure 3.2"
      ]
    },
    {
      "cell_type": "code",
      "metadata": {
        "colab": {
          "base_uri": "https://localhost:8080/",
          "height": 265
        },
        "id": "oaldth18Ciim",
        "outputId": "065c09e0-82f5-432f-c026-006536343f12"
      },
      "source": [
        "n_sample = 100000\n",
        "binsize = 200\n",
        "sampling_f = []\n",
        "lam_exp = 4\n",
        "gg = lambda x: lam_exp*exp(-1*lam_exp*x)  ## exp. function with lambda = lam_exp = 4, to replace the g in the original program\n",
        "accept = rand(n_sample)  ## U\n",
        "xx = - np.log(rand(n_sample))/lam_exp  ## Sampling from Exp(4) distribution\n",
        "for i in range(n_sample):\n",
        "  if C*gg(xx[i])*accept[i] <= f(xx[i]): ## if CgU <= f , to check the original program is correct or not, just replace gg with g\n",
        "    sampling_f.append(xx[i])    ## Accept as Gamma distribution\n",
        "\n",
        "# Scale f function to check if it fits the Gamma distribution sampling\n",
        "y2,binEdges2 = np.histogram(sampling_f,bins=binsize, range=(0.0,2.0))\n",
        "bincenters2 = 0.5*(binEdges2[1:]+binEdges2[:-1])\n",
        "y2C = y2[5]/f(bincenters2[5])\n",
        "\n",
        "## Draw\n",
        "xf = np.linspace(0,2,num=binsize)\n",
        "fxf = []\n",
        "for i in range(binsize):\n",
        "  fxf.append(f(xf[i])*y2C)\n",
        "\n",
        "h = plt.plot(xf, fxf, lw=2)\n",
        "plt.hist(xx, color='b', bins = np.arange(0,2,0.01))\n",
        "plt.hist(sampling_f, color='r', bins = np.arange(0.,2,0.01))\n",
        "#plt.yscale('log')\n",
        "plt.show()\n"
      ],
      "execution_count": 39,
      "outputs": [
        {
          "output_type": "display_data",
          "data": {
            "image/png": "[encoded data removed]",
            "text/plain": [
              "<Figure size 432x288 with 1 Axes>"
            ]
          },
          "metadata": {
            "tags": [],
            "needs_background": "light"
          }
        }
      ]
    }
  ]
}
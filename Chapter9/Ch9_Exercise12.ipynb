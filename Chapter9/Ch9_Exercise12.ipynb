{
  "nbformat": 4,
  "nbformat_minor": 0,
  "metadata": {
    "colab": {
      "name": "Ch9_Exercise12.ipynb",
      "provenance": [],
      "collapsed_sections": [],
      "authorship_tag": "ABX9TyOgICN0xXcCxoDa1MVCDRM1",
      "include_colab_link": true
    },
    "kernelspec": {
      "name": "python3",
      "display_name": "Python 3"
    },
    "language_info": {
      "name": "python"
    }
  },
  "cells": [
    {
      "cell_type": "markdown",
      "metadata": {
        "id": "view-in-github",
        "colab_type": "text"
      },
      "source": [
        "<a href=\"https://colab.research.google.com/github/gnitnaw/Programs/blob/master/Chapter9/Ch9_Exercise12.ipynb\" target=\"_parent\"><img src=\"https://colab.research.google.com/assets/colab-badge.svg\" alt=\"Open In Colab\"/></a>"
      ]
    },
    {
      "cell_type": "code",
      "metadata": {
        "colab": {
          "base_uri": "https://localhost:8080/"
        },
        "id": "NaWHJhVsAblT",
        "outputId": "09442f77-df26-4b9f-cb0f-f06612b27e58"
      },
      "source": [
        "!python --version"
      ],
      "execution_count": 1,
      "outputs": [
        {
          "output_type": "stream",
          "name": "stdout",
          "text": [
            "Python 3.7.13\n"
          ]
        }
      ]
    },
    {
      "cell_type": "markdown",
      "metadata": {
        "id": "LetQC4wyAgKh"
      },
      "source": [
        "# Exercise 9.12\n",
        "## Import modules"
      ]
    },
    {
      "cell_type": "code",
      "metadata": {
        "colab": {
          "base_uri": "https://localhost:8080/"
        },
        "id": "-bXKlDOvAoW5",
        "outputId": "b9e98d47-e4e6-4136-ef18-ff208c9b9b65"
      },
      "source": [
        "import torch \n",
        "import torch.nn as nn\n",
        "from torch.autograd import Variable\n",
        "#from torchsummary import summary\n",
        "import pandas as pd\n",
        "import numpy as np\n",
        "import matplotlib.pyplot as plt\n",
        "from torch.utils.data import Dataset, DataLoader\n",
        "from sklearn.model_selection import train_test_split\n",
        "import torch.nn.functional as F\n",
        "print(np.__version__)\n",
        "\n",
        "!rm seeds_dataset.txt\n",
        "!wget https://raw.github.com/gnitnaw/Programs/master/Chapter9/seeds_dataset.txt"
      ],
      "execution_count": 2,
      "outputs": [
        {
          "output_type": "stream",
          "name": "stdout",
          "text": [
            "1.21.6\n",
            "--2022-05-05 15:48:02--  https://raw.github.com/gnitnaw/Programs/master/Chapter9/seeds_dataset.txt\n",
            "Resolving raw.github.com (raw.github.com)... 185.199.110.133, 185.199.109.133, 185.199.111.133, ...\n",
            "Connecting to raw.github.com (raw.github.com)|185.199.110.133|:443... connected.\n",
            "HTTP request sent, awaiting response... 301 Moved Permanently\n",
            "Location: https://raw.githubusercontent.com/gnitnaw/Programs/master/Chapter9/seeds_dataset.txt [following]\n",
            "--2022-05-05 15:48:02--  https://raw.githubusercontent.com/gnitnaw/Programs/master/Chapter9/seeds_dataset.txt\n",
            "Resolving raw.githubusercontent.com (raw.githubusercontent.com)... 185.199.108.133, 185.199.109.133, 185.199.110.133, ...\n",
            "Connecting to raw.githubusercontent.com (raw.githubusercontent.com)|185.199.108.133|:443... connected.\n",
            "HTTP request sent, awaiting response... 200 OK\n",
            "Length: 9309 (9.1K) [text/plain]\n",
            "Saving to: ‘seeds_dataset.txt’\n",
            "\n",
            "seeds_dataset.txt   100%[===================>]   9.09K  --.-KB/s    in 0s      \n",
            "\n",
            "2022-05-05 15:48:02 (40.2 MB/s) - ‘seeds_dataset.txt’ saved [9309/9309]\n",
            "\n"
          ]
        }
      ]
    },
    {
      "cell_type": "markdown",
      "metadata": {
        "id": "WmrPRrN05iIF"
      },
      "source": [
        "## Set random seed"
      ]
    },
    {
      "cell_type": "code",
      "metadata": {
        "id": "DdzVvsn_5lIf"
      },
      "source": [
        "np.random.seed(7890)"
      ],
      "execution_count": 3,
      "outputs": []
    },
    {
      "cell_type": "markdown",
      "metadata": {
        "id": "KYGyiNcLBI8j"
      },
      "source": [
        "## Original Program"
      ]
    },
    {
      "cell_type": "code",
      "metadata": {
        "id": "9OGRmXk9BLh2",
        "colab": {
          "base_uri": "https://localhost:8080/"
        },
        "outputId": "c70897a0-48e7-4cf6-9070-fd724fe4ba15"
      },
      "source": [
        "#################################################################\n",
        "# data loader class\n",
        "#################################################################\n",
        "class LoadData(Dataset):\n",
        "    def __init__(self, x, y, transform=None):\n",
        "        self.X = x\n",
        "        self.y = np.int_(y)\n",
        "                \n",
        "    def __len__(self):\n",
        "        return len(self.X)\n",
        "    \n",
        "    def __getitem__(self, idx):\n",
        "        xx = self.X[idx]\n",
        "        yy = self.y[idx]    \n",
        "        return (xx, yy)\n",
        "\n",
        "# load the image data \n",
        "nFeature = 7\n",
        "nClass = 3\n",
        "data = np.genfromtxt('seeds_dataset.txt')\n",
        "X = data[:,0:nFeature]\n",
        "y = data[:,nFeature].reshape(-1,1)\n",
        "x_train, x_test, y_train, y_test = \\\n",
        "        train_test_split(X, y, test_size=0.5, random_state=123)\n",
        "\n",
        "train_ds = LoadData(x_train, y_train)\n",
        "test_ds = LoadData(x_test, y_test)\n",
        "\n",
        "# load the data in batches\n",
        "batch_size = 40\n",
        "\n",
        "train_loader = torch.utils.data.DataLoader(dataset=train_ds,\n",
        "                                           batch_size=batch_size,\n",
        "                                           shuffle=True)\n",
        "test_loader = torch.utils.data.DataLoader(dataset=test_ds,\n",
        "                                          batch_size=y_train.shape[0])     \n",
        "\n",
        "# set labels dictionary\n",
        "labels = {1 : 'Kama', 2 : 'Rosa', 3 : 'Canadian'}\n",
        "\n",
        "# define the network\n",
        "\n",
        "# Define the model, using the Sequential class\n",
        "model = torch.nn.Sequential(\n",
        "    torch.nn.Linear(nFeature, nClass),\n",
        "    torch.nn.ReLU(),\n",
        "    torch.nn.Linear(nClass, nClass),\n",
        "    torch.nn.Softmax()\n",
        ")\n",
        "\n",
        "# Define the optimizer and loss function\n",
        "optimizer = torch.optim.Adam(model.parameters())\n",
        "w = torch.rand(nClass)\n",
        "criterion = torch.nn.CrossEntropyLoss(weight=w)\n",
        "\n",
        "device = torch.device ('cpu')\n",
        "#device = torch.device ('cuda') # Uncomment this to run on GPU  \n",
        "\n",
        "# learning parameters     \n",
        "num_epochs = 5000\n",
        "learning_rate = 0.005\n",
        "\n",
        "# the learning loop\n",
        "\n",
        "losses = np.zeros(num_epochs)\n",
        "acc = np.zeros(num_epochs)\n",
        "for epoch in range(num_epochs):\n",
        "    correct = 0\n",
        "    total = 0\n",
        "    for (xx, yy) in train_loader:\n",
        "        X = Variable(xx.float()).to(device=device)\n",
        "        labels = Variable(yy.flatten()-1).to(device=device)\n",
        "        optimizer.zero_grad()\n",
        "        outputs = model(X)\n",
        "        #print(outputs)\n",
        "        predicted = torch.argmax(outputs, dim=1)\n",
        "        #print(predicted)\n",
        "        #print(labels)\n",
        "        loss = criterion(outputs, labels)\n",
        "        #print(torch.mean(loss).item())\n",
        "        losses[epoch] = torch.mean(loss)\n",
        "        loss.backward()\n",
        "        optimizer.step()\n",
        "        total += labels.size(0)\n",
        "        correct += (predicted.cpu() == labels).sum()\n",
        "        acc[epoch] = correct\n",
        "    if(epoch % 100 == 0):    \n",
        "        print (\"Epoch : \", epoch, \", Training Loss: \",  loss.item())\n"
      ],
      "execution_count": 4,
      "outputs": [
        {
          "output_type": "stream",
          "name": "stderr",
          "text": [
            "/usr/local/lib/python3.7/dist-packages/torch/nn/modules/container.py:141: UserWarning: Implicit dimension choice for softmax has been deprecated. Change the call to include dim=X as an argument.\n",
            "  input = module(input)\n"
          ]
        },
        {
          "output_type": "stream",
          "name": "stdout",
          "text": [
            "Epoch :  0 , Training Loss:  1.1685911417007446\n",
            "Epoch :  100 , Training Loss:  1.1097980737686157\n",
            "Epoch :  200 , Training Loss:  1.0912048816680908\n",
            "Epoch :  300 , Training Loss:  0.9655078649520874\n",
            "Epoch :  400 , Training Loss:  0.9884735941886902\n",
            "Epoch :  500 , Training Loss:  0.8602068424224854\n",
            "Epoch :  600 , Training Loss:  0.8650535941123962\n",
            "Epoch :  700 , Training Loss:  0.824894905090332\n",
            "Epoch :  800 , Training Loss:  0.8690322637557983\n",
            "Epoch :  900 , Training Loss:  0.7675132751464844\n",
            "Epoch :  1000 , Training Loss:  0.7885609865188599\n",
            "Epoch :  1100 , Training Loss:  0.7709592580795288\n",
            "Epoch :  1200 , Training Loss:  0.8420291543006897\n",
            "Epoch :  1300 , Training Loss:  0.6986113786697388\n",
            "Epoch :  1400 , Training Loss:  0.8914195895195007\n",
            "Epoch :  1500 , Training Loss:  0.7505437135696411\n",
            "Epoch :  1600 , Training Loss:  0.7573462128639221\n",
            "Epoch :  1700 , Training Loss:  0.7794426083564758\n",
            "Epoch :  1800 , Training Loss:  0.8179481029510498\n",
            "Epoch :  1900 , Training Loss:  0.7860584259033203\n",
            "Epoch :  2000 , Training Loss:  0.6959502100944519\n",
            "Epoch :  2100 , Training Loss:  0.6738454699516296\n",
            "Epoch :  2200 , Training Loss:  0.6930575370788574\n",
            "Epoch :  2300 , Training Loss:  0.699249267578125\n",
            "Epoch :  2400 , Training Loss:  0.7084511518478394\n",
            "Epoch :  2500 , Training Loss:  0.7441849112510681\n",
            "Epoch :  2600 , Training Loss:  0.6841437220573425\n",
            "Epoch :  2700 , Training Loss:  0.6828114986419678\n",
            "Epoch :  2800 , Training Loss:  0.7390741109848022\n",
            "Epoch :  2900 , Training Loss:  0.6642006635665894\n",
            "Epoch :  3000 , Training Loss:  0.7564899921417236\n",
            "Epoch :  3100 , Training Loss:  0.6715230941772461\n",
            "Epoch :  3200 , Training Loss:  0.7130117416381836\n",
            "Epoch :  3300 , Training Loss:  0.6653376221656799\n",
            "Epoch :  3400 , Training Loss:  0.650050163269043\n",
            "Epoch :  3500 , Training Loss:  0.6644145846366882\n",
            "Epoch :  3600 , Training Loss:  0.6929381489753723\n",
            "Epoch :  3700 , Training Loss:  0.6793965101242065\n",
            "Epoch :  3800 , Training Loss:  0.6431024670600891\n",
            "Epoch :  3900 , Training Loss:  0.6660707592964172\n",
            "Epoch :  4000 , Training Loss:  0.6344724893569946\n",
            "Epoch :  4100 , Training Loss:  0.6052163243293762\n",
            "Epoch :  4200 , Training Loss:  0.6274990439414978\n",
            "Epoch :  4300 , Training Loss:  0.6509360074996948\n",
            "Epoch :  4400 , Training Loss:  0.6550492644309998\n",
            "Epoch :  4500 , Training Loss:  0.6643511056900024\n",
            "Epoch :  4600 , Training Loss:  0.6099455952644348\n",
            "Epoch :  4700 , Training Loss:  0.6697011590003967\n",
            "Epoch :  4800 , Training Loss:  0.6466810703277588\n",
            "Epoch :  4900 , Training Loss:  0.6767143607139587\n"
          ]
        }
      ]
    },
    {
      "cell_type": "markdown",
      "source": [
        "## main"
      ],
      "metadata": {
        "id": "pn6COHK0dyhL"
      }
    },
    {
      "cell_type": "code",
      "source": [
        "# evaluate on the test set\n",
        "model.eval()\n",
        "correct = 0\n",
        "total = 0\n",
        "for (xx, yy) in test_loader:\n",
        "    X = Variable(xx.float()).to(device=device)\n",
        "    labels = Variable(yy.flatten()-1).to(device=device)\n",
        "    outputs = model(X)\n",
        "    predicted = torch.argmax(outputs.data, dim=1)\n",
        "    print(\"===\")\n",
        "    print(predicted)\n",
        "    print(labels)\n",
        "    loss = criterion(outputs, labels)\n",
        "    print(loss)    \n",
        "    total += labels.size(0)\n",
        "    correct += (predicted.cpu() == labels).sum()\n",
        "\n",
        "print(total)\n",
        "print(correct)\n",
        "\n",
        "print(\"Test Accuracy of the model on the \", num_epochs, \" training test samples: \", (100 * correct.item() / total),\"%\")\n",
        "\n",
        "print(losses)      \n",
        "plt.plot(losses)\n",
        "plt.xlabel(r'{iteration}',fontsize=12)\n",
        "plt.ylabel(r'{Batch Loss}',fontsize=12)\n",
        "plt.subplots_adjust(top=0.8)\n",
        "plt.show()\n",
        "\n",
        "plt.plot(acc)\n",
        "plt.xlabel(r'{iteration}',fontsize=12)\n",
        "plt.ylabel(r'{Acc.}',fontsize=12)\n",
        "#plt.subplots_adjust(top=0.8)\n",
        "plt.show()"
      ],
      "metadata": {
        "colab": {
          "base_uri": "https://localhost:8080/",
          "height": 851
        },
        "id": "MU1XQe_cd0T3",
        "outputId": "95f248c2-b631-46f4-e222-7a5058a263d7"
      },
      "execution_count": 5,
      "outputs": [
        {
          "output_type": "stream",
          "name": "stdout",
          "text": [
            "===\n",
            "tensor([2, 2, 2, 0, 2, 2, 0, 2, 1, 0, 0, 2, 2, 1, 2, 1, 0, 0, 2, 2, 1, 0, 1, 1,\n",
            "        2, 0, 1, 2, 1, 2, 2, 0, 2, 2, 2, 2, 0, 1, 1, 2, 0, 2, 2, 1, 2, 2, 2, 2,\n",
            "        2, 2, 2, 1, 0, 1, 1, 2, 2, 0, 1, 2, 0, 2, 1, 1, 0, 2, 1, 1, 1, 1, 1, 1,\n",
            "        1, 1, 1, 2, 1, 2, 1, 0, 0, 0, 1, 1, 1, 0, 1, 2, 1, 2, 0, 0, 2, 2, 2, 0,\n",
            "        1, 0, 2, 0, 2, 0, 2, 2, 0])\n",
            "tensor([2, 2, 2, 1, 2, 2, 2, 2, 1, 0, 0, 2, 2, 1, 0, 1, 0, 0, 2, 2, 1, 2, 0, 1,\n",
            "        2, 0, 1, 2, 1, 2, 2, 0, 2, 2, 2, 2, 0, 1, 1, 0, 0, 2, 2, 1, 2, 2, 2, 2,\n",
            "        0, 2, 2, 0, 0, 1, 1, 2, 2, 0, 1, 2, 0, 0, 1, 1, 0, 2, 1, 1, 1, 1, 1, 1,\n",
            "        1, 1, 0, 2, 1, 2, 0, 0, 0, 0, 1, 1, 1, 0, 1, 2, 1, 0, 0, 0, 2, 2, 2, 0,\n",
            "        0, 0, 2, 0, 2, 0, 0, 2, 0])\n",
            "tensor(0.6920, grad_fn=<NllLossBackward0>)\n",
            "105\n",
            "tensor(91)\n",
            "Test Accuracy of the model on the  5000  training test samples:  86.66666666666667 %\n",
            "[1.16859114 1.25660658 1.30966282 ... 0.64481223 0.6116339  0.66386831]\n"
          ]
        },
        {
          "output_type": "stream",
          "name": "stderr",
          "text": [
            "/usr/local/lib/python3.7/dist-packages/torch/nn/modules/container.py:141: UserWarning: Implicit dimension choice for softmax has been deprecated. Change the call to include dim=X as an argument.\n",
            "  input = module(input)\n"
          ]
        },
        {
          "output_type": "display_data",
          "data": {
            "text/plain": [
              "<Figure size 432x288 with 1 Axes>"
            ],
            "image/png": "[encoded data removed]"
          },
          "metadata": {
            "needs_background": "light"
          }
        },
        {
          "output_type": "display_data",
          "data": {
            "text/plain": [
              "<Figure size 432x288 with 1 Axes>"
            ],
            "image/png": "[encoded data removed]"
          },
          "metadata": {
            "needs_background": "light"
          }
        }
      ]
    }
  ]
}
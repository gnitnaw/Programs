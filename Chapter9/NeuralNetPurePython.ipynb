{
  "nbformat": 4,
  "nbformat_minor": 0,
  "metadata": {
    "colab": {
      "name": "NeuralNetPurePython.ipynb",
      "provenance": [],
      "collapsed_sections": [],
      "authorship_tag": "ABX9TyOOJzNTfM06gjUjg1Zl5DKq",
      "include_colab_link": true
    },
    "kernelspec": {
      "name": "python3",
      "display_name": "Python 3"
    },
    "language_info": {
      "name": "python"
    }
  },
  "cells": [
    {
      "cell_type": "markdown",
      "metadata": {
        "id": "view-in-github",
        "colab_type": "text"
      },
      "source": [
        "<a href=\"https://colab.research.google.com/github/gnitnaw/Programs/blob/master/Chapter9/NeuralNetPurePython.ipynb\" target=\"_parent\"><img src=\"https://colab.research.google.com/assets/colab-badge.svg\" alt=\"Open In Colab\"/></a>"
      ]
    },
    {
      "cell_type": "code",
      "metadata": {
        "colab": {
          "base_uri": "https://localhost:8080/"
        },
        "id": "NaWHJhVsAblT",
        "outputId": "d19ac58b-00a1-48e4-a57c-f4ec179ac682"
      },
      "source": [
        "!python --version"
      ],
      "execution_count": 1,
      "outputs": [
        {
          "output_type": "stream",
          "name": "stdout",
          "text": [
            "Python 3.7.13\n"
          ]
        }
      ]
    },
    {
      "cell_type": "markdown",
      "metadata": {
        "id": "LetQC4wyAgKh"
      },
      "source": [
        "# Section 9.5.1\n",
        "## Import modules"
      ]
    },
    {
      "cell_type": "code",
      "metadata": {
        "colab": {
          "base_uri": "https://localhost:8080/"
        },
        "id": "-bXKlDOvAoW5",
        "outputId": "194f3fff-0c7d-4030-f622-88c55e6b9126"
      },
      "source": [
        "import numpy as np\n",
        "import matplotlib.pyplot as plt\n",
        "print(np.__version__)\n",
        "\n",
        "!rm polyreg.csv\n",
        "!wget https://raw.github.com/gnitnaw/Programs/master/Chapter9/polyreg.csv"
      ],
      "execution_count": 2,
      "outputs": [
        {
          "output_type": "stream",
          "name": "stdout",
          "text": [
            "1.21.6\n",
            "--2022-04-20 13:14:03--  https://raw.github.com/gnitnaw/Programs/master/Chapter9/polyreg.csv\n",
            "Resolving raw.github.com (raw.github.com)... 185.199.111.133, 185.199.109.133, 185.199.108.133, ...\n",
            "Connecting to raw.github.com (raw.github.com)|185.199.111.133|:443... connected.\n",
            "HTTP request sent, awaiting response... 301 Moved Permanently\n",
            "Location: https://raw.githubusercontent.com/gnitnaw/Programs/master/Chapter9/polyreg.csv [following]\n",
            "--2022-04-20 13:14:03--  https://raw.githubusercontent.com/gnitnaw/Programs/master/Chapter9/polyreg.csv\n",
            "Resolving raw.githubusercontent.com (raw.githubusercontent.com)... 185.199.108.133, 185.199.109.133, 185.199.110.133, ...\n",
            "Connecting to raw.githubusercontent.com (raw.githubusercontent.com)|185.199.108.133|:443... connected.\n",
            "HTTP request sent, awaiting response... 200 OK\n",
            "Length: 3904 (3.8K) [text/plain]\n",
            "Saving to: ‘polyreg.csv’\n",
            "\n",
            "polyreg.csv         100%[===================>]   3.81K  --.-KB/s    in 0s      \n",
            "\n",
            "2022-04-20 13:14:03 (41.6 MB/s) - ‘polyreg.csv’ saved [3904/3904]\n",
            "\n"
          ]
        }
      ]
    },
    {
      "cell_type": "markdown",
      "metadata": {
        "id": "WmrPRrN05iIF"
      },
      "source": [
        "## Set random seed"
      ]
    },
    {
      "cell_type": "code",
      "metadata": {
        "id": "DdzVvsn_5lIf"
      },
      "source": [
        "np.random.seed(1357)"
      ],
      "execution_count": 3,
      "outputs": []
    },
    {
      "cell_type": "markdown",
      "metadata": {
        "id": "KYGyiNcLBI8j"
      },
      "source": [
        "## Original Program"
      ]
    },
    {
      "cell_type": "code",
      "metadata": {
        "id": "9OGRmXk9BLh2"
      },
      "source": [
        "def initialize(p, w_sig = 1):\n",
        "    W, b = [[]]*len(p), [[]]*len(p) \n",
        "    \n",
        "    for l in range(1,len(p)):\n",
        "       W[l]= w_sig * np.random.randn(p[l], p[l-1])\n",
        "       b[l]= w_sig * np.random.randn(p[l], 1)\n",
        "    return W,b\n",
        "\n",
        "def list2vec(W,b):\n",
        "    # converts list of weight matrices and bias vectors into one column vector\n",
        "    b_stack = np.vstack([b[i] for i in range(1,len(b))] )\n",
        "    W_stack = np.vstack(W[i].flatten().reshape(-1,1) for i in range(1,len(W))) \n",
        "    vec = np.vstack([b_stack, W_stack]) \n",
        "    return vec     \n",
        "#%%\n",
        "def vec2list(vec, p):\n",
        "    # converts vector to weight matrices and bias vectors\n",
        "    W, b = [[]]*len(p),[[]]*len(p) \n",
        "    p_count = 0 \n",
        "    \n",
        "    for l in range(1,len(p)): # construct bias vectors\n",
        "        b[l] = vec[p_count:(p_count+p[l])].reshape(-1,1)\n",
        "        p_count = p_count + p[l]\n",
        "    \n",
        "    for l in range(1,len(p)): # construct weight matrices\n",
        "        W[l] = vec[p_count:(p_count + p[l]*p[l-1])].reshape((p[l], p[l-1]))\n",
        "        p_count = p_count + (p[l]*p[l-1])\n",
        "        \n",
        "    return W, b      \n",
        "#%%\n",
        "def RELU(z,l):\n",
        "    # RELU activation function: value and derivative \n",
        "    if l == L: return z, np.ones_like(z) # if last layer return identity \n",
        "    else: \n",
        "        val = np.maximum(0,z) # RELU function element-wise\n",
        "        J = np.array(z>0, dtype = float) # derivative of RELU element-wise\n",
        "        return val, J\n",
        "\n",
        "\n",
        "#%%\n",
        "def loss_fn(y,g):\n",
        "    return (g - y)**2, 2 * (g - y) \n",
        "\n",
        "\n",
        "#%%\n",
        "def feedforward(x,W,b): \n",
        "    a, z, gr_S = [0]*(L+1), [0]*(L+1), [0]*(L+1)\n",
        "    \n",
        "    a[0] = x.reshape(-1,1)\n",
        "    for l in range(1,L+1):\n",
        "        z[l] = W[l] @ a[l-1] + b[l] # affine transformation\n",
        "        a[l], gr_S[l] = S(z[l],l) # activation function \n",
        "    return a, z, gr_S \n",
        "\n",
        "#%%\n",
        "def backward(W,b,X,y): \n",
        "    n =len(y)\n",
        "    delta = [0]*(L+1)\n",
        "    dC_db, dC_dW = [0]*(L+1), [0]*(L+1)\n",
        "    loss=0\n",
        "    \n",
        "    for i in range(n): # loop over training examples\n",
        "        a, z, gr_S = feedforward(X[i,:].T, W, b)  \n",
        "        cost, gr_C = loss_fn(y[i], a[L]) # cost i and gradient wrt g\n",
        "        loss += cost/n  \n",
        "\n",
        "        delta[L] = gr_S[L] @ gr_C    \n",
        "        \n",
        "        for l in range(L,0,-1): # l = L,...,1 \n",
        "            dCi_dbl = delta[l]   \n",
        "            dCi_dWl = delta[l] @  a[l-1].T\n",
        "            \n",
        "            # ---- sum up over samples ----\n",
        "            dC_db[l] = dC_db[l] + dCi_dbl/n  \n",
        "            dC_dW[l] = dC_dW[l] + dCi_dWl/n \n",
        "            # ----------------------------- \n",
        "            \n",
        "            delta[l-1] =  gr_S[l-1] * W[l].T @ delta[l]\n",
        "           \n",
        "    return dC_dW, dC_db, loss\n",
        "\n",
        "def generate_data(beta , sig, n):\n",
        "   u = np.random.rand(n, 1)\n",
        "   y = (u ** np.arange(0, 4)) @ beta + sig * np.random.randn(n, 1)\n",
        "   return u, y\n",
        "\n",
        "beta = np.array([[10, -140, 400, -250]]).T\n",
        "nTest = 100\n",
        "sig = 5\n",
        "uu, yy = generate_data(beta , sig, nTest)"
      ],
      "execution_count": 4,
      "outputs": []
    },
    {
      "cell_type": "markdown",
      "source": [
        "## main"
      ],
      "metadata": {
        "id": "pn6COHK0dyhL"
      }
    },
    {
      "cell_type": "code",
      "source": [
        "# import data\n",
        "data = np.genfromtxt('polyreg.csv',delimiter=',')\n",
        "X = data[:,0].reshape(-1,1)\n",
        "y = data[:,1].reshape(-1,1)\n",
        "    \n",
        "    # Network setup \n",
        "p = [X.shape[1],20,20,1] # size of layers\n",
        "L = len(p)-1             # number of layers\n",
        "W,b = initialize(p,w_sig = 0.8) # initialize weight matrices and bias vectors    \n",
        "'''\n",
        "for i in range(len(W)) :\n",
        "  print(i)\n",
        "  print()\n",
        "  print(W[i])\n",
        "  print()\n",
        "  print(b[i])\n",
        "  print()\n",
        "'''\n",
        "S = RELU\n",
        "        \n",
        "batch_size = 20\n",
        "lr = 0.005\n",
        "beta = list2vec(W,b)\n",
        "loss_arr = []\n",
        "n = len(X)\n",
        "num_epochs = 10000\n",
        "loss_T = np.zeros(num_epochs)\n",
        "print(\"epoch | batch loss\")\n",
        "print(\"----------------------------\")\n",
        "for epoch in range(1,num_epochs+1):\n",
        "    batch_idx = np.random.choice(n,batch_size)\n",
        "    batch_X = X[batch_idx].reshape(-1,1)\n",
        "    batch_y=y[batch_idx].reshape(-1,1)      \n",
        "    dC_dW, dC_db, loss = backward(W,b,batch_X,batch_y)\n",
        "    d_beta = list2vec(dC_dW,dC_db)    \n",
        "    loss_arr.append(loss.flatten()[0])\n",
        "    ypred_Test = np.zeros(nTest)\n",
        "    loss_test = 0.0\n",
        "    for i in range(len(yy)): \n",
        "        a, _, _ = feedforward(uu[i],W,b)\n",
        "        ypred_Test [i],  = a[L]\n",
        "        loss_test = loss_test + (ypred_Test[i] - yy[i])**2\n",
        "    loss_T[epoch-1] = (loss_test/nTest)\n",
        "\n",
        "    if(epoch==1 or np.mod(epoch,1000)==0):\n",
        "        print(epoch,\": \",loss.flatten()[0])\n",
        "    beta = beta - lr*d_beta\n",
        "    W,b = vec2list(beta,p)\n",
        "    \n",
        "    # calculate the loss of the entire training set\n",
        "dC_dW, dC_db, loss = backward(W,b,X,y)\n",
        "print(\"entire training set loss = \",loss.flatten()[0])\n",
        "    \n",
        "    \n",
        "#%%\n",
        "xx = np.arange(0,1,0.01)\n",
        "y_preds = np.zeros_like(xx)\n",
        "    \n",
        "for i in range(len(xx)): \n",
        "    a, _, _ = feedforward(xx[i],W,b)\n",
        "    y_preds[i],  = a[L]\n",
        "\n",
        "plt.plot(np.array(xx), y_preds, 'b',label = 'fit')    \n",
        "plt.plot(X,y, 'r.', markersize = 4,label = 'y')\n",
        "\n",
        "    \n",
        "plt.legend()\n",
        "plt.xlabel('x')\n",
        "plt.ylabel('y')\n",
        "plt.show()\n",
        "    \n",
        "plt.plot(np.array(loss_arr) , 'r')\n",
        "plt.plot(loss_T, 'b')\n",
        "plt.xlabel('iteration')\n",
        "plt.ylabel('Training Loss')\n",
        "plt.show()\n",
        "    \n"
      ],
      "metadata": {
        "colab": {
          "base_uri": "https://localhost:8080/",
          "height": 852
        },
        "id": "MU1XQe_cd0T3",
        "outputId": "c5e1a0a2-0ad1-4872-a98d-be9e78ba814c"
      },
      "execution_count": 5,
      "outputs": [
        {
          "output_type": "stream",
          "name": "stderr",
          "text": [
            "/usr/local/lib/python3.7/dist-packages/ipykernel_launcher.py:12: FutureWarning: arrays to stack must be passed as a \"sequence\" type such as list or tuple. Support for non-sequence iterables such as generators is deprecated as of NumPy 1.16 and will raise an error in the future.\n",
            "  if sys.path[0] == '':\n"
          ]
        },
        {
          "output_type": "stream",
          "name": "stdout",
          "text": [
            "epoch | batch loss\n",
            "----------------------------\n",
            "1 :  191.95169952119906\n",
            "1000 :  38.30741621351828\n",
            "2000 :  55.68305838647123\n",
            "3000 :  39.014809162826694\n",
            "4000 :  32.90181452811654\n",
            "5000 :  14.822893241034022\n",
            "6000 :  31.37029687427799\n",
            "7000 :  23.574903432326693\n",
            "8000 :  24.45482589633686\n",
            "9000 :  22.953756278862716\n",
            "10000 :  44.17284697346377\n",
            "entire training set loss =  29.70338205431407\n"
          ]
        },
        {
          "output_type": "display_data",
          "data": {
            "text/plain": [
              "<Figure size 432x288 with 1 Axes>"
            ],
            "image/png": "[encoded data removed]"
          },
          "metadata": {
            "needs_background": "light"
          }
        },
        {
          "output_type": "display_data",
          "data": {
            "text/plain": [
              "<Figure size 432x288 with 1 Axes>"
            ],
            "image/png": "[encoded data removed]"
          },
          "metadata": {
            "needs_background": "light"
          }
        }
      ]
    }
  ]
}
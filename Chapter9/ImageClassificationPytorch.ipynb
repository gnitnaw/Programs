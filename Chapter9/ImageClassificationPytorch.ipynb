{
  "nbformat": 4,
  "nbformat_minor": 0,
  "metadata": {
    "colab": {
      "name": "ImageClassificationPytorch.ipynb",
      "provenance": [],
      "collapsed_sections": [],
      "authorship_tag": "ABX9TyPWwAZyRK95PQTqIWkw9K4C",
      "include_colab_link": true
    },
    "kernelspec": {
      "name": "python3",
      "display_name": "Python 3"
    },
    "language_info": {
      "name": "python"
    },
    "accelerator": "GPU"
  },
  "cells": [
    {
      "cell_type": "markdown",
      "metadata": {
        "id": "view-in-github",
        "colab_type": "text"
      },
      "source": [
        "<a href=\"https://colab.research.google.com/github/gnitnaw/Programs/blob/master/Chapter9/ImageClassificationPytorch.ipynb\" target=\"_parent\"><img src=\"https://colab.research.google.com/assets/colab-badge.svg\" alt=\"Open In Colab\"/></a>"
      ]
    },
    {
      "cell_type": "code",
      "metadata": {
        "colab": {
          "base_uri": "https://localhost:8080/"
        },
        "id": "NaWHJhVsAblT",
        "outputId": "63d2dc22-49f1-42af-c6a5-8c29ac5cc10a"
      },
      "source": [
        "!python --version"
      ],
      "execution_count": 1,
      "outputs": [
        {
          "output_type": "stream",
          "name": "stdout",
          "text": [
            "Python 3.7.13\n"
          ]
        }
      ]
    },
    {
      "cell_type": "markdown",
      "metadata": {
        "id": "LetQC4wyAgKh"
      },
      "source": [
        "# Section 9.5.2\n",
        "## Import modules"
      ]
    },
    {
      "cell_type": "code",
      "metadata": {
        "colab": {
          "base_uri": "https://localhost:8080/"
        },
        "id": "-bXKlDOvAoW5",
        "outputId": "c6c9c26e-0183-468c-de1a-ed7c33303bd0"
      },
      "source": [
        "!rm fashionmnist.zip\n",
        "!rm fashion-mnist_test.csv\n",
        "!rm fashion-mnist_train.csv\n",
        "!rm t10k-images-idx3-ubyte\n",
        "!rm t10k-labels-idx1-ubyte\n",
        "!rm train-labels-idx1-ubyte\n",
        "!rm train-images-idx3-ubyte\n",
        "\n",
        "!wget https://raw.github.com/gnitnaw/Programs/master/Chapter9/fashionmnist.zip\n",
        "!unzip fashionmnist.zip\n",
        "\n",
        "import torch \n",
        "import torch.nn as nn\n",
        "from torch.autograd import Variable\n",
        "import pandas as pd\n",
        "import numpy as np\n",
        "import matplotlib.pyplot as plt\n",
        "from torch.utils.data import Dataset, DataLoader\n",
        "from PIL import Image\n",
        "import torch.nn.functional as F\n",
        "print(np.__version__)\n"
      ],
      "execution_count": 2,
      "outputs": [
        {
          "output_type": "stream",
          "name": "stdout",
          "text": [
            "--2022-04-13 11:10:47--  https://raw.github.com/gnitnaw/Programs/master/Chapter9/fashionmnist.zip\n",
            "Resolving raw.github.com (raw.github.com)... 185.199.110.133, 185.199.109.133, 185.199.108.133, ...\n",
            "Connecting to raw.github.com (raw.github.com)|185.199.110.133|:443... connected.\n",
            "HTTP request sent, awaiting response... 301 Moved Permanently\n",
            "Location: https://raw.githubusercontent.com/gnitnaw/Programs/master/Chapter9/fashionmnist.zip [following]\n",
            "--2022-04-13 11:10:47--  https://raw.githubusercontent.com/gnitnaw/Programs/master/Chapter9/fashionmnist.zip\n",
            "Resolving raw.githubusercontent.com (raw.githubusercontent.com)... 185.199.108.133, 185.199.109.133, 185.199.110.133, ...\n",
            "Connecting to raw.githubusercontent.com (raw.githubusercontent.com)|185.199.108.133|:443... connected.\n",
            "HTTP request sent, awaiting response... 200 OK\n",
            "Length: 72114606 (69M) [application/zip]\n",
            "Saving to: ‘fashionmnist.zip’\n",
            "\n",
            "fashionmnist.zip    100%[===================>]  68.77M   208MB/s    in 0.3s    \n",
            "\n",
            "2022-04-13 11:10:47 (208 MB/s) - ‘fashionmnist.zip’ saved [72114606/72114606]\n",
            "\n",
            "Archive:  fashionmnist.zip\n",
            "  inflating: t10k-images-idx3-ubyte  \n",
            "  inflating: fashion-mnist_test.csv  \n",
            "  inflating: train-labels-idx1-ubyte  \n",
            "  inflating: train-images-idx3-ubyte  \n",
            "  inflating: fashion-mnist_train.csv  \n",
            "  inflating: t10k-labels-idx1-ubyte  \n",
            "1.21.5\n"
          ]
        }
      ]
    },
    {
      "cell_type": "markdown",
      "metadata": {
        "id": "WmrPRrN05iIF"
      },
      "source": [
        "## Set random seed"
      ]
    },
    {
      "cell_type": "code",
      "metadata": {
        "id": "DdzVvsn_5lIf"
      },
      "source": [
        "np.random.seed(1234)"
      ],
      "execution_count": 3,
      "outputs": []
    },
    {
      "cell_type": "markdown",
      "metadata": {
        "id": "KYGyiNcLBI8j"
      },
      "source": [
        "## Original Program"
      ]
    },
    {
      "cell_type": "code",
      "metadata": {
        "id": "9OGRmXk9BLh2"
      },
      "source": [
        "#################################################################\n",
        "# data loader class\n",
        "#################################################################\n",
        "class LoadData(Dataset):\n",
        "    def __init__(self, fName, transform=None):\n",
        "        data = pd.read_csv(fName)\n",
        "        self.X = np.array(data.iloc[:, 1:], dtype=np.uint8).reshape(-1, 1, 28, 28)\n",
        "        self.y = np.array(data.iloc[:, 0])\n",
        "                \n",
        "    def __len__(self):\n",
        "        return len(self.X)\n",
        "    \n",
        "    def __getitem__(self, idx):\n",
        "        img = self.X[idx]\n",
        "        lbl = self.y[idx]    \n",
        "        return (img, lbl)\n",
        "\n",
        "# load the image data \n",
        "train_ds = LoadData('fashion-mnist_train.csv')\n",
        "test_ds  = LoadData('fashion-mnist_test.csv')\n",
        "\n",
        "# set labels dictionary\n",
        "labels = {0 : 'T-Shirt', 1 : 'Trouser', 2 : 'Pullover', \n",
        "          3 : 'Dress', 4 : 'Coat', 5 : 'Sandal', 6 : 'Shirt',\n",
        "          7 : 'Sneaker', 8 : 'Bag', 9 : 'Ankle Boot'}\n",
        "\n",
        "im = Image.fromarray(train_ds[1][0].reshape(28,28))\n",
        "im.save(\"im1.pdf\")\n",
        "im = Image.fromarray(train_ds[4][0].reshape(28,28))\n",
        "im.save(\"im2.pdf\")\n",
        "\n",
        "# load the data in batches\n",
        "batch_size = 100\n",
        "\n",
        "train_loader = torch.utils.data.DataLoader(dataset=train_ds,\n",
        "                                           batch_size=batch_size,\n",
        "                                           shuffle=True)\n",
        "test_loader = torch.utils.data.DataLoader(dataset=test_ds,\n",
        "                                          batch_size=batch_size,\n",
        "                                          shuffle=True)     \n",
        "\n",
        "# define the network\n",
        "class CNN(nn.Module):\n",
        "    \n",
        "   def __init__(self):\n",
        "        super(CNN, self).__init__()\n",
        "                \n",
        "        self.cnn_layer = nn.Sequential(\n",
        "                nn.Conv2d(1, 16, kernel_size=3, stride=(1,1)),\n",
        "                nn.ReLU(),\n",
        "                nn.Conv2d(16, 32, kernel_size=3, stride=(1,1)),\n",
        "                nn.ReLU(),\n",
        "        )\n",
        "        self.flat_fts = (((28-3+1)-3+1)**2)*32\n",
        "    \n",
        "        \n",
        "        self.flat_layer = nn.Sequential(\n",
        "                nn.Linear(self.flat_fts, 100),\n",
        "                nn.ReLU(),\n",
        "                nn.Linear(100, 100),\n",
        "                nn.ReLU(),\n",
        "                nn.Linear(100, 100),\n",
        "                nn.ReLU(),\n",
        "                nn.Linear(100, 10))\n",
        "         \n",
        "   def forward(self, x):\n",
        "        out = self.cnn_layer(x)\n",
        "        out = out.view(-1, self.flat_fts)\n",
        "        out = self.flat_layer(out)               \n",
        "        return out"
      ],
      "execution_count": 4,
      "outputs": []
    },
    {
      "cell_type": "markdown",
      "source": [
        "## main"
      ],
      "metadata": {
        "id": "pn6COHK0dyhL"
      }
    },
    {
      "cell_type": "code",
      "source": [
        "# learning parameters     \n",
        "num_epochs = 50\n",
        "learning_rate = 0.001\n",
        "\n",
        "#device = torch.device ('cpu')\n",
        "device = torch.device ('cuda') # Uncomment this to run on GPU    \n",
        "    \n",
        "#instance of the Conv Net\n",
        "cnn = CNN()\n",
        "cnn.to(device=device)\n",
        "\n",
        "#loss function and optimizer\n",
        "criterion = nn.CrossEntropyLoss()\n",
        "optimizer = torch.optim.Adam(cnn.parameters(), lr=learning_rate)\n",
        "\n",
        "# the learning loop\n",
        "losses = []\n",
        "for epoch in range(1,num_epochs+1):\n",
        "    for i, (images, labels) in enumerate(train_loader):\n",
        "        images = Variable(images.float()).to(device=device)\n",
        "        labels = Variable(labels).to(device=device)\n",
        "               \n",
        "        optimizer.zero_grad()\n",
        "        outputs = cnn(images)\n",
        "        loss = criterion(outputs, labels)\n",
        "        loss.backward()\n",
        "        optimizer.step()\n",
        "        \n",
        "        losses.append(loss.item())\n",
        "    if(epoch == 1 or epoch % 10 == 0):    \n",
        "        print (\"Epoch : \", epoch, \", Training Loss: \",  loss.item())\n",
        "\n",
        "# evaluate on the test set\n",
        "cnn.eval()\n",
        "correct = 0\n",
        "total = 0\n",
        "for images, labels in test_loader:\n",
        "    images = Variable(images.float()).to(device=device)\n",
        "    outputs = cnn(images)\n",
        "    _, predicted = torch.max(outputs.data, 1)\n",
        "    total += labels.size(0)\n",
        "    correct += (predicted.cpu() == labels).sum()\n",
        "print(\"Test Accuracy of the model on the 10000 training test images: \", (100 * correct.item() / total),\"%\")\n",
        "\n",
        "# plot\n",
        "#plt.rc('text', usetex=True)\n",
        "#plt.rc('font', family='serif',size=12)\n",
        "#plt.tight_layout()\n",
        "      \n",
        "plt.plot(np.array(losses)[10:1000])\n",
        "plt.xlabel(r'{iteration}',fontsize=12)\n",
        "plt.ylabel(r'{Batch Loss}',fontsize=12)\n",
        "plt.subplots_adjust(top=0.8)\n",
        "plt.savefig(\"fashionloss.pdf\",bbox_inches = \"tight\")\n",
        "plt.show()"
      ],
      "metadata": {
        "colab": {
          "base_uri": "https://localhost:8080/",
          "height": 391
        },
        "id": "MU1XQe_cd0T3",
        "outputId": "781942b2-fd28-47d8-b74c-3b7d074f2bf1"
      },
      "execution_count": 5,
      "outputs": [
        {
          "output_type": "stream",
          "name": "stdout",
          "text": [
            "Epoch :  1 , Training Loss:  0.3528556823730469\n",
            "Epoch :  10 , Training Loss:  0.039832036942243576\n",
            "Epoch :  20 , Training Loss:  0.008292107842862606\n",
            "Epoch :  30 , Training Loss:  0.018436424434185028\n",
            "Epoch :  40 , Training Loss:  0.00075615628156811\n",
            "Epoch :  50 , Training Loss:  0.21108601987361908\n",
            "Test Accuracy of the model on the 10000 training test images:  90.33 %\n"
          ]
        },
        {
          "output_type": "display_data",
          "data": {
            "text/plain": [
              "<Figure size 432x288 with 1 Axes>"
            ],
            "image/png": "[encoded data removed]"
          },
          "metadata": {
            "needs_background": "light"
          }
        }
      ]
    }
  ]
}
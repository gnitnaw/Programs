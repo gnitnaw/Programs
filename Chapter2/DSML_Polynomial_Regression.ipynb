{
  "nbformat": 4,
  "nbformat_minor": 0,
  "metadata": {
    "colab": {
      "name": "DSML_Polynomial_Regression.ipynb",
      "provenance": [],
      "authorship_tag": "ABX9TyPYX6x2Zg8GsJHyczxPJfa0",
      "include_colab_link": true
    },
    "kernelspec": {
      "name": "python3",
      "display_name": "Python 3"
    },
    "language_info": {
      "name": "python"
    }
  },
  "cells": [
    {
      "cell_type": "markdown",
      "metadata": {
        "id": "view-in-github",
        "colab_type": "text"
      },
      "source": [
        "<a href=\"https://colab.research.google.com/github/gnitnaw/Programs/blob/master/Chapter2/DSML_Polynomial_Regression.ipynb\" target=\"_parent\"><img src=\"https://colab.research.google.com/assets/colab-badge.svg\" alt=\"Open In Colab\"/></a>"
      ]
    },
    {
      "cell_type": "markdown",
      "metadata": {
        "id": "xnftQv9vKBmV"
      },
      "source": [
        "# Example 2.1\n",
        "## Import modules\n"
      ]
    },
    {
      "cell_type": "code",
      "metadata": {
        "id": "2AHVzsgaKRr0"
      },
      "source": [
        "import numpy as np\n",
        "from numpy.random import rand , randn\n",
        "from numpy.linalg import norm , solve\n",
        "import matplotlib.pyplot as plt"
      ],
      "execution_count": null,
      "outputs": []
    },
    {
      "cell_type": "markdown",
      "metadata": {
        "id": "qARv_NKSMo8Y"
      },
      "source": [
        "## Define data generator"
      ]
    },
    {
      "cell_type": "code",
      "metadata": {
        "id": "rs2J83beMuQO"
      },
      "source": [
        "def generate_data(beta , sig, n):\n",
        "   u = np.random.rand(n, 1)\n",
        "   y = (u ** np.arange(0, 4)) @ beta + sig * np.random.randn(n, 1)\n",
        "   return u, y"
      ],
      "execution_count": null,
      "outputs": []
    },
    {
      "cell_type": "markdown",
      "metadata": {
        "id": "Lq-2SiZAMv13"
      },
      "source": [
        "## Set random seed"
      ]
    },
    {
      "cell_type": "code",
      "metadata": {
        "id": "Y3RSr_uSNo3N"
      },
      "source": [
        ""
      ],
      "execution_count": null,
      "outputs": []
    }
  ]
}
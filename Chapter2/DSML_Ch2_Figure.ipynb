{
  "nbformat": 4,
  "nbformat_minor": 0,
  "metadata": {
    "colab": {
      "provenance": [],
      "authorship_tag": "ABX9TyNG4Dyo+Z3vCCeuNsRr2SMK",
      "include_colab_link": true
    },
    "kernelspec": {
      "name": "python3",
      "display_name": "Python 3"
    },
    "language_info": {
      "name": "python"
    }
  },
  "cells": [
    {
      "cell_type": "markdown",
      "metadata": {
        "id": "view-in-github",
        "colab_type": "text"
      },
      "source": [
        "<a href=\"https://colab.research.google.com/github/gnitnaw/Programs/blob/master/Chapter2/DSML_Ch2_Figure.ipynb\" target=\"_parent\"><img src=\"https://colab.research.google.com/assets/colab-badge.svg\" alt=\"Open In Colab\"/></a>"
      ]
    },
    {
      "cell_type": "code",
      "execution_count": 1,
      "metadata": {
        "colab": {
          "base_uri": "https://localhost:8080/"
        },
        "id": "pUDVpaMLwsmp",
        "outputId": "ab23110e-93ca-40dc-c0e0-f395b60cca51"
      },
      "outputs": [
        {
          "output_type": "stream",
          "name": "stdout",
          "text": [
            "Python 3.10.12\n"
          ]
        }
      ],
      "source": [
        "!python --version"
      ]
    },
    {
      "cell_type": "markdown",
      "source": [
        "# 連接Google drive"
      ],
      "metadata": {
        "id": "u6taXBY-xFCj"
      }
    },
    {
      "cell_type": "code",
      "source": [
        "from google.colab import drive\n",
        "drive.mount('/content/drive')\n",
        "path_head = '/content/drive/MyDrive/Colab Notebooks/' # You have to change this."
      ],
      "metadata": {
        "colab": {
          "base_uri": "https://localhost:8080/"
        },
        "id": "gnOpII2DxF_k",
        "outputId": "56205c4e-15ef-44a9-fd2a-447c1680de14"
      },
      "execution_count": 2,
      "outputs": [
        {
          "output_type": "stream",
          "name": "stdout",
          "text": [
            "Mounted at /content/drive\n"
          ]
        }
      ]
    },
    {
      "cell_type": "markdown",
      "source": [
        "# 匯入模組"
      ],
      "metadata": {
        "id": "Tz6VIzXBw9yp"
      }
    },
    {
      "cell_type": "code",
      "source": [
        "import numpy as np\n",
        "from numpy.random import rand , randn\n",
        "import matplotlib.pyplot as plt\n",
        "import scipy\n",
        "import math\n",
        "from scipy.stats import beta\n",
        "print(scipy.__version__)\n",
        "print(np.__version__)\n",
        "from matplotlib.font_manager import fontManager\n",
        "import matplotlib as mpl\n",
        "# 設定字型的路徑\n",
        "\n",
        "#fontManager.addfont('/content/drive/MyDrive/Colab Notebooks/kaiu.ttf')\n",
        "#mpl.rc('font', family='DFKai-sb')\n",
        "\n",
        "for i in sorted(fontManager.get_font_names()):\n",
        "  print(i)\n",
        "\n",
        "fontManager.addfont('/content/drive/MyDrive/Colab Notebooks/NotoSansTC-Regular.ttf')\n",
        "\n",
        "for i in sorted(fontManager.get_font_names()):\n",
        "  print(i)\n",
        "\n",
        "mpl.rc('font', family='Noto Sans TC')\n",
        "parameters = {\"axes.labelsize\": 20, \"axes.titlesize\": 20, \"legend.fontsize\": 20, \"xtick.labelsize\": 20, \"ytick.labelsize\": 20}\n",
        "plt.rcParams.update(parameters)"
      ],
      "metadata": {
        "colab": {
          "base_uri": "https://localhost:8080/"
        },
        "id": "DyGM8jcbxAVc",
        "outputId": "da6534b4-fbc3-4513-c5a8-94c31c34983f"
      },
      "execution_count": 3,
      "outputs": [
        {
          "output_type": "stream",
          "name": "stdout",
          "text": [
            "1.11.4\n",
            "1.23.5\n",
            "DejaVu Sans\n",
            "DejaVu Sans Display\n",
            "DejaVu Sans Mono\n",
            "DejaVu Serif\n",
            "DejaVu Serif Display\n",
            "Humor Sans\n",
            "Liberation Mono\n",
            "Liberation Sans\n",
            "Liberation Sans Narrow\n",
            "Liberation Serif\n",
            "STIXGeneral\n",
            "STIXNonUnicode\n",
            "STIXSizeFiveSym\n",
            "STIXSizeFourSym\n",
            "STIXSizeOneSym\n",
            "STIXSizeThreeSym\n",
            "STIXSizeTwoSym\n",
            "cmb10\n",
            "cmex10\n",
            "cmmi10\n",
            "cmr10\n",
            "cmss10\n",
            "cmsy10\n",
            "cmtt10\n",
            "DejaVu Sans\n",
            "DejaVu Sans Display\n",
            "DejaVu Sans Mono\n",
            "DejaVu Serif\n",
            "DejaVu Serif Display\n",
            "Humor Sans\n",
            "Liberation Mono\n",
            "Liberation Sans\n",
            "Liberation Sans Narrow\n",
            "Liberation Serif\n",
            "Noto Sans TC\n",
            "STIXGeneral\n",
            "STIXNonUnicode\n",
            "STIXSizeFiveSym\n",
            "STIXSizeFourSym\n",
            "STIXSizeOneSym\n",
            "STIXSizeThreeSym\n",
            "STIXSizeTwoSym\n",
            "cmb10\n",
            "cmex10\n",
            "cmmi10\n",
            "cmr10\n",
            "cmss10\n",
            "cmsy10\n",
            "cmtt10\n"
          ]
        }
      ]
    },
    {
      "cell_type": "markdown",
      "source": [
        "# 圖2.14"
      ],
      "metadata": {
        "id": "YoL8Mw8V5gwp"
      }
    },
    {
      "cell_type": "code",
      "source": [
        "a=1\n",
        "b=100\n",
        "\n",
        "x = np.arange (0, 0.1, 0.001)\n",
        "y = beta.pdf(x,a,b)\n",
        "plt.plot(x,y)\n",
        "plt.show()"
      ],
      "metadata": {
        "colab": {
          "base_uri": "https://localhost:8080/",
          "height": 446
        },
        "id": "lQTwmgW65i_A",
        "outputId": "060a3b12-99f4-46c2-ae33-4ee76bde2073"
      },
      "execution_count": 27,
      "outputs": [
        {
          "output_type": "display_data",
          "data": {
            "text/plain": [
              "<Figure size 640x480 with 1 Axes>"
            ],
            "image/png": "[encoded data removed]"
          },
          "metadata": {}
        }
      ]
    }
  ]
}
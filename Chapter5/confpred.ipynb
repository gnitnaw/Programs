{
  "nbformat": 4,
  "nbformat_minor": 0,
  "metadata": {
    "colab": {
      "name": "confpred.ipynb",
      "provenance": [],
      "collapsed_sections": [],
      "authorship_tag": "ABX9TyM4PG79amhvS18OE9Yrr2gc",
      "include_colab_link": true
    },
    "kernelspec": {
      "name": "python3",
      "display_name": "Python 3"
    },
    "language_info": {
      "name": "python"
    }
  },
  "cells": [
    {
      "cell_type": "markdown",
      "metadata": {
        "id": "view-in-github",
        "colab_type": "text"
      },
      "source": [
        "<a href=\"https://colab.research.google.com/github/gnitnaw/Programs/blob/master/Chapter5/confpred.ipynb\" target=\"_parent\"><img src=\"https://colab.research.google.com/assets/colab-badge.svg\" alt=\"Open In Colab\"/></a>"
      ]
    },
    {
      "cell_type": "code",
      "metadata": {
        "colab": {
          "base_uri": "https://localhost:8080/"
        },
        "id": "NaWHJhVsAblT",
        "outputId": "33c6f9c7-44d1-4ebe-b7de-1fe77b31496b"
      },
      "source": [
        "!python --version"
      ],
      "execution_count": 1,
      "outputs": [
        {
          "output_type": "stream",
          "name": "stdout",
          "text": [
            "Python 3.7.12\n"
          ]
        }
      ]
    },
    {
      "cell_type": "markdown",
      "metadata": {
        "id": "LetQC4wyAgKh"
      },
      "source": [
        "# Example 5.7\n",
        "## Import modules"
      ]
    },
    {
      "cell_type": "code",
      "metadata": {
        "colab": {
          "base_uri": "https://localhost:8080/"
        },
        "id": "-bXKlDOvAoW5",
        "outputId": "5effbed9-de14-4019-cf2b-b9829c2eede2"
      },
      "source": [
        "import numpy as np\n",
        "import matplotlib.pyplot as plt\n",
        "from scipy.stats import t\n",
        "from  numpy.linalg import inv, lstsq, norm\n",
        "print(np.__version__)"
      ],
      "execution_count": 2,
      "outputs": [
        {
          "output_type": "stream",
          "name": "stdout",
          "text": [
            "1.19.5\n"
          ]
        }
      ]
    },
    {
      "cell_type": "markdown",
      "metadata": {
        "id": "WmrPRrN05iIF"
      },
      "source": [
        "## Set random seed"
      ]
    },
    {
      "cell_type": "code",
      "metadata": {
        "id": "DdzVvsn_5lIf"
      },
      "source": [
        "np.random.seed(123)"
      ],
      "execution_count": 3,
      "outputs": []
    },
    {
      "cell_type": "markdown",
      "metadata": {
        "id": "KYGyiNcLBI8j"
      },
      "source": [
        "## Original program"
      ]
    },
    {
      "cell_type": "code",
      "metadata": {
        "id": "9OGRmXk9BLh2",
        "colab": {
          "base_uri": "https://localhost:8080/",
          "height": 299
        },
        "outputId": "331e9873-d00a-4dd2-949f-e405faa46da5"
      },
      "source": [
        "n = 100\n",
        "x = np.linspace(0.01,1,100).reshape((n,1))\n",
        "# parameters\n",
        "beta = np.array([6,13])\n",
        "sigma = 2\n",
        "Xmat = np.hstack((np.ones((n,1)), x)) #design matrix\n",
        "y = Xmat @ beta + sigma*np.random.randn(n) \n",
        "\n",
        "# solve the normal equations\n",
        "betahat = lstsq(Xmat, y,rcond=None)[0] \n",
        "# estimate for sigma\n",
        "sqMSE = norm(y - Xmat @ betahat)/np.sqrt(n-2) \n",
        "\n",
        "tquant = t.ppf(0.975,n-2) # 0.975 quantile \n",
        "#upper/lower conf. limits\n",
        "ucl = np.zeros(n)\n",
        "lcl = np.zeros(n)  \n",
        "upl = np.zeros(n)  \n",
        "lpl = np.zeros(n)  \n",
        "rl = np.zeros(n)  # (true) regression line\n",
        "u = 0\n",
        "\n",
        "for i in range(n):\n",
        "    u = u + 1/n;\n",
        "    xvec = np.array([1,u])\n",
        "    sqc = np.sqrt(xvec.T @ inv(Xmat.T @ Xmat) @ xvec)\n",
        "    sqp = np.sqrt(1 + xvec.T @ inv(Xmat.T @ Xmat) @ xvec)\n",
        "    rl[i] = xvec.T @ beta;\n",
        "    ucl[i] = xvec.T @ betahat + tquant*sqMSE*sqc;\n",
        "    lcl[i] = xvec.T @ betahat - tquant*sqMSE*sqc;  \n",
        "    upl[i] = xvec.T @ betahat + tquant*sqMSE*sqp;\n",
        "    lpl[i] = xvec.T @ betahat - tquant*sqMSE*sqp;\n",
        "\n",
        "plt.plot(x,y, '.')\n",
        "plt.plot(x,rl,'b')\n",
        "plt.plot(x,ucl,'k:')\n",
        "plt.plot(x,lcl,'k:')\n",
        "plt.plot(x,upl,'r--')\n",
        "plt.plot(x,lpl,'r--') \n",
        "\n",
        "print(betahat)\n",
        "print(np.sqrt(sqMSE))"
      ],
      "execution_count": 4,
      "outputs": [
        {
          "output_type": "stream",
          "name": "stdout",
          "text": [
            "[ 6.02558346 13.05670234]\n",
            "1.5097450108508206\n"
          ]
        },
        {
          "output_type": "display_data",
          "data": {
            "image/png": "[encoded data removed]",
            "text/plain": [
              "<Figure size 432x288 with 1 Axes>"
            ]
          },
          "metadata": {
            "needs_background": "light"
          }
        }
      ]
    }
  ]
}
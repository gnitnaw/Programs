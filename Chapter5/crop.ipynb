{
  "nbformat": 4,
  "nbformat_minor": 0,
  "metadata": {
    "colab": {
      "name": "crop.ipynb",
      "provenance": [],
      "collapsed_sections": [],
      "authorship_tag": "ABX9TyOTFyXqL/JMpYSDgLwYL6CS",
      "include_colab_link": true
    },
    "kernelspec": {
      "name": "python3",
      "display_name": "Python 3"
    },
    "language_info": {
      "name": "python"
    }
  },
  "cells": [
    {
      "cell_type": "markdown",
      "metadata": {
        "id": "view-in-github",
        "colab_type": "text"
      },
      "source": [
        "<a href=\"https://colab.research.google.com/github/gnitnaw/Programs/blob/master/Chapter5/crop.ipynb\" target=\"_parent\"><img src=\"https://colab.research.google.com/assets/colab-badge.svg\" alt=\"Open In Colab\"/></a>"
      ]
    },
    {
      "cell_type": "code",
      "metadata": {
        "colab": {
          "base_uri": "https://localhost:8080/"
        },
        "id": "NaWHJhVsAblT",
        "outputId": "d3491f73-dc56-48dd-93dc-423bbe4421bf"
      },
      "source": [
        "!python --version"
      ],
      "execution_count": 1,
      "outputs": [
        {
          "output_type": "stream",
          "name": "stdout",
          "text": [
            "Python 3.7.12\n"
          ]
        }
      ]
    },
    {
      "cell_type": "markdown",
      "metadata": {
        "id": "LetQC4wyAgKh"
      },
      "source": [
        "# Example 5.6\n",
        "## Import modules"
      ]
    },
    {
      "cell_type": "code",
      "metadata": {
        "colab": {
          "base_uri": "https://localhost:8080/"
        },
        "id": "-bXKlDOvAoW5",
        "outputId": "12bf0d8a-c505-4d79-f855-5acac5525ed6"
      },
      "source": [
        "import numpy as np\n",
        "import matplotlib.pyplot as plt\n",
        "from scipy.stats import f\n",
        "from numpy.linalg import lstsq, norm \n",
        "print(np.__version__)"
      ],
      "execution_count": 2,
      "outputs": [
        {
          "output_type": "stream",
          "name": "stdout",
          "text": [
            "1.19.5\n"
          ]
        }
      ]
    },
    {
      "cell_type": "markdown",
      "metadata": {
        "id": "WmrPRrN05iIF"
      },
      "source": [
        "## Set random seed"
      ]
    },
    {
      "cell_type": "code",
      "metadata": {
        "id": "DdzVvsn_5lIf"
      },
      "source": [
        "np.random.seed(123)"
      ],
      "execution_count": 3,
      "outputs": []
    },
    {
      "cell_type": "markdown",
      "metadata": {
        "id": "KYGyiNcLBI8j"
      },
      "source": [
        "## Original program"
      ]
    },
    {
      "cell_type": "code",
      "metadata": {
        "id": "9OGRmXk9BLh2"
      },
      "source": [
        "yy = np.array([9.2988, 9.4978, 9.7604, 10.1025,\n",
        "      8.2111, 8.3387, 8.5018,  8.1942,\n",
        "      9.0688, 9.1284, 9.3484,  9.5086,\n",
        "      8.2552, 7.8999, 8.4859,  8.9485]).reshape(4,4).T\n",
        "\n",
        "nrow, ncol = yy.shape[0], yy.shape[1]\n",
        "n = nrow * ncol\n",
        "y = yy.reshape((16,))\n",
        "X_1 = np.ones((n,1))\n",
        "\n",
        "KM = np.kron(np.eye(ncol),np.ones((nrow,1)))\n",
        "KM[:,0]\n",
        "X_2 = KM[:,1:ncol]\n",
        "IM = np.eye(nrow)\n",
        "C = IM[:,1:nrow]\n",
        "\n",
        "X_3 = np.vstack((C, C))\n",
        "X_3 = np.vstack((X_3, C))\n",
        "X_3 = np.vstack((X_3, C))\n",
        " \n",
        "X = np.hstack((X_1,X_2))\n",
        "X = np.hstack((X,X_3))\n",
        "\n",
        "p = X.shape[1] #number of parameters in full model\n",
        "betahat = lstsq(X, y,rcond=None)[0]  #estimate under the full model\n",
        "\n",
        "ym = X @ betahat\n",
        "\n",
        "X_12 = np.hstack((X_1, X_2)) #omitting the block effect\n",
        "k = X_12.shape[1] #number of parameters in reduced model\n",
        "betahat_12 = lstsq(X_12, y,rcond=None)[0] \n",
        "y_12 = X_12 @ betahat_12\n",
        "\n",
        "T_12=(n-p)/(p-k)*(norm(y-y_12)**2 - \n",
        "      norm(y-ym)**2)/norm(y-ym)**2\n",
        "\n",
        "pval_12 = 1 - f.cdf(T_12,p-k,n-p)\n",
        "\n",
        "X_13 = np.hstack((X_1, X_3)) #omitting the treatment effect\n",
        "k = X_13.shape[1] #number of parameters in reduced model\n",
        "betahat_13 = lstsq(X_13, y,rcond=None)[0]\n",
        "y_13 = X_13 @ betahat_13\n",
        "T_13=(n-p)/(p-k)*(norm(y-y_13)**2 - \n",
        "      norm(y-ym)**2)/norm(y-ym)**2\n",
        "pval_13 = 1 - f.cdf(T_13,p-k,n-p)"
      ],
      "execution_count": 4,
      "outputs": []
    },
    {
      "cell_type": "code",
      "metadata": {
        "colab": {
          "base_uri": "https://localhost:8080/"
        },
        "id": "PdzDgsUVTyMX",
        "outputId": "e3357a00-2a2a-4c01-de84-cb88392aac26"
      },
      "source": [
        "print(T_12)\n",
        "print(pval_12)\n",
        "print(T_13)\n",
        "print(pval_13)"
      ],
      "execution_count": 5,
      "outputs": [
        {
          "output_type": "stream",
          "name": "stdout",
          "text": [
            "34.99983323007471\n",
            "2.730857009958232e-05\n",
            "4.487834365014458\n",
            "0.03455786133297134\n"
          ]
        }
      ]
    }
  ]
}
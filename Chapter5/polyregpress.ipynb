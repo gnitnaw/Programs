{
  "nbformat": 4,
  "nbformat_minor": 0,
  "metadata": {
    "colab": {
      "name": "polyregpress.ipynb",
      "provenance": [],
      "collapsed_sections": [],
      "authorship_tag": "ABX9TyM2CO2/TlWpedxuQsCeAis0",
      "include_colab_link": true
    },
    "kernelspec": {
      "name": "python3",
      "display_name": "Python 3"
    },
    "language_info": {
      "name": "python"
    }
  },
  "cells": [
    {
      "cell_type": "markdown",
      "metadata": {
        "id": "view-in-github",
        "colab_type": "text"
      },
      "source": [
        "<a href=\"https://colab.research.google.com/github/gnitnaw/Programs/blob/master/Chapter5/polyregpress.ipynb\" target=\"_parent\"><img src=\"https://colab.research.google.com/assets/colab-badge.svg\" alt=\"Open In Colab\"/></a>"
      ]
    },
    {
      "cell_type": "code",
      "metadata": {
        "colab": {
          "base_uri": "https://localhost:8080/"
        },
        "id": "WTQqpFxEvlv2",
        "outputId": "5b2da159-b401-4839-ce1d-f922b4762ef7"
      },
      "source": [
        "!python --version"
      ],
      "execution_count": 1,
      "outputs": [
        {
          "output_type": "stream",
          "name": "stdout",
          "text": [
            "Python 3.7.12\n"
          ]
        }
      ]
    },
    {
      "cell_type": "markdown",
      "metadata": {
        "id": "xnftQv9vKBmV"
      },
      "source": [
        "# Example 5.2\n",
        "## Import modules\n"
      ]
    },
    {
      "cell_type": "code",
      "metadata": {
        "colab": {
          "base_uri": "https://localhost:8080/"
        },
        "id": "2AHVzsgaKRr0",
        "outputId": "3229cae2-0d8d-4eb1-c32c-33bb25d67ab0"
      },
      "source": [
        "import numpy as np\n",
        "from numpy.random import rand, randn\n",
        "from numpy.linalg import norm, solve\n",
        "import matplotlib.pyplot as plt\n",
        "from sklearn.preprocessing import PolynomialFeatures\n",
        "\n",
        "from scipy.linalg import hilbert # Add Hibert matrix\n",
        "import scipy\n",
        "import math \n",
        "from scipy.special import gamma\n",
        "print(scipy.__version__)\n",
        "print(np.__version__)"
      ],
      "execution_count": 2,
      "outputs": [
        {
          "output_type": "stream",
          "name": "stdout",
          "text": [
            "1.4.1\n",
            "1.19.5\n"
          ]
        }
      ]
    },
    {
      "cell_type": "markdown",
      "metadata": {
        "id": "qARv_NKSMo8Y"
      },
      "source": [
        "## Define data generator"
      ]
    },
    {
      "cell_type": "code",
      "metadata": {
        "id": "rs2J83beMuQO"
      },
      "source": [
        "def generate_data(beta , sig, n):\n",
        "    u = np.random.rand(n, 1)\n",
        "    y = u ** np.arange(0, 4) @ beta.reshape((4,1)) + sig * np.random.randn(n, 1)\n",
        "    return u.reshape((n,)), y.reshape((n,))"
      ],
      "execution_count": 3,
      "outputs": []
    },
    {
      "cell_type": "markdown",
      "metadata": {
        "id": "Lq-2SiZAMv13"
      },
      "source": [
        "## Set random seed"
      ]
    },
    {
      "cell_type": "code",
      "metadata": {
        "id": "Y3RSr_uSNo3N"
      },
      "source": [
        "np.random.seed(12)\n",
        "#np.random.seed(1200)"
      ],
      "execution_count": 4,
      "outputs": []
    },
    {
      "cell_type": "markdown",
      "metadata": {
        "id": "nQITO1l0QCMb"
      },
      "source": [
        "## Original program"
      ]
    },
    {
      "cell_type": "code",
      "metadata": {
        "colab": {
          "base_uri": "https://localhost:8080/",
          "height": 265
        },
        "id": "Za25l4IfQJfg",
        "outputId": "0c0aca19-269e-45f2-e9db-99b83d88875f"
      },
      "source": [
        "beta = np.array([10, -140, 400, -250]);\n",
        "sig=5; n = 10**2;\n",
        "u,y = generate_data(beta,sig,n)\n",
        "\n",
        "K = 12 #maximum number of parameters\n",
        "press = np.zeros(K)\n",
        "for k in range(K):\n",
        "    poly = PolynomialFeatures(k)\n",
        "    X = poly.fit_transform(u.reshape(-1, 1)) # construct the model matrix\n",
        "    P = X @ (np.linalg.inv(X.T @ X) @ (X.T)) # hat matrix\n",
        "    e = y - P @ y\n",
        "\n",
        "    press[k] = np.mean(np.power(np.divide(e,(1-np.diag(P))),2))\n",
        "\n",
        "plt.plot(press) \n",
        "# %%%%%%%%%%%%%%%%%%%%%%%%%%%%%%%%%%%%%%%%%\n",
        "plt.show()\n",
        "# %%%%%%%%%%%%%%%%%%%%%%%%%%%%%%%%%%%%%%%%%"
      ],
      "execution_count": 5,
      "outputs": [
        {
          "output_type": "display_data",
          "data": {
            "image/png": "[encoded data removed]",
            "text/plain": [
              "<Figure size 432x288 with 1 Axes>"
            ]
          },
          "metadata": {
            "needs_background": "light"
          }
        }
      ]
    }
  ]
}
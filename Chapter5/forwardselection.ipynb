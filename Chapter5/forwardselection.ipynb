{
  "nbformat": 4,
  "nbformat_minor": 0,
  "metadata": {
    "colab": {
      "name": "forwardselection.ipynb",
      "provenance": [],
      "collapsed_sections": [],
      "authorship_tag": "ABX9TyNDf7i/UzoX4xUrKdtjZAJC",
      "include_colab_link": true
    },
    "kernelspec": {
      "name": "python3",
      "display_name": "Python 3"
    },
    "language_info": {
      "name": "python"
    }
  },
  "cells": [
    {
      "cell_type": "markdown",
      "metadata": {
        "id": "view-in-github",
        "colab_type": "text"
      },
      "source": [
        "<a href=\"https://colab.research.google.com/github/gnitnaw/Programs/blob/master/Chapter5/forwardselection.ipynb\" target=\"_parent\"><img src=\"https://colab.research.google.com/assets/colab-badge.svg\" alt=\"Open In Colab\"/></a>"
      ]
    },
    {
      "cell_type": "code",
      "metadata": {
        "colab": {
          "base_uri": "https://localhost:8080/"
        },
        "id": "WTQqpFxEvlv2",
        "outputId": "56608bf5-96fe-475f-81af-4a073c330fc2"
      },
      "source": [
        "!python --version"
      ],
      "execution_count": 1,
      "outputs": [
        {
          "output_type": "stream",
          "name": "stdout",
          "text": [
            "Python 3.7.12\n"
          ]
        }
      ]
    },
    {
      "cell_type": "markdown",
      "metadata": {
        "id": "xnftQv9vKBmV"
      },
      "source": [
        "## Import modules\n"
      ]
    },
    {
      "cell_type": "code",
      "metadata": {
        "colab": {
          "base_uri": "https://localhost:8080/"
        },
        "id": "2AHVzsgaKRr0",
        "outputId": "c6c72f95-caea-4bbe-b5b6-ab00d177c9f5"
      },
      "source": [
        "import matplotlib.pyplot as plt\n",
        "import pandas as pd\n",
        "import statsmodels.api as sm\n",
        "from statsmodels.formula .api import ols\n",
        "import numpy as np \n",
        "print(np.__version__)"
      ],
      "execution_count": 2,
      "outputs": [
        {
          "output_type": "stream",
          "name": "stderr",
          "text": [
            "/usr/local/lib/python3.7/dist-packages/statsmodels/tools/_testing.py:19: FutureWarning: pandas.util.testing is deprecated. Use the functions in the public API at pandas.testing instead.\n",
            "  import pandas.util.testing as tm\n"
          ]
        },
        {
          "output_type": "stream",
          "name": "stdout",
          "text": [
            "1.19.5\n"
          ]
        }
      ]
    },
    {
      "cell_type": "markdown",
      "metadata": {
        "id": "Lq-2SiZAMv13"
      },
      "source": [
        "## Set random seed"
      ]
    },
    {
      "cell_type": "code",
      "metadata": {
        "id": "Y3RSr_uSNo3N"
      },
      "source": [
        "np.random.seed(12)\n",
        "#np.random.seed(1200)"
      ],
      "execution_count": 3,
      "outputs": []
    },
    {
      "cell_type": "markdown",
      "metadata": {
        "id": "nQITO1l0QCMb"
      },
      "source": [
        "## Original program"
      ]
    },
    {
      "cell_type": "code",
      "metadata": {
        "colab": {
          "base_uri": "https://localhost:8080/",
          "height": 1000
        },
        "id": "Za25l4IfQJfg",
        "outputId": "f7ae21a1-d0e7-4b7b-d2b0-b694399327b4"
      },
      "source": [
        "bwt = sm.datasets.get_rdataset(\"birthwt\",\"MASS\").data\n",
        "ftv1 = (bwt['ftv']>=1).astype(int)\n",
        "ptl1 = (bwt['ptl']>=1).astype(int)\n",
        "\n",
        "remaining_features = {'lwt', 'age', 'C(ui)', 'C(smoke)',\n",
        "                      'C(ht)', 'ftv1', 'ptl1'}\n",
        "selected_features = []\n",
        "while remaining_features: \n",
        "  PF = []  #list of (P value, feature)\n",
        "  for f in remaining_features:\n",
        "    temp = selected_features + [f]  #temporary list of features\n",
        "    formula = 'bwt~' + '+'.join(temp) \n",
        "    fit = ols(formula,data=bwt).fit()  \n",
        "    pval= fit.pvalues[-1]\n",
        "    if pval < 0.05:\n",
        "       PF.append((pval,f))\n",
        "  if PF:  #if not empty\n",
        "     PF.sort(reverse=True)\n",
        "     (best_pval, best_f) = PF.pop()\n",
        "     remaining_features.remove(best_f)\n",
        "     print('feature {} with p-value = {:.2E}'.\n",
        "            format(best_f, best_pval))\n",
        "     selected_features.append(best_f)\n",
        "  else:\n",
        "     break\n",
        " \n",
        "formula = 'bwt~lwt+age+C(race)+ smoke'\n",
        "bwt_model = ols(formula, data=bwt).fit()\n",
        "print(bwt_model.summary())\n",
        "\n",
        "formula = 'bwt~age*smoke'\n",
        "bwt_model = ols(formula, data=bwt).fit()\n",
        "print(bwt_model.summary())\n",
        "bwt_model.conf_int()\n",
        "\n",
        "bwt['nonsmoke'] = 1 - bwt['smoke'] \n",
        "formula = 'bwt~lwt+age*nonsmoke'\n",
        "bwt_model = ols(formula, data=bwt).fit()\n",
        "bwt_model.conf_int()"
      ],
      "execution_count": 4,
      "outputs": [
        {
          "output_type": "stream",
          "name": "stdout",
          "text": [
            "feature C(ui) with p-value = 7.52E-05\n",
            "feature C(ht) with p-value = 1.08E-02\n",
            "feature lwt with p-value = 6.01E-03\n",
            "feature C(smoke) with p-value = 7.27E-03\n",
            "                            OLS Regression Results                            \n",
            "==============================================================================\n",
            "Dep. Variable:                    bwt   R-squared:                       0.148\n",
            "Model:                            OLS   Adj. R-squared:                  0.125\n",
            "Method:                 Least Squares   F-statistic:                     6.373\n",
            "Date:                Fri, 19 Nov 2021   Prob (F-statistic):           1.76e-05\n",
            "Time:                        17:22:20   Log-Likelihood:                -1498.4\n",
            "No. Observations:                 189   AIC:                             3009.\n",
            "Df Residuals:                     183   BIC:                             3028.\n",
            "Df Model:                           5                                         \n",
            "Covariance Type:            nonrobust                                         \n",
            "================================================================================\n",
            "                   coef    std err          t      P>|t|      [0.025      0.975]\n",
            "--------------------------------------------------------------------------------\n",
            "Intercept     2839.4334    321.435      8.834      0.000    2205.239    3473.628\n",
            "C(race)[T.2]  -510.5015    157.077     -3.250      0.001    -820.416    -200.587\n",
            "C(race)[T.3]  -398.6439    119.579     -3.334      0.001    -634.575    -162.713\n",
            "lwt              3.9999      1.738      2.301      0.022       0.571       7.429\n",
            "age             -1.9478      9.820     -0.198      0.843     -21.323      17.427\n",
            "smoke         -401.7205    109.241     -3.677      0.000    -617.254    -186.187\n",
            "==============================================================================\n",
            "Omnibus:                        3.916   Durbin-Watson:                   0.458\n",
            "Prob(Omnibus):                  0.141   Jarque-Bera (JB):                3.718\n",
            "Skew:                          -0.343   Prob(JB):                        0.156\n",
            "Kurtosis:                       3.038   Cond. No.                         899.\n",
            "==============================================================================\n",
            "\n",
            "Warnings:\n",
            "[1] Standard Errors assume that the covariance matrix of the errors is correctly specified.\n",
            "                            OLS Regression Results                            \n",
            "==============================================================================\n",
            "Dep. Variable:                    bwt   R-squared:                       0.069\n",
            "Model:                            OLS   Adj. R-squared:                  0.054\n",
            "Method:                 Least Squares   F-statistic:                     4.577\n",
            "Date:                Fri, 19 Nov 2021   Prob (F-statistic):            0.00407\n",
            "Time:                        17:22:20   Log-Likelihood:                -1506.8\n",
            "No. Observations:                 189   AIC:                             3022.\n",
            "Df Residuals:                     185   BIC:                             3035.\n",
            "Df Model:                           3                                         \n",
            "Covariance Type:            nonrobust                                         \n",
            "==============================================================================\n",
            "                 coef    std err          t      P>|t|      [0.025      0.975]\n",
            "------------------------------------------------------------------------------\n",
            "Intercept   2406.0580    292.190      8.235      0.000    1829.606    2982.510\n",
            "age           27.7314     12.149      2.283      0.024       3.763      51.700\n",
            "smoke        798.1749    484.342      1.648      0.101    -157.368    1753.718\n",
            "age:smoke    -46.5719     20.447     -2.278      0.024     -86.911      -6.232\n",
            "==============================================================================\n",
            "Omnibus:                        5.015   Durbin-Watson:                   0.230\n",
            "Prob(Omnibus):                  0.081   Jarque-Bera (JB):                5.057\n",
            "Skew:                          -0.398   Prob(JB):                       0.0798\n",
            "Kurtosis:                       2.903   Cond. No.                         263.\n",
            "==============================================================================\n",
            "\n",
            "Warnings:\n",
            "[1] Standard Errors assume that the covariance matrix of the errors is correctly specified.\n"
          ]
        },
        {
          "output_type": "execute_result",
          "data": {
            "text/html": [
              "<div>\n",
              "<style scoped>\n",
              "    .dataframe tbody tr th:only-of-type {\n",
              "        vertical-align: middle;\n",
              "    }\n",
              "\n",
              "    .dataframe tbody tr th {\n",
              "        vertical-align: top;\n",
              "    }\n",
              "\n",
              "    .dataframe thead th {\n",
              "        text-align: right;\n",
              "    }\n",
              "</style>\n",
              "<table border=\"1\" class=\"dataframe\">\n",
              "  <thead>\n",
              "    <tr style=\"text-align: right;\">\n",
              "      <th></th>\n",
              "      <th>0</th>\n",
              "      <th>1</th>\n",
              "    </tr>\n",
              "  </thead>\n",
              "  <tbody>\n",
              "    <tr>\n",
              "      <th>Intercept</th>\n",
              "      <td>1954.252680</td>\n",
              "      <td>3615.039973</td>\n",
              "    </tr>\n",
              "    <tr>\n",
              "      <th>lwt</th>\n",
              "      <td>0.662190</td>\n",
              "      <td>7.369973</td>\n",
              "    </tr>\n",
              "    <tr>\n",
              "      <th>age</th>\n",
              "      <td>-55.220626</td>\n",
              "      <td>9.257946</td>\n",
              "    </tr>\n",
              "    <tr>\n",
              "      <th>nonsmoke</th>\n",
              "      <td>-1751.426898</td>\n",
              "      <td>136.557576</td>\n",
              "    </tr>\n",
              "    <tr>\n",
              "      <th>age:nonsmoke</th>\n",
              "      <td>6.728281</td>\n",
              "      <td>86.429335</td>\n",
              "    </tr>\n",
              "  </tbody>\n",
              "</table>\n",
              "</div>"
            ],
            "text/plain": [
              "                        0            1\n",
              "Intercept     1954.252680  3615.039973\n",
              "lwt              0.662190     7.369973\n",
              "age            -55.220626     9.257946\n",
              "nonsmoke     -1751.426898   136.557576\n",
              "age:nonsmoke     6.728281    86.429335"
            ]
          },
          "metadata": {},
          "execution_count": 4
        }
      ]
    },
    {
      "cell_type": "code",
      "metadata": {
        "colab": {
          "base_uri": "https://localhost:8080/"
        },
        "id": "s4-zYLPWOZ00",
        "outputId": "6fa9eb52-4a41-43d2-cd8b-9f027b68a23b"
      },
      "source": [
        "bwt.info()"
      ],
      "execution_count": 5,
      "outputs": [
        {
          "output_type": "stream",
          "name": "stdout",
          "text": [
            "<class 'pandas.core.frame.DataFrame'>\n",
            "Int64Index: 189 entries, 85 to 84\n",
            "Data columns (total 11 columns):\n",
            " #   Column    Non-Null Count  Dtype\n",
            "---  ------    --------------  -----\n",
            " 0   low       189 non-null    int64\n",
            " 1   age       189 non-null    int64\n",
            " 2   lwt       189 non-null    int64\n",
            " 3   race      189 non-null    int64\n",
            " 4   smoke     189 non-null    int64\n",
            " 5   ptl       189 non-null    int64\n",
            " 6   ht        189 non-null    int64\n",
            " 7   ui        189 non-null    int64\n",
            " 8   ftv       189 non-null    int64\n",
            " 9   bwt       189 non-null    int64\n",
            " 10  nonsmoke  189 non-null    int64\n",
            "dtypes: int64(11)\n",
            "memory usage: 17.7 KB\n"
          ]
        }
      ]
    }
  ]
}
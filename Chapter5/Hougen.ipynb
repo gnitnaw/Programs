{
  "nbformat": 4,
  "nbformat_minor": 0,
  "metadata": {
    "colab": {
      "name": "Hougen.ipynb",
      "provenance": [],
      "collapsed_sections": [],
      "authorship_tag": "ABX9TyN/Xelrt7yrn82Ox1RfHGWs",
      "include_colab_link": true
    },
    "kernelspec": {
      "name": "python3",
      "display_name": "Python 3"
    },
    "language_info": {
      "name": "python"
    }
  },
  "cells": [
    {
      "cell_type": "markdown",
      "metadata": {
        "id": "view-in-github",
        "colab_type": "text"
      },
      "source": [
        "<a href=\"https://colab.research.google.com/github/gnitnaw/Programs/blob/master/Chapter5/Hougen.ipynb\" target=\"_parent\"><img src=\"https://colab.research.google.com/assets/colab-badge.svg\" alt=\"Open In Colab\"/></a>"
      ]
    },
    {
      "cell_type": "code",
      "metadata": {
        "colab": {
          "base_uri": "https://localhost:8080/"
        },
        "id": "NaWHJhVsAblT",
        "outputId": "4195aeca-14e3-47eb-c029-a6c21a632ee9"
      },
      "source": [
        "!python --version"
      ],
      "execution_count": 1,
      "outputs": [
        {
          "output_type": "stream",
          "name": "stdout",
          "text": [
            "Python 3.7.12\n"
          ]
        }
      ]
    },
    {
      "cell_type": "markdown",
      "metadata": {
        "id": "LetQC4wyAgKh"
      },
      "source": [
        "# Example 5.9\n",
        "## Import modules"
      ]
    },
    {
      "cell_type": "code",
      "metadata": {
        "colab": {
          "base_uri": "https://localhost:8080/"
        },
        "id": "-bXKlDOvAoW5",
        "outputId": "694d3be8-ca2f-44de-9703-53f667862d70"
      },
      "source": [
        "import numpy as np\n",
        "from scipy.stats import multivariate_normal\n",
        "import matplotlib.pyplot as plt\n",
        "print(np.__version__)"
      ],
      "execution_count": 2,
      "outputs": [
        {
          "output_type": "stream",
          "name": "stdout",
          "text": [
            "1.19.5\n"
          ]
        }
      ]
    },
    {
      "cell_type": "markdown",
      "metadata": {
        "id": "WmrPRrN05iIF"
      },
      "source": [
        "## Set random seed"
      ]
    },
    {
      "cell_type": "code",
      "metadata": {
        "id": "DdzVvsn_5lIf"
      },
      "source": [
        "np.random.seed(1789)"
      ],
      "execution_count": 3,
      "outputs": []
    },
    {
      "cell_type": "markdown",
      "metadata": {
        "id": "KYGyiNcLBI8j"
      },
      "source": [
        "## Original Program"
      ]
    },
    {
      "cell_type": "code",
      "metadata": {
        "colab": {
          "base_uri": "https://localhost:8080/"
        },
        "id": "9OGRmXk9BLh2",
        "outputId": "4081e3a0-ad1b-4741-a896-538a2fd94667"
      },
      "source": [
        "#np.set_printoptions(precision=8)\n",
        "Xmat = np.array([470, 300,  10,\n",
        "                 285,  80,  10,  \n",
        "                 470, 300, 120, \n",
        "                 470,  80, 120, \n",
        "                 470,  80,  10,\n",
        "                 100, 190,  10,\n",
        "                 100,  80,  65,\n",
        "                 470, 190,  65,\n",
        "                 100, 300,  54,\n",
        "                 100, 300, 120,\n",
        "                 100,  80, 120,\n",
        "                 285, 300,  10,\n",
        "                 285, 190, 120]).reshape(13,3)\n",
        "\n",
        "Ymat = np.array([8.55, 3.79, 4.82, 0.02, 2.75, 14.39, 2.54,\n",
        "                 4.35, 13.00, 8.50, 0.05, 11.32, 3.13])\n",
        "beta_D = 5  # dim of beta\n",
        "n, D = Xmat.shape  # n: No. of sample, D: dim. of x\n",
        "N = 10000   # Generate sample number\n",
        "rho = 0.05  # elite sample rate\n",
        "rho2 = 0.5\n",
        "\n",
        "def HougenFunc(x, beta):\n",
        "    return (beta[0]*x[1]-x[2]/beta[4])/(1+beta[1]*x[0]+beta[2]*x[1]+beta[3]*x[2])\n",
        "\n",
        "def lossFunc(X, Y, beta, n):\n",
        "    err = 0.0\n",
        "    for i in range(n):\n",
        "        err += (Y[i]-HougenFunc(X[i], beta))**2\n",
        "        #print(X[i])\n",
        "        #print(HougenFunc(X[i], beta))\n",
        "        #print(Y[i])\n",
        "        #print(err)\n",
        "\n",
        "    return err/n\n",
        "\n",
        "def minLoss(N, n, D, X, Y):\n",
        "    Ne = int(rho*N)\n",
        "    beta_cand = np.random.uniform(0.0, 1.0, (N, beta_D))\n",
        "    errs = np.zeros(N)\n",
        "    #print(beta_cand)\n",
        "    for k in range(100):\n",
        "        for i in range(N):\n",
        "            errs[i] = lossFunc(X, Y, beta_cand[i], n)\n",
        "        #print(errs)\n",
        "        sortErrs = np.argsort(errs)\n",
        "        err = errs[sortErrs[0]]\n",
        "        elIds = sortErrs[0:Ne]\n",
        "        elites = beta_cand[elIds].copy()\n",
        "        means = np.mean(elites, axis=0)\n",
        "        stds = np.std(elites, axis=0)\n",
        "        #print(elites)\n",
        "        beta_temp = np.zeros((beta_D, N))\n",
        "        for i in range(beta_D):\n",
        "            beta_temp[i] = np.random.normal(means[i], stds[i], N)\n",
        "        beta_cand = beta_temp.T\n",
        "        for i in range(Ne):\n",
        "            beta_cand[i] = elites[i]\n",
        "\n",
        "    return beta_cand[0], err\n",
        "\n",
        "def minLossBeta(beta, N, n, D, X, Y):\n",
        "    Ne = int(rho*N)\n",
        "    beta_temp = np.zeros((beta_D, N))\n",
        "    for i in range(beta_D):\n",
        "        beta_temp[i] = np.random.normal(beta[i], beta[i]*0.05, N)\n",
        "    beta_cand = beta_temp.T\n",
        "    beta_cand[0] = beta\n",
        "    errs = np.zeros(N)\n",
        "    #print(beta_cand)\n",
        "    for k in range(100):\n",
        "        for i in range(N):\n",
        "            errs[i] = lossFunc(X, Y, beta_cand[i], n)\n",
        "        #print(errs)\n",
        "        sortErrs = np.argsort(errs)\n",
        "        err = errs[sortErrs[0]]\n",
        "        elIds = sortErrs[0:Ne]\n",
        "        elites = beta_cand[elIds].copy()\n",
        "        means = np.mean(elites, axis=0)\n",
        "        stds = np.std(elites, axis=0)\n",
        "        #print(elites)\n",
        "        beta_temp = np.zeros((beta_D, N))\n",
        "        for i in range(beta_D):\n",
        "            beta_temp[i] = np.random.normal(means[i], stds[i], N)\n",
        "        beta_cand = beta_temp.T\n",
        "        for i in range(Ne):\n",
        "            beta_cand[i] = elites[i]\n",
        "\n",
        "    return beta_cand[0], err\n",
        "\n",
        "beta_test = np.array([1.2526, 0.0628, 0.0400, 0.1124, 1.1914])\n",
        "\n",
        "beta_Best, err = minLoss(N, n, D, Xmat, Ymat)\n",
        "bb, ee = minLossBeta(beta_Best, N, n, D, Xmat, Ymat)\n",
        "print(\"beta = \", bb, \" , err = \", ee)\n",
        "print(\"beta of book = \", beta_test, \", err = \", lossFunc(Xmat, Ymat, beta_test, n))\n",
        "\n"
      ],
      "execution_count": 4,
      "outputs": [
        {
          "output_type": "stream",
          "name": "stdout",
          "text": [
            "beta =  [1.264247   0.06336153 0.04046199 0.11342153 1.18025168]  , err =  0.022992904555807107\n",
            "beta of book =  [1.2526 0.0628 0.04   0.1124 1.1914] , err =  0.023000681815053\n"
          ]
        }
      ]
    }
  ]
}
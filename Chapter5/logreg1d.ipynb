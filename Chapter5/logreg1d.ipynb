{
  "nbformat": 4,
  "nbformat_minor": 0,
  "metadata": {
    "colab": {
      "name": "logreg1d.ipynb",
      "provenance": [],
      "collapsed_sections": [],
      "authorship_tag": "ABX9TyODYjyMbLhBRZyNCP4D8z58",
      "include_colab_link": true
    },
    "kernelspec": {
      "name": "python3",
      "display_name": "Python 3"
    },
    "language_info": {
      "name": "python"
    }
  },
  "cells": [
    {
      "cell_type": "markdown",
      "metadata": {
        "id": "view-in-github",
        "colab_type": "text"
      },
      "source": [
        "<a href=\"https://colab.research.google.com/github/gnitnaw/Programs/blob/master/Chapter5/logreg1d.ipynb\" target=\"_parent\"><img src=\"https://colab.research.google.com/assets/colab-badge.svg\" alt=\"Open In Colab\"/></a>"
      ]
    },
    {
      "cell_type": "code",
      "metadata": {
        "colab": {
          "base_uri": "https://localhost:8080/"
        },
        "id": "WTQqpFxEvlv2",
        "outputId": "46d8ac54-81f7-4bc5-b92e-5a6c9eaa53c5"
      },
      "source": [
        "!python --version"
      ],
      "execution_count": null,
      "outputs": [
        {
          "output_type": "stream",
          "name": "stdout",
          "text": [
            "Python 3.7.12\n"
          ]
        }
      ]
    },
    {
      "cell_type": "markdown",
      "metadata": {
        "id": "xnftQv9vKBmV"
      },
      "source": [
        "## Import modules\n"
      ]
    },
    {
      "cell_type": "code",
      "metadata": {
        "colab": {
          "base_uri": "https://localhost:8080/"
        },
        "id": "2AHVzsgaKRr0",
        "outputId": "3e633688-3413-4ae7-87bf-19e926b5f114"
      },
      "source": [
        "import numpy as np\n",
        "import matplotlib.pyplot as plt\n",
        "from  numpy.linalg import lstsq\n",
        "print(np.__version__)"
      ],
      "execution_count": null,
      "outputs": [
        {
          "output_type": "stream",
          "name": "stdout",
          "text": [
            "1.19.5\n"
          ]
        }
      ]
    },
    {
      "cell_type": "markdown",
      "metadata": {
        "id": "Lq-2SiZAMv13"
      },
      "source": [
        "## Set random seed"
      ]
    },
    {
      "cell_type": "code",
      "metadata": {
        "id": "Y3RSr_uSNo3N"
      },
      "source": [
        "np.random.seed(12)\n",
        "#np.random.seed(1200)"
      ],
      "execution_count": null,
      "outputs": []
    },
    {
      "cell_type": "markdown",
      "metadata": {
        "id": "nQITO1l0QCMb"
      },
      "source": [
        "## Original program"
      ]
    },
    {
      "cell_type": "code",
      "metadata": {
        "colab": {
          "base_uri": "https://localhost:8080/",
          "height": 228
        },
        "id": "Za25l4IfQJfg",
        "outputId": "6cf70099-6e7f-4a82-b101-347b7f0f35b6"
      },
      "source": [
        "n = 100                                      # sample size\n",
        "x = (2*np.random.rand(n)-1).reshape((n,1))  # explanatory variables\n",
        "beta = np.array([-3, 10])\n",
        "Xmat = np.hstack((np.ones((n,1)), x))\n",
        "p = 1/(1 + np.exp(-Xmat @ beta))\n",
        "\n",
        "y = np.random.binomial(1,p,n)                # response variables\n",
        "\n",
        "# initial guess\n",
        "betat = lstsq((Xmat.T @ Xmat),Xmat.T @ y, rcond=None)[0]\n",
        "\n",
        "grad = np.array([2,1])                             # gradient \n",
        "\n",
        "while (np.sum(np.abs(grad)) > 1e-5) :      # stopping criteria\n",
        "    mu = 1/(1+np.exp(-Xmat @ betat))\n",
        "    # gradient\n",
        "    delta = (mu - y).reshape((n,1))\n",
        "    grad = np.sum(np.multiply( np.hstack((delta,delta)),Xmat), axis=0).T\n",
        "    # Hessian\n",
        "    H = Xmat.T @ np.diag(np.multiply(mu,(1-mu))) @ Xmat    \n",
        "    betat = betat - lstsq(H,grad,rcond=None)[0]\n",
        "    print(betat)\n",
        "    \n",
        "plt.plot(x,y, '.') # plot data\n",
        "\n",
        "xx = np.linspace(-1,1,40).reshape((40,1))\n",
        "XXmat = np.hstack( (np.ones((len(xx),1)), xx)) \n",
        "yy = 1/(1 + np.exp(-XXmat @ beta))\n",
        "plt.plot(xx,yy,'r-')                      #true logistic curve\n",
        "yy = 1/(1 + np.exp(-XXmat @ betat));\n",
        "plt.plot(xx,yy,'k--')                               # estimated curve\n"
      ],
      "execution_count": null,
      "outputs": [
        {
          "output_type": "stream",
          "name": "stdout",
          "text": [
            "[-0.57996762  2.68644328]\n",
            "[-1.2453366   4.63387142]\n",
            "[-2.01429132  6.99135857]\n",
            "[-2.83178712  9.67239122]\n",
            "[-3.58878779 12.26956328]\n",
            "[-4.07398379 13.96347105]\n",
            "[-4.20865067 14.4373281 ]\n",
            "[-4.21634608 14.46453848]\n",
            "[-4.21636915 14.46462029]\n"
          ]
        },
        {
          "output_type": "execute_result",
          "data": {
            "text/plain": [
              "[<matplotlib.lines.Line2D at 0x7fdee33b5910>]"
            ]
          },
          "metadata": {},
          "execution_count": 4
        },
        {
          "output_type": "display_data",
          "data": {
            "image/png": "[encoded data removed]",
            "text/plain": [
              "<Figure size 432x288 with 1 Axes>"
            ]
          },
          "metadata": {
            "needs_background": "light"
          }
        }
      ]
    }
  ]
}
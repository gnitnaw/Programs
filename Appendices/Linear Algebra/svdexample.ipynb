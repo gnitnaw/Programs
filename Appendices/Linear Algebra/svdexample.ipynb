{
  "nbformat": 4,
  "nbformat_minor": 0,
  "metadata": {
    "colab": {
      "name": "svdexample.ipynb",
      "provenance": [],
      "collapsed_sections": [],
      "authorship_tag": "ABX9TyMasK4k+EX15BOenVvRNqrB",
      "include_colab_link": true
    },
    "kernelspec": {
      "name": "python3",
      "display_name": "Python 3"
    },
    "language_info": {
      "name": "python"
    }
  },
  "cells": [
    {
      "cell_type": "markdown",
      "metadata": {
        "id": "view-in-github",
        "colab_type": "text"
      },
      "source": [
        "<a href=\"https://colab.research.google.com/github/gnitnaw/Programs/blob/master/Appendices/Linear%20Algebra/svdexample.ipynb\" target=\"_parent\"><img src=\"https://colab.research.google.com/assets/colab-badge.svg\" alt=\"Open In Colab\"/></a>"
      ]
    },
    {
      "cell_type": "code",
      "metadata": {
        "colab": {
          "base_uri": "https://localhost:8080/"
        },
        "id": "NaWHJhVsAblT",
        "outputId": "b60598dc-333c-44f1-903e-41d684be1ff6"
      },
      "source": [
        "!python --version"
      ],
      "execution_count": 1,
      "outputs": [
        {
          "output_type": "stream",
          "name": "stdout",
          "text": [
            "Python 3.7.12\n"
          ]
        }
      ]
    },
    {
      "cell_type": "markdown",
      "metadata": {
        "id": "LetQC4wyAgKh"
      },
      "source": [
        "# Example A.9\n",
        "## Import modules"
      ]
    },
    {
      "cell_type": "code",
      "metadata": {
        "colab": {
          "base_uri": "https://localhost:8080/"
        },
        "id": "-bXKlDOvAoW5",
        "outputId": "6c9802e8-95d1-45a5-dc46-aaface36ff56"
      },
      "source": [
        "import numpy as np\n",
        "from numpy import diag, zeros,vstack\n",
        "from numpy.random import rand, seed\n",
        "from numpy.linalg import svd, pinv\n",
        "import matplotlib.pyplot as plt\n",
        "print(np.__version__)"
      ],
      "execution_count": 2,
      "outputs": [
        {
          "output_type": "stream",
          "name": "stdout",
          "text": [
            "1.19.5\n"
          ]
        }
      ]
    },
    {
      "cell_type": "markdown",
      "metadata": {
        "id": "WmrPRrN05iIF"
      },
      "source": [
        "## Set random seed"
      ]
    },
    {
      "cell_type": "code",
      "metadata": {
        "id": "DdzVvsn_5lIf"
      },
      "source": [
        "seed(12345)"
      ],
      "execution_count": 3,
      "outputs": []
    },
    {
      "cell_type": "markdown",
      "metadata": {
        "id": "KYGyiNcLBI8j"
      },
      "source": [
        "## Original Program"
      ]
    },
    {
      "cell_type": "code",
      "metadata": {
        "colab": {
          "base_uri": "https://localhost:8080/"
        },
        "id": "9OGRmXk9BLh2",
        "outputId": "8a0723c1-4ff0-4002-9450-fbac6e7c6a60"
      },
      "source": [
        "n = 5\n",
        "p = 8\n",
        "X = rand(n,p)\n",
        "print(X)\n",
        "y = rand(n,1)\n",
        "print(y)\n",
        "U,S,VT = svd(X)  \n",
        "print(U)\n",
        "print(S)\n",
        "print(VT)\n",
        "SI  = diag(1/S)\n",
        "# compute pseudo inverse\n",
        "pseudo_inv = VT.T @ vstack((SI, zeros((p-n,n)))) @ U.T\n",
        "b = pseudo_inv @ y\n",
        "#b = pinv(X) @ y   #remove comment to use the built-in pseudo inverse\n",
        "print(X @ b - y)\n"
      ],
      "execution_count": 4,
      "outputs": [
        {
          "output_type": "stream",
          "name": "stdout",
          "text": [
            "[[0.92961609 0.31637555 0.18391881 0.20456028 0.56772503 0.5955447\n",
            "  0.96451452 0.6531771 ]\n",
            " [0.74890664 0.65356987 0.74771481 0.96130674 0.0083883  0.10644438\n",
            "  0.29870371 0.65641118]\n",
            " [0.80981255 0.87217591 0.9646476  0.72368535 0.64247533 0.71745362\n",
            "  0.46759901 0.32558468]\n",
            " [0.43964461 0.72968908 0.99401459 0.67687371 0.79082252 0.17091426\n",
            "  0.02684928 0.80037024]\n",
            " [0.90372254 0.02467621 0.49174732 0.52625517 0.59636601 0.05195755\n",
            "  0.89508953 0.72826618]]\n",
            "[[0.81835001]\n",
            " [0.50022275]\n",
            " [0.81018941]\n",
            " [0.09596853]\n",
            " [0.21895004]]\n",
            "[[-0.40775761 -0.63934792  0.28892349 -0.04952761 -0.58226987]\n",
            " [-0.42479179  0.30247488 -0.53342395 -0.61858731 -0.24671748]\n",
            " [-0.51975634  0.21127923  0.62879581 -0.26817582  0.46681045]\n",
            " [-0.45423002  0.48417748 -0.03062265  0.68971412 -0.28740902]\n",
            " [-0.42049269 -0.46976211 -0.48544844  0.25937026  0.54733567]]\n",
            "[3.72798005 1.28541524 0.78054038 0.65448998 0.32501497]\n",
            "[[-0.4554212  -0.32236693 -0.4163881  -0.37463963 -0.31624927 -0.20398119\n",
            "  -0.30895737 -0.37129585]\n",
            " [-0.3177142   0.40562313  0.43772786  0.30604734 -0.0948694  -0.10785255\n",
            "  -0.64959192 -0.08157741]\n",
            " [-0.09463168  0.32909897 -0.01063555 -0.35210077  0.32005819  0.68665526\n",
            "  -0.02816321 -0.42886455]\n",
            " [-0.28854545 -0.22029169  0.12650983 -0.29872748  0.75557728 -0.23894413\n",
            "  -0.16389135  0.32881386]\n",
            " [ 0.06231994 -0.4139357   0.43753359  0.23088792  0.20429317 -0.18091064\n",
            "   0.20052809 -0.68216766]\n",
            " [-0.38706991 -0.51276166  0.01397876  0.42260278 -0.06105167  0.58704516\n",
            "  -0.04124699  0.24168824]\n",
            " [-0.66288149  0.35191824 -0.02263136  0.13198887 -0.00724136 -0.17423905\n",
            "   0.62298917 -0.0167707 ]\n",
            " [-0.07947848 -0.12884549  0.65326426 -0.55085725 -0.41489334  0.10227334\n",
            "   0.15777771  0.19847918]]\n",
            "[[5.55111512e-16]\n",
            " [1.33226763e-15]\n",
            " [2.22044605e-16]\n",
            " [4.99600361e-16]\n",
            " [7.77156117e-16]]\n"
          ]
        }
      ]
    }
  ]
}
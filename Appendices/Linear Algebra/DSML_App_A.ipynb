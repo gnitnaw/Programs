{
  "nbformat": 4,
  "nbformat_minor": 0,
  "metadata": {
    "colab": {
      "name": "DSML_App_A.ipynb",
      "provenance": [],
      "collapsed_sections": [],
      "authorship_tag": "ABX9TyMwElYuZTwY4o0AoNndmBk6",
      "include_colab_link": true
    },
    "kernelspec": {
      "name": "python3",
      "display_name": "Python 3"
    },
    "language_info": {
      "name": "python"
    }
  },
  "cells": [
    {
      "cell_type": "markdown",
      "metadata": {
        "id": "view-in-github",
        "colab_type": "text"
      },
      "source": [
        "<a href=\"https://colab.research.google.com/github/gnitnaw/Programs/blob/master/Appendices/Linear%20Algebra/DSML_App_A.ipynb\" target=\"_parent\"><img src=\"https://colab.research.google.com/assets/colab-badge.svg\" alt=\"Open In Colab\"/></a>"
      ]
    },
    {
      "cell_type": "code",
      "metadata": {
        "colab": {
          "base_uri": "https://localhost:8080/"
        },
        "id": "NaWHJhVsAblT",
        "outputId": "da2a3c24-8fd2-4770-dbf0-937e43e4976b"
      },
      "source": [
        "!python --version"
      ],
      "execution_count": 1,
      "outputs": [
        {
          "output_type": "stream",
          "name": "stdout",
          "text": [
            "Python 3.7.12\n"
          ]
        }
      ]
    },
    {
      "cell_type": "markdown",
      "metadata": {
        "id": "LetQC4wyAgKh"
      },
      "source": [
        "## Import modules"
      ]
    },
    {
      "cell_type": "code",
      "metadata": {
        "colab": {
          "base_uri": "https://localhost:8080/"
        },
        "id": "-bXKlDOvAoW5",
        "outputId": "dd35c96a-c8f1-47a7-92fb-2f5ae0a72d05"
      },
      "source": [
        "import numpy as np\n",
        "import matplotlib.pyplot as plt\n",
        "print(np.__version__)"
      ],
      "execution_count": 2,
      "outputs": [
        {
          "output_type": "stream",
          "name": "stdout",
          "text": [
            "1.19.5\n"
          ]
        }
      ]
    },
    {
      "cell_type": "markdown",
      "metadata": {
        "id": "WmrPRrN05iIF"
      },
      "source": [
        "## Set random seed"
      ]
    },
    {
      "cell_type": "code",
      "metadata": {
        "id": "DdzVvsn_5lIf"
      },
      "source": [
        "np.random.seed(2468)"
      ],
      "execution_count": 3,
      "outputs": []
    },
    {
      "cell_type": "markdown",
      "metadata": {
        "id": "KYGyiNcLBI8j"
      },
      "source": [
        "## Example A.4"
      ]
    },
    {
      "cell_type": "code",
      "source": [
        "mA = np.array([[1,1],[-0.5, -2]])\n",
        "print(mA)\n",
        "w, v = np.linalg.eig(mA)\n",
        "print(w)\n",
        "print(v)\n",
        "v0 = v[0]/(np.linalg.norm(v[0]))\n",
        "v1 = v[1]/(np.linalg.norm(v[1]))\n",
        "vv0 = np.array([0.98467319, -0.17440959])\n",
        "vv1 = np.array([0.33391584, -0.94260289])\n",
        "vt0 = np.dot(mA, v0)\n",
        "vt1 = np.dot(mA, v1)\n",
        "print(v0)\n",
        "print(v1)"
      ],
      "metadata": {
        "colab": {
          "base_uri": "https://localhost:8080/"
        },
        "id": "ZB39RXwtiNa0",
        "outputId": "6caf7721-df81-41d6-8526-9ad0caac8522"
      },
      "execution_count": 4,
      "outputs": [
        {
          "output_type": "stream",
          "name": "stdout",
          "text": [
            "[[ 1.   1. ]\n",
            " [-0.5 -2. ]]\n",
            "[ 0.82287566 -1.82287566]\n",
            "[[ 0.98467319 -0.33391584]\n",
            " [-0.17440959  0.94260289]]\n",
            "[ 0.94702835 -0.32114997]\n",
            "[-0.1819415   0.98330936]\n"
          ]
        }
      ]
    },
    {
      "cell_type": "code",
      "source": [
        "origin = [0, 0]\n",
        "plt.figure(figsize=(4,6))\n",
        "N = 1000\n",
        "Cir = np.random.uniform(-1, 1, (2, N))\n",
        "Cir /= np.linalg.norm(Cir, axis=0)\n",
        "\n",
        "Ell = np.dot(mA, Cir)\n",
        "plt.quiver(*origin, *v0, color=['r'], angles='xy', scale_units='xy', scale=1)\n",
        "plt.quiver(*origin, *v1, color=['b'], angles='xy', scale_units='xy', scale=1)\n",
        "plt.quiver(*origin, *vt0, color=['r'], angles='xy', scale_units='xy', scale=1)\n",
        "plt.quiver(*origin, *vt1, color=['b'], angles='xy', scale_units='xy', scale=1)\n",
        "plt.scatter(Cir[0], Cir[1])\n",
        "plt.scatter(Ell[0], Ell[1])\n",
        "\n",
        "plt.show()"
      ],
      "metadata": {
        "colab": {
          "base_uri": "https://localhost:8080/",
          "height": 374
        },
        "id": "rEOLtO0Bof7v",
        "outputId": "40e760ca-05b0-4573-d9cb-bcb14b567e99"
      },
      "execution_count": 5,
      "outputs": [
        {
          "output_type": "display_data",
          "data": {
            "image/png": "[encoded data removed]",
            "text/plain": [
              "<Figure size 288x432 with 1 Axes>"
            ]
          },
          "metadata": {
            "needs_background": "light"
          }
        }
      ]
    }
  ]
}
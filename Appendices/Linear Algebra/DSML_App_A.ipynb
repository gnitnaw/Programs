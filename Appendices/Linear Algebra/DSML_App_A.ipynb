{
  "nbformat": 4,
  "nbformat_minor": 0,
  "metadata": {
    "colab": {
      "name": "DSML_App_A.ipynb",
      "provenance": [],
      "collapsed_sections": [],
      "authorship_tag": "ABX9TyOdZHA3/bTvx4UapOsOI5Su",
      "include_colab_link": true
    },
    "kernelspec": {
      "name": "python3",
      "display_name": "Python 3"
    },
    "language_info": {
      "name": "python"
    }
  },
  "cells": [
    {
      "cell_type": "markdown",
      "metadata": {
        "id": "view-in-github",
        "colab_type": "text"
      },
      "source": [
        "<a href=\"https://colab.research.google.com/github/gnitnaw/Programs/blob/master/Appendices/Linear%20Algebra/DSML_App_A.ipynb\" target=\"_parent\"><img src=\"https://colab.research.google.com/assets/colab-badge.svg\" alt=\"Open In Colab\"/></a>"
      ]
    },
    {
      "cell_type": "code",
      "metadata": {
        "colab": {
          "base_uri": "https://localhost:8080/"
        },
        "id": "NaWHJhVsAblT",
        "outputId": "7216926d-c5a4-4f2c-edfb-c40cfb268cb3"
      },
      "source": [
        "!python --version"
      ],
      "execution_count": 1,
      "outputs": [
        {
          "output_type": "stream",
          "name": "stdout",
          "text": [
            "Python 3.7.12\n"
          ]
        }
      ]
    },
    {
      "cell_type": "markdown",
      "metadata": {
        "id": "LetQC4wyAgKh"
      },
      "source": [
        "## Import modules"
      ]
    },
    {
      "cell_type": "code",
      "metadata": {
        "colab": {
          "base_uri": "https://localhost:8080/"
        },
        "id": "-bXKlDOvAoW5",
        "outputId": "f882a189-bb7f-4395-d172-a6386b6d93ab"
      },
      "source": [
        "import numpy as np\n",
        "import matplotlib.pyplot as plt\n",
        "print(np.__version__)"
      ],
      "execution_count": 2,
      "outputs": [
        {
          "output_type": "stream",
          "name": "stdout",
          "text": [
            "1.19.5\n"
          ]
        }
      ]
    },
    {
      "cell_type": "markdown",
      "metadata": {
        "id": "WmrPRrN05iIF"
      },
      "source": [
        "## Set random seed"
      ]
    },
    {
      "cell_type": "code",
      "metadata": {
        "id": "DdzVvsn_5lIf"
      },
      "source": [
        "np.random.seed(2468)"
      ],
      "execution_count": 3,
      "outputs": []
    },
    {
      "cell_type": "markdown",
      "metadata": {
        "id": "KYGyiNcLBI8j"
      },
      "source": [
        "## Example A.1 and reproduce Figure A.1"
      ]
    },
    {
      "cell_type": "code",
      "source": [
        "mA = np.array([[1,1],[-0.5, -2]])\n",
        "print(mA)\n",
        "invA = np.linalg.inv(mA)\n",
        "print(invA)\n",
        "bas0 = np.array([1.,0.])\n",
        "bas1 = np.array([0.,1.])\n",
        "tranBas0 = np.dot(mA, bas0)\n",
        "tranBas1 = np.dot(mA, bas1)\n",
        "print(tranBas0)\n",
        "print(tranBas1)\n",
        "origin = [0, 0]\n",
        "plt.figure(figsize=(4,6))\n",
        "N = 1000\n",
        "Cir = np.random.uniform(-1, 1, (2, N))\n",
        "Cir /= np.linalg.norm(Cir, axis=0)\n",
        "\n",
        "Ell = np.dot(mA, Cir)\n",
        "plt.quiver(*origin, *bas0, color=['r'], angles='xy', scale_units='xy', scale=1)\n",
        "plt.quiver(*origin, *bas1, color=['b'], angles='xy', scale_units='xy', scale=1)\n",
        "plt.quiver(*origin, *tranBas0, color=['r'], angles='xy', scale_units='xy', scale=1)\n",
        "plt.quiver(*origin, *tranBas1, color=['b'], angles='xy', scale_units='xy', scale=1)\n",
        "plt.scatter(Cir[0], Cir[1])\n",
        "plt.scatter(Ell[0], Ell[1])\n",
        "\n",
        "plt.show()"
      ],
      "metadata": {
        "colab": {
          "base_uri": "https://localhost:8080/",
          "height": 483
        },
        "id": "a-NdUy3xn5Cm",
        "outputId": "72078591-61d9-4c9e-f185-bb495b9c5a77"
      },
      "execution_count": 4,
      "outputs": [
        {
          "output_type": "stream",
          "name": "stdout",
          "text": [
            "[[ 1.   1. ]\n",
            " [-0.5 -2. ]]\n",
            "[[ 1.33333333  0.66666667]\n",
            " [-0.33333333 -0.66666667]]\n",
            "[ 1.  -0.5]\n",
            "[ 1. -2.]\n"
          ]
        },
        {
          "output_type": "display_data",
          "data": {
            "image/png": "[encoded data removed]",
            "text/plain": [
              "<Figure size 288x432 with 1 Axes>"
            ]
          },
          "metadata": {
            "needs_background": "light"
          }
        }
      ]
    },
    {
      "cell_type": "markdown",
      "source": [
        "## Example A.4"
      ],
      "metadata": {
        "id": "gXOoks8Hn7ze"
      }
    },
    {
      "cell_type": "code",
      "source": [
        "w, v = np.linalg.eig(mA)\n",
        "print(w)\n",
        "print(v)\n",
        "vv0 = v.T[0]\n",
        "vv1 = v.T[1]\n",
        "vt0 = np.dot(mA, v.T[0])\n",
        "vt1 = np.dot(mA, v.T[1])\n",
        "print(v.T[0])\n",
        "print(v.T[1])\n",
        "print(vt0)\n",
        "print(vt1)"
      ],
      "metadata": {
        "colab": {
          "base_uri": "https://localhost:8080/"
        },
        "id": "ZB39RXwtiNa0",
        "outputId": "fad036bc-2e82-41eb-b4d2-83989f07393c"
      },
      "execution_count": 5,
      "outputs": [
        {
          "output_type": "stream",
          "name": "stdout",
          "text": [
            "[ 0.82287566 -1.82287566]\n",
            "[[ 0.98467319 -0.33391584]\n",
            " [-0.17440959  0.94260289]]\n",
            "[ 0.98467319 -0.17440959]\n",
            "[-0.33391584  0.94260289]\n",
            "[ 0.8102636  -0.14351741]\n",
            "[ 0.60868705 -1.71824787]\n"
          ]
        }
      ]
    },
    {
      "cell_type": "markdown",
      "source": [
        "## Reproduce Figure A.3"
      ],
      "metadata": {
        "id": "mNfCRygucIdJ"
      }
    },
    {
      "cell_type": "code",
      "source": [
        "#origin = [0, 0]\n",
        "plt.figure(figsize=(4,6))\n",
        "#N = 1000\n",
        "#Cir = np.random.uniform(-1, 1, (2, N))\n",
        "#Cir /= np.linalg.norm(Cir, axis=0)\n",
        "\n",
        "#Ell = np.dot(mA, Cir)\n",
        "plt.quiver(*origin, *vv0, color=['r'], angles='xy', scale_units='xy', scale=1)\n",
        "plt.quiver(*origin, *vv1, color=['b'], angles='xy', scale_units='xy', scale=1)\n",
        "plt.quiver(*origin, *vt0, color=['r'], angles='xy', scale_units='xy', scale=1)\n",
        "plt.quiver(*origin, *vt1, color=['b'], angles='xy', scale_units='xy', scale=1)\n",
        "plt.scatter(Cir[0], Cir[1])\n",
        "plt.scatter(Ell[0], Ell[1])\n",
        "\n",
        "plt.show()"
      ],
      "metadata": {
        "colab": {
          "base_uri": "https://localhost:8080/",
          "height": 374
        },
        "id": "rEOLtO0Bof7v",
        "outputId": "1d19873d-833f-41cf-e197-24c0725f0e76"
      },
      "execution_count": 6,
      "outputs": [
        {
          "output_type": "display_data",
          "data": {
            "image/png": "[encoded data removed]",
            "text/plain": [
              "<Figure size 288x432 with 1 Axes>"
            ]
          },
          "metadata": {
            "needs_background": "light"
          }
        }
      ]
    },
    {
      "cell_type": "markdown",
      "source": [
        "## Example A.5"
      ],
      "metadata": {
        "id": "eiguOv5Zq9hr"
      }
    },
    {
      "cell_type": "code",
      "source": [
        "ww, vv = np.linalg.eig(np.dot(mA, mA.T))\n",
        "wws = np.sqrt(ww)\n",
        "print(wws)\n",
        "print(vv)"
      ],
      "metadata": {
        "colab": {
          "base_uri": "https://localhost:8080/"
        },
        "id": "yggWXCmFq9JU",
        "outputId": "47c3710c-95ed-4d0a-821a-c1f76158f079"
      },
      "execution_count": 7,
      "outputs": [
        {
          "output_type": "stream",
          "name": "stdout",
          "text": [
            "[0.61930281 2.42207845]\n",
            "[[-0.83975136  0.54297114]\n",
            " [-0.54297114 -0.83975136]]\n"
          ]
        }
      ]
    },
    {
      "cell_type": "markdown",
      "source": [
        "## Reproduce Figure A.4"
      ],
      "metadata": {
        "id": "tsZxm3kFs0bU"
      }
    },
    {
      "cell_type": "code",
      "source": [
        "vv0 = vv.T[0] * wws[0]\n",
        "vv1 = vv.T[1] * wws[1]\n",
        "print(vv0)\n",
        "print(vv1)\n",
        "plt.figure(figsize=(4,6))\n",
        "plt.xlim(-2, 2)\n",
        "plt.ylim(-3, 3)\n",
        "plt.scatter(Ell[0], Ell[1])\n",
        "plt.quiver(*origin, *vv0, color=['r'], angles='xy', scale_units='xy', scale=1)\n",
        "plt.quiver(*origin, *vv1, color=['b'], angles='xy', scale_units='xy', scale=1)"
      ],
      "metadata": {
        "colab": {
          "base_uri": "https://localhost:8080/",
          "height": 433
        },
        "id": "L6waLmkFtzFB",
        "outputId": "e9f58f6f-e28b-4d87-f2f4-4291bea65ec3"
      },
      "execution_count": 8,
      "outputs": [
        {
          "output_type": "stream",
          "name": "stdout",
          "text": [
            "[-0.52006038 -0.33626356]\n",
            "[ 1.3151187  -2.03394366]\n"
          ]
        },
        {
          "output_type": "execute_result",
          "data": {
            "text/plain": [
              "<matplotlib.quiver.Quiver at 0x7fc19f7a8b10>"
            ]
          },
          "metadata": {},
          "execution_count": 8
        },
        {
          "output_type": "display_data",
          "data": {
            "image/png": "[encoded data removed]",
            "text/plain": [
              "<Figure size 288x432 with 1 Axes>"
            ]
          },
          "metadata": {
            "needs_background": "light"
          }
        }
      ]
    },
    {
      "cell_type": "markdown",
      "source": [
        "## Check the equation of ellipse"
      ],
      "metadata": {
        "id": "becfx4Rsllzu"
      }
    },
    {
      "cell_type": "code",
      "source": [
        "mB = np.array([[17.0/9, 10.0/9],[10.0/9, 8.0/9]])\n",
        "ww, vv = np.linalg.eig(mB)\n",
        "wws = np.sqrt(ww)\n",
        "print(wws)\n",
        "print(vv.T)\n",
        "vv0 = vv.T[0]/wws[0]\n",
        "vv1 = vv.T[1]/wws[1]\n",
        "print(vv0)\n",
        "print(vv1)\n",
        "plt.figure(figsize=(4,6))\n",
        "plt.xlim(-2, 2)\n",
        "plt.ylim(-3, 3)\n",
        "plt.scatter(Ell[0], Ell[1])\n",
        "plt.quiver(*origin, *vv0, color=['r'], angles='xy', scale_units='xy', scale=1)\n",
        "plt.quiver(*origin, *vv1, color=['b'], angles='xy', scale_units='xy', scale=1)"
      ],
      "metadata": {
        "colab": {
          "base_uri": "https://localhost:8080/",
          "height": 487
        },
        "id": "2UvABQLXh6nn",
        "outputId": "52ce191f-2895-4f2f-8912-58cf354b5565"
      },
      "execution_count": 9,
      "outputs": [
        {
          "output_type": "stream",
          "name": "stdout",
          "text": [
            "[1.61471897 0.41286854]\n",
            "[[ 0.83975136  0.54297114]\n",
            " [-0.54297114  0.83975136]]\n",
            "[0.52006038 0.33626356]\n",
            "[-1.3151187   2.03394366]\n"
          ]
        },
        {
          "output_type": "execute_result",
          "data": {
            "text/plain": [
              "<matplotlib.quiver.Quiver at 0x7fc19f7235d0>"
            ]
          },
          "metadata": {},
          "execution_count": 9
        },
        {
          "output_type": "display_data",
          "data": {
            "image/png": "[encoded data removed]",
            "text/plain": [
              "<Figure size 288x432 with 1 Axes>"
            ]
          },
          "metadata": {
            "needs_background": "light"
          }
        }
      ]
    },
    {
      "cell_type": "markdown",
      "source": [
        "## Example A.8"
      ],
      "metadata": {
        "id": "ynfRoJqbh-b2"
      }
    },
    {
      "cell_type": "code",
      "source": [
        "mU, mSigma, mVt = np.linalg.svd(mA)\n",
        "print(mU)\n",
        "print(mSigma)\n",
        "print(mVt)\n",
        "mS = np.array([[mSigma[0],0],[0,mSigma[1]]])\n",
        "print(mU @ mS @ mVt)"
      ],
      "metadata": {
        "colab": {
          "base_uri": "https://localhost:8080/"
        },
        "id": "3DMLgKURiASH",
        "outputId": "e01edab7-8d2c-45a8-e42a-1da052c2d853"
      },
      "execution_count": 15,
      "outputs": [
        {
          "output_type": "stream",
          "name": "stdout",
          "text": [
            "[[-0.54297114  0.83975136]\n",
            " [ 0.83975136  0.54297114]]\n",
            "[2.42207845 0.61930281]\n",
            "[[-0.39752916 -0.91758954]\n",
            " [ 0.91758954 -0.39752916]]\n",
            "[[2.42207845 0.        ]\n",
            " [0.         0.61930281]]\n",
            "[[ 1.   1. ]\n",
            " [-0.5 -2. ]]\n"
          ]
        }
      ]
    }
  ]
}
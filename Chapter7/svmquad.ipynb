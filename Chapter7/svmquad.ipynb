{
  "nbformat": 4,
  "nbformat_minor": 0,
  "metadata": {
    "colab": {
      "name": "svmquad.ipynb",
      "provenance": [],
      "collapsed_sections": [],
      "authorship_tag": "ABX9TyMpjcxWslwCg2PXxELdKpxr",
      "include_colab_link": true
    },
    "kernelspec": {
      "name": "python3",
      "display_name": "Python 3"
    },
    "language_info": {
      "name": "python"
    }
  },
  "cells": [
    {
      "cell_type": "markdown",
      "metadata": {
        "id": "view-in-github",
        "colab_type": "text"
      },
      "source": [
        "<a href=\"https://colab.research.google.com/github/gnitnaw/Programs/blob/master/Chapter7/svmquad.ipynb\" target=\"_parent\"><img src=\"https://colab.research.google.com/assets/colab-badge.svg\" alt=\"Open In Colab\"/></a>"
      ]
    },
    {
      "cell_type": "code",
      "metadata": {
        "colab": {
          "base_uri": "https://localhost:8080/"
        },
        "id": "NaWHJhVsAblT",
        "outputId": "1295ae6f-987e-469e-879b-7c6e980651d2"
      },
      "source": [
        "!python --version\n",
        "!rm svmcirc.csv\n",
        "!wget https://raw.github.com/gnitnaw/Programs/master/Chapter7/svmcirc.csv"
      ],
      "execution_count": 1,
      "outputs": [
        {
          "output_type": "stream",
          "name": "stdout",
          "text": [
            "Python 3.7.12\n",
            "rm: cannot remove 'svmcirc.csv': No such file or directory\n",
            "--2022-02-25 14:25:52--  https://raw.github.com/gnitnaw/Programs/master/Chapter7/svmcirc.csv\n",
            "Resolving raw.github.com (raw.github.com)... 185.199.108.133, 185.199.109.133, 185.199.110.133, ...\n",
            "Connecting to raw.github.com (raw.github.com)|185.199.108.133|:443... connected.\n",
            "HTTP request sent, awaiting response... 301 Moved Permanently\n",
            "Location: https://raw.githubusercontent.com/gnitnaw/Programs/master/Chapter7/svmcirc.csv [following]\n",
            "--2022-02-25 14:25:52--  https://raw.githubusercontent.com/gnitnaw/Programs/master/Chapter7/svmcirc.csv\n",
            "Resolving raw.githubusercontent.com (raw.githubusercontent.com)... 185.199.108.133, 185.199.111.133, 185.199.110.133, ...\n",
            "Connecting to raw.githubusercontent.com (raw.githubusercontent.com)|185.199.108.133|:443... connected.\n",
            "HTTP request sent, awaiting response... 200 OK\n",
            "Length: 994 [text/plain]\n",
            "Saving to: ‘svmcirc.csv’\n",
            "\n",
            "svmcirc.csv         100%[===================>]     994  --.-KB/s    in 0s      \n",
            "\n",
            "2022-02-25 14:25:52 (34.6 MB/s) - ‘svmcirc.csv’ saved [994/994]\n",
            "\n"
          ]
        }
      ]
    },
    {
      "cell_type": "markdown",
      "metadata": {
        "id": "LetQC4wyAgKh"
      },
      "source": [
        "# Example 7.6\n",
        "## Import modules"
      ]
    },
    {
      "cell_type": "code",
      "metadata": {
        "colab": {
          "base_uri": "https://localhost:8080/"
        },
        "id": "-bXKlDOvAoW5",
        "outputId": "51b38dba-e388-429e-8a16-4a819e28c9af"
      },
      "source": [
        "import numpy as np\n",
        "from numpy import genfromtxt\n",
        "from sklearn.svm import SVC\n",
        "import matplotlib.pyplot as plt\n",
        "print(np.__version__)"
      ],
      "execution_count": 2,
      "outputs": [
        {
          "output_type": "stream",
          "name": "stdout",
          "text": [
            "1.21.5\n"
          ]
        }
      ]
    },
    {
      "cell_type": "markdown",
      "metadata": {
        "id": "WmrPRrN05iIF"
      },
      "source": [
        "## Set random seed"
      ]
    },
    {
      "cell_type": "code",
      "metadata": {
        "id": "DdzVvsn_5lIf"
      },
      "source": [
        "np.random.seed(12345)"
      ],
      "execution_count": 3,
      "outputs": []
    },
    {
      "cell_type": "markdown",
      "metadata": {
        "id": "KYGyiNcLBI8j"
      },
      "source": [
        "## Original Program"
      ]
    },
    {
      "cell_type": "code",
      "metadata": {
        "colab": {
          "base_uri": "https://localhost:8080/"
        },
        "id": "9OGRmXk9BLh2",
        "outputId": "bdf262e7-5747-4021-8db1-31e8e3495af1"
      },
      "source": [
        "data = genfromtxt('svmcirc.csv', delimiter=',') \n",
        "x = data[:,[0,1]] #vectors are rows\n",
        "y = data[:,[2]].reshape(len(x),) #labels\n",
        "\n",
        "tmp = np.sum(np.power(x,2),axis=1).reshape((len(x),1))\n",
        "z = np.hstack((x,tmp))\n",
        "\n",
        "clf = SVC(C = np.inf, kernel='linear')\n",
        "clf.fit(z,y)\n",
        "\n",
        "print(\"Support Vectors \\n\", clf.support_vectors_)\n",
        "print(\"Support Vector Labels \",y[clf.support_])\n",
        "print(\"Alpha \",clf.dual_coef_)\n",
        "print(\"Bias \",clf.intercept_)"
      ],
      "execution_count": 4,
      "outputs": [
        {
          "output_type": "stream",
          "name": "stdout",
          "text": [
            "Support Vectors \n",
            " [[ 0.038758    0.53796     0.29090314]\n",
            " [-0.49116    -0.20563     0.28352184]\n",
            " [-0.45068    -0.04797     0.20541358]\n",
            " [-0.061107   -0.41651     0.17721465]]\n",
            "Support Vector Labels  [-1. -1.  1.  1.]\n",
            "Alpha  [[ -46.49249413 -249.01807328  265.31805855   30.19250886]]\n",
            "Bias  [5.617891]\n"
          ]
        }
      ]
    },
    {
      "cell_type": "markdown",
      "source": [
        "## svmkern.py"
      ],
      "metadata": {
        "id": "ZmvggMUXRYyg"
      }
    },
    {
      "cell_type": "code",
      "source": [
        "def mykernel(U,V):    \n",
        "    tmpU = np.sum(np.power(U,2),axis=1).reshape((len(U),1))\n",
        "    U = np.hstack((U,tmpU))\n",
        "    tmpV = np.sum(np.power(V,2),axis=1).reshape((len(V),1))\n",
        "    V = np.hstack((V,tmpV))\n",
        "    K = U @ V.T\n",
        "    print(K.shape)\n",
        "    return K\n",
        "\n",
        "# read in the data\n",
        "inp = genfromtxt('svmcirc.csv', delimiter=',')\n",
        "data = inp[:,[0,1]] #vectors are rows\n",
        "y = inp[:,[2]].reshape(len(data),) #labels\n",
        "\n",
        "#clf = SVC(C = np.inf, kernel=mykernel, gamma='auto')\n",
        "clf = SVC(C = np.inf, kernel=\"rbf\", gamma='scale')\n",
        "\n",
        "clf.fit(data,y)\n",
        "\n",
        "\n",
        "print(\"Support Vectors \\n\", clf.support_vectors_)\n",
        "print(\"Support Vector Labels \",y[clf.support_])\n",
        "print(\"Nu\",clf.dual_coef_)\n",
        "print(\"Bias \",clf.intercept_)\n",
        "\n",
        "# plot\n",
        "d = 0.001\n",
        "\n",
        "fig = plt.figure(figsize=(5,5))\n",
        "\n",
        "x_min, x_max = -1,1\n",
        "y_min, y_max = -1,1\n",
        "xx, yy = np.meshgrid(np.arange(x_min, x_max, d), np.arange(y_min, y_max, d))\n",
        "\n",
        "plt.plot(data[clf.support_,0],data[clf.support_,1],'go')\n",
        "plt.plot(data[y==1,0],data[y==1,1],'b.')\n",
        "plt.plot(data[y==-1,0],data[y==-1,1],'rx')\n",
        "Z = clf.predict(np.c_[xx.ravel(), yy.ravel()])\n",
        "Z = Z.reshape(xx.shape)\n",
        "plt.contour(xx, yy, Z,colors =\"k\")\n",
        "plt.show()\n",
        "\n",
        "# %%%%%%%%%%%%%%%%%%%%%%%%%%%%%%%%%%%%%%%%%%%%%%%%%%%%%%%%%%%\n",
        "fig.savefig(\"rbf.pdf\", bbox_inches='tight')\n",
        "# %%%%%%%%%%%%%%%%%%%%%%%%%%%%%%%%%%%%%%%%%%%%%%%%%%%%%%%%%%%"
      ],
      "metadata": {
        "colab": {
          "base_uri": "https://localhost:8080/",
          "height": 565
        },
        "id": "LR03f3UnRbeN",
        "outputId": "4d11d848-d84b-4471-bfe0-820c39f7fc98"
      },
      "execution_count": 5,
      "outputs": [
        {
          "output_type": "stream",
          "name": "stdout",
          "text": [
            "Support Vectors \n",
            " [[ 0.038758  0.53796 ]\n",
            " [-0.49116  -0.20563 ]\n",
            " [ 0.50858   0.15759 ]\n",
            " [-0.43742   0.38537 ]\n",
            " [ 0.34015  -0.57397 ]\n",
            " [-0.45068  -0.04797 ]\n",
            " [-0.40977  -0.17625 ]\n",
            " [ 0.028401  0.41137 ]]\n",
            "Support Vector Labels  [-1. -1. -1. -1. -1.  1.  1.  1.]\n",
            "Nu [[ -7.79068185 -68.11518916  -1.51725004  -7.03376815  -0.57034285\n",
            "   15.2489841   60.1202509    9.65799706]]\n",
            "Bias  [-3.9763643]\n"
          ]
        },
        {
          "output_type": "display_data",
          "data": {
            "image/png": "[encoded data removed]",
            "text/plain": [
              "<Figure size 360x360 with 1 Axes>"
            ]
          },
          "metadata": {
            "needs_background": "light"
          }
        }
      ]
    }
  ]
}
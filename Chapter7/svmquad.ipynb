{
  "nbformat": 4,
  "nbformat_minor": 0,
  "metadata": {
    "colab": {
      "name": "svmquad.ipynb",
      "provenance": [],
      "collapsed_sections": [],
      "authorship_tag": "ABX9TyPm34leJexcLyH2leYRynLs",
      "include_colab_link": true
    },
    "kernelspec": {
      "name": "python3",
      "display_name": "Python 3"
    },
    "language_info": {
      "name": "python"
    }
  },
  "cells": [
    {
      "cell_type": "markdown",
      "metadata": {
        "id": "view-in-github",
        "colab_type": "text"
      },
      "source": [
        "<a href=\"https://colab.research.google.com/github/gnitnaw/Programs/blob/master/Chapter7/svmquad.ipynb\" target=\"_parent\"><img src=\"https://colab.research.google.com/assets/colab-badge.svg\" alt=\"Open In Colab\"/></a>"
      ]
    },
    {
      "cell_type": "code",
      "metadata": {
        "colab": {
          "base_uri": "https://localhost:8080/"
        },
        "id": "NaWHJhVsAblT",
        "outputId": "cfcaf6b4-0fd0-4952-9e65-16596fab99e0"
      },
      "source": [
        "!python --version\n",
        "!rm svmcirc.csv\n",
        "!wget https://raw.github.com/gnitnaw/Programs/master/Chapter7/svmcirc.csv"
      ],
      "execution_count": 5,
      "outputs": [
        {
          "output_type": "stream",
          "name": "stdout",
          "text": [
            "Python 3.7.12\n",
            "rm: cannot remove 'svmcirc.csv': No such file or directory\n",
            "--2022-02-25 10:40:19--  https://raw.github.com/gnitnaw/Programs/master/Chapter7/svmcirc.csv\n",
            "Resolving raw.github.com (raw.github.com)... 185.199.109.133, 185.199.110.133, 185.199.111.133, ...\n",
            "Connecting to raw.github.com (raw.github.com)|185.199.109.133|:443... connected.\n",
            "HTTP request sent, awaiting response... 301 Moved Permanently\n",
            "Location: https://raw.githubusercontent.com/gnitnaw/Programs/master/Chapter7/svmcirc.csv [following]\n",
            "--2022-02-25 10:40:19--  https://raw.githubusercontent.com/gnitnaw/Programs/master/Chapter7/svmcirc.csv\n",
            "Resolving raw.githubusercontent.com (raw.githubusercontent.com)... 185.199.108.133, 185.199.109.133, 185.199.110.133, ...\n",
            "Connecting to raw.githubusercontent.com (raw.githubusercontent.com)|185.199.108.133|:443... connected.\n",
            "HTTP request sent, awaiting response... 200 OK\n",
            "Length: 994 [text/plain]\n",
            "Saving to: ‘svmcirc.csv’\n",
            "\n",
            "svmcirc.csv         100%[===================>]     994  --.-KB/s    in 0s      \n",
            "\n",
            "2022-02-25 10:40:19 (51.2 MB/s) - ‘svmcirc.csv’ saved [994/994]\n",
            "\n"
          ]
        }
      ]
    },
    {
      "cell_type": "markdown",
      "metadata": {
        "id": "LetQC4wyAgKh"
      },
      "source": [
        "# Example 7.6\n",
        "## Import modules"
      ]
    },
    {
      "cell_type": "code",
      "metadata": {
        "colab": {
          "base_uri": "https://localhost:8080/"
        },
        "id": "-bXKlDOvAoW5",
        "outputId": "71b9b73a-d0db-41b1-cd7a-f849a4c9f496"
      },
      "source": [
        "import numpy as np\n",
        "from numpy import genfromtxt\n",
        "from sklearn.svm import SVC\n",
        "print(np.__version__)"
      ],
      "execution_count": 6,
      "outputs": [
        {
          "output_type": "stream",
          "name": "stdout",
          "text": [
            "1.21.5\n"
          ]
        }
      ]
    },
    {
      "cell_type": "markdown",
      "metadata": {
        "id": "WmrPRrN05iIF"
      },
      "source": [
        "## Set random seed"
      ]
    },
    {
      "cell_type": "code",
      "metadata": {
        "id": "DdzVvsn_5lIf"
      },
      "source": [
        "np.random.seed(12345)"
      ],
      "execution_count": 7,
      "outputs": []
    },
    {
      "cell_type": "markdown",
      "metadata": {
        "id": "KYGyiNcLBI8j"
      },
      "source": [
        "## Original Program"
      ]
    },
    {
      "cell_type": "code",
      "metadata": {
        "colab": {
          "base_uri": "https://localhost:8080/"
        },
        "id": "9OGRmXk9BLh2",
        "outputId": "5f0967ff-06c9-448a-a673-ce21a711ac5b"
      },
      "source": [
        "data = genfromtxt('svmcirc.csv', delimiter=',') \n",
        "x = data[:,[0,1]] #vectors are rows\n",
        "y = data[:,[2]].reshape(len(x),) #labels\n",
        "\n",
        "tmp = np.sum(np.power(x,2),axis=1).reshape((len(x),1))\n",
        "z = np.hstack((x,tmp))\n",
        "\n",
        "clf = SVC(C = np.inf, kernel='linear')\n",
        "clf.fit(z,y)\n",
        "\n",
        "print(\"Support Vectors \\n\", clf.support_vectors_)\n",
        "print(\"Support Vector Labels \",y[clf.support_])\n",
        "print(\"Alpha \",clf.dual_coef_)\n",
        "print(\"Bias \",clf.intercept_)"
      ],
      "execution_count": 8,
      "outputs": [
        {
          "output_type": "stream",
          "name": "stdout",
          "text": [
            "Support Vectors \n",
            " [[ 0.038758    0.53796     0.29090314]\n",
            " [-0.49116    -0.20563     0.28352184]\n",
            " [-0.45068    -0.04797     0.20541358]\n",
            " [-0.061107   -0.41651     0.17721465]]\n",
            "Support Vector Labels  [-1. -1.  1.  1.]\n",
            "Alpha  [[ -46.49249413 -249.01807328  265.31805855   30.19250886]]\n",
            "Bias  [5.617891]\n"
          ]
        }
      ]
    }
  ]
}
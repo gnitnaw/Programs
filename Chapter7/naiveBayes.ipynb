{
  "nbformat": 4,
  "nbformat_minor": 0,
  "metadata": {
    "colab": {
      "name": "naiveBayes.ipynb",
      "provenance": [],
      "collapsed_sections": [],
      "authorship_tag": "ABX9TyPGUaxhLagAd6JMF+Zsu5ut",
      "include_colab_link": true
    },
    "kernelspec": {
      "name": "python3",
      "display_name": "Python 3"
    },
    "language_info": {
      "name": "python"
    }
  },
  "cells": [
    {
      "cell_type": "markdown",
      "metadata": {
        "id": "view-in-github",
        "colab_type": "text"
      },
      "source": [
        "<a href=\"https://colab.research.google.com/github/gnitnaw/Programs/blob/master/Chapter7/naiveBayes.ipynb\" target=\"_parent\"><img src=\"https://colab.research.google.com/assets/colab-badge.svg\" alt=\"Open In Colab\"/></a>"
      ]
    },
    {
      "cell_type": "code",
      "metadata": {
        "colab": {
          "base_uri": "https://localhost:8080/"
        },
        "id": "NaWHJhVsAblT",
        "outputId": "8c4d95f2-7dc9-4215-da0a-b992243ad9d0"
      },
      "source": [
        "!python --version"
      ],
      "execution_count": 1,
      "outputs": [
        {
          "output_type": "stream",
          "name": "stdout",
          "text": [
            "Python 3.7.12\n"
          ]
        }
      ]
    },
    {
      "cell_type": "markdown",
      "metadata": {
        "id": "LetQC4wyAgKh"
      },
      "source": [
        "# Example 7.1\n",
        "## Import modules"
      ]
    },
    {
      "cell_type": "code",
      "metadata": {
        "colab": {
          "base_uri": "https://localhost:8080/"
        },
        "id": "-bXKlDOvAoW5",
        "outputId": "3f47790a-794c-4bf2-f5a3-404946afc6c0"
      },
      "source": [
        "import numpy as np\n",
        "import matplotlib.pyplot as plt\n",
        "print(np.__version__)"
      ],
      "execution_count": 2,
      "outputs": [
        {
          "output_type": "stream",
          "name": "stdout",
          "text": [
            "1.21.5\n"
          ]
        }
      ]
    },
    {
      "cell_type": "markdown",
      "metadata": {
        "id": "WmrPRrN05iIF"
      },
      "source": [
        "## Set random seed"
      ]
    },
    {
      "cell_type": "code",
      "metadata": {
        "id": "DdzVvsn_5lIf"
      },
      "source": [
        "np.random.seed(1357)"
      ],
      "execution_count": 3,
      "outputs": []
    },
    {
      "cell_type": "markdown",
      "metadata": {
        "id": "KYGyiNcLBI8j"
      },
      "source": [
        "## Original Program"
      ]
    },
    {
      "cell_type": "code",
      "metadata": {
        "colab": {
          "base_uri": "https://localhost:8080/"
        },
        "id": "9OGRmXk9BLh2",
        "outputId": "f41ec373-0198-4b8b-adaa-b74bce2e44f9"
      },
      "source": [
        "x = np.array([1.67,2,4.23]).reshape((1,3))\n",
        "mu = np.array([1.6, 2.4, 4.3,\n",
        "               1.5, 2.9, 6.1,\n",
        "               1.8, 2.5, 4.2,\n",
        "               1.1, 3.1, 5.6]).reshape((4,3))\n",
        "sig = np.array([0.1, 0.5, 0.2,\n",
        "                0.2, 0.6, 0.9,\n",
        "                0.3, 0.3, 0.3,\n",
        "                0.2, 0.7, 0.3]).reshape((4,3))\n",
        "f = lambda y: 1/np.prod(sig[y,:]) * np.exp(\n",
        "      -0.5*np.sum((x-mu[y,:])**2/sig[y,:]**2));\n",
        "for y in range(0,4):\n",
        "    print('{:3.2e}'.format(f(y)))"
      ],
      "execution_count": 4,
      "outputs": [
        {
          "output_type": "stream",
          "name": "stdout",
          "text": [
            "5.35e+01\n",
            "2.42e-01\n",
            "8.37e+00\n",
            "3.53e-06\n"
          ]
        }
      ]
    }
  ]
}